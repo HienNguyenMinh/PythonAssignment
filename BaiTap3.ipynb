{
  "metadata": {
    "kernelspec": {
      "language": "python",
      "display_name": "Python 3",
      "name": "python3"
    },
    "language_info": {
      "pygments_lexer": "ipython3",
      "nbconvert_exporter": "python",
      "version": "3.6.4",
      "file_extension": ".py",
      "codemirror_mode": {
        "name": "ipython",
        "version": 3
      },
      "name": "python",
      "mimetype": "text/x-python"
    },
    "colab": {
      "provenance": [],
      "include_colab_link": true
    }
  },
  "nbformat_minor": 0,
  "nbformat": 4,
  "cells": [
    {
      "cell_type": "markdown",
      "metadata": {
        "id": "view-in-github",
        "colab_type": "text"
      },
      "source": [
        "<a href=\"https://colab.research.google.com/github/HienNguyenMinh/PythonAssignment/blob/main/BaiTap3.ipynb\" target=\"_parent\"><img src=\"https://colab.research.google.com/assets/colab-badge.svg\" alt=\"Open In Colab\"/></a>"
      ]
    },
    {
      "cell_type": "markdown",
      "source": [
        "<a id='0'></a>\n",
        "# <p style=\"background-color:skyblue; font-family:newtimeroman; font-size:250%; text-align:center; border-radius: 15px 50px;\">M5 Forecasting🖋📝 - EDA📚 & Model Building🎯 </p>"
      ],
      "metadata": {
        "id": "agNHDCUHFGbl"
      }
    },
    {
      "cell_type": "markdown",
      "source": [
        "\n",
        "<a id='1'></a>\n",
        "# <p style=\"background-color:red; font-family:newtimeroman; font-size:120%; text-align:center; border-radius: 10px 25px;\">Table of Content</p>\n",
        "* [Overview 🧐](#overview)\n",
        "* [Importing Necessary Libraries](#libraries)\n",
        "* [Load the data 📃](#load)\n",
        "* [Data Exploration 📊](#explore)\n",
        "* [Data Processing and Analysis 📷](#processing)\n",
        "* [Model Training  🌒](#mt)\n",
        "    * [Hyperparameter Tuning](#ht)\n",
        "\n",
        "\n",
        "<a id=\"overview\"></a>\n",
        "# Overview 📃\n",
        "\n",
        "Note: This is one of the two complementary competitions that together comprise the M5 forecasting challenge. Can you estimate, as precisely as possible, the point forecasts of the unit sales of various products sold in the USA by Walmart? If you are interested in estimating the uncertainty distribution of the realized values of the same series, be sure to check out its companion competition\n",
        "\n",
        "How much camping gear will one store sell each month in a year? To the uninitiated, calculating sales at this level may seem as difficult as predicting the weather. Both types of forecasting rely on science and historical data. While a wrong weather forecast may result in you carrying around an umbrella on a sunny day, inaccurate business forecasts could result in actual or opportunity losses. In this competition, in addition to traditional forecasting methods you’re also challenged to use machine learning to improve forecast accuracy.\n",
        "\n",
        "The Makridakis Open Forecasting Center (MOFC) at the University of Nicosia conducts cutting-edge forecasting research and provides business forecast training. It helps companies achieve accurate predictions, estimate the levels of uncertainty, avoiding costly mistakes, and apply best forecasting practices. The MOFC is well known for its Makridakis Competitions, the first of which ran in the 1980s.\n",
        "\n",
        "In this competition, the fifth iteration, you will use hierarchical sales data from Walmart, the world’s largest company by revenue, to forecast daily sales for the next 28 days. The data, covers stores in three US States (California, Texas, and Wisconsin) and includes item level, department, product categories, and store details. In addition, it has explanatory variables such as price, promotions, day of the week, and special events. Together, this robust dataset can be used to improve forecasting accuracy.\n",
        "\n",
        "If successful, your work will continue to advance the theory and practice of forecasting. The methods used can be applied in various business areas, such as setting up appropriate inventory or service levels. Through its business support and training, the MOFC will help distribute the tools and knowledge so others can achieve more accurate and better calibrated forecasts, reduce waste and be able to appreciate uncertainty and its risk implications.\n",
        "\n",
        "Acknowledgements\n",
        "Additional thanks go to other partner organizations and prize sponsors, National Technical University of Athens (NTUA), INSEAD, Google, Uber and IIF."
      ],
      "metadata": {
        "id": "QNq8HkCsFGbq"
      }
    },
    {
      "cell_type": "markdown",
      "source": [
        "<a id='libraries'></a>\n",
        "# <p style=\"background-color:skyblue; font-family:newtimeroman; font-size:250%; text-align:center; border-radius: 15px 50px;\">1. Importing necessary modules and libraries📚</p>"
      ],
      "metadata": {
        "id": "PaR9TR73FGbt"
      }
    },
    {
      "cell_type": "code",
      "source": [
        "# Tải các thư viện cần dùng. Dùng dòng lệnh: import <tên_module> hoặc import <tên_module> as định_danh\n",
        "#Tải các hàm, dùng dòng lệnh: from <tên_module> import <tên_hàm>\n",
        "from plotly.subplots import make_subplots\n",
        "import plotly.express as px\n",
        "import plotly.graph_objects as go\n",
        "import plotly.figure_factory as ff\n",
        "from statsmodels.tsa.arima_model import ARIMA\n",
        "from statsmodels.tsa.api import ExponentialSmoothing, SimpleExpSmoothing, Holt\n",
        "from tqdm.notebook import tqdm as tqdm\n",
        "\n",
        "import plotly.graph_objs as go #visualization library\n",
        "from statsmodels.graphics.tsaplots import plot_acf, plot_pacf #autocorrelation test\n",
        "import statsmodels.api as sm\n",
        "import matplotlib.pyplot as plt\n",
        "from statsmodels.tsa.stattools import adfuller #stationarity test\n",
        "from statsmodels.tsa.statespace.sarimax import SARIMAX \n",
        "from datetime import datetime, timedelta\n",
        "import statsmodels.api as sm\n",
        "import gc\n",
        "from pylab import rcParams\n",
        "import random\n",
        "import os\n",
        "import time\n",
        "import matplotlib.pyplot as plt\n",
        "import matplotlib.dates as mdates\n",
        "import seaborn as sns\n",
        "import gc\n",
        "import lightgbm as lgb\n",
        "import time\n",
        "import numpy as np\n",
        "import pandas as pd\n",
        "import os\n",
        "import time\n",
        "import matplotlib.dates as mdates\n",
        "import gc\n",
        "import lightgbm as lgb\n",
        "import time\n",
        "\n",
        "from sklearn.preprocessing import LabelEncoder\n",
        "from sklearn.preprocessing import MinMaxScaler\n",
        "from xgboost import XGBRegressor\n",
        "import multiprocessing as mp\n",
        "import warnings\n",
        "warnings.filterwarnings(\"ignore\")\n",
        "\n",
        "%matplotlib inline"
      ],
      "metadata": {
        "_uuid": "8f2839f25d086af736a60e9eeb907d3b93b6e0e5",
        "_cell_guid": "b1076dfc-b9ad-4769-8c92-a6c4dae69d19",
        "execution": {
          "iopub.status.busy": "2021-07-26T10:07:20.262665Z",
          "iopub.execute_input": "2021-07-26T10:07:20.263175Z",
          "iopub.status.idle": "2021-07-26T10:07:22.216013Z",
          "shell.execute_reply.started": "2021-07-26T10:07:20.263129Z",
          "shell.execute_reply": "2021-07-26T10:07:22.214655Z"
        },
        "trusted": true,
        "id": "X0MPK70QFGbu"
      },
      "execution_count": 1,
      "outputs": []
    },
    {
      "cell_type": "markdown",
      "source": [
        "<a id='load'></a>\n",
        "# <p style=\"background-color:skyblue; font-family:newtimeroman; font-size:250%; text-align:center; border-radius: 15px 50px;\">Load the data</p>"
      ],
      "metadata": {
        "id": "A1aZ5_2jFGbw"
      }
    },
    {
      "cell_type": "code",
      "source": [
        "#Tải các tệp dữ liệu từ Google Drive về Colab\n",
        "#Install gdown\n",
        "!pip uninstall gdown -y && pip install gdown\n",
        "#Tạo một folder \"DataSet\" trên Colab\n",
        "!rm -rf /content/M5Forecasting\n",
        "!mkdir M5Forecasting\n",
        "#Tải các tệp dữ liệu lớn từ Google Drive\n",
        "!gdown --folder https://drive.google.com/drive/folders/1YgxRFChKTJ5EHStqR_dNvJCd_2HibWll?usp=sharing -O /content/M5Forecasting"
      ],
      "metadata": {
        "colab": {
          "base_uri": "https://localhost:8080/"
        },
        "id": "yGK_06E2F1Zj",
        "outputId": "a6362324-fbfe-4640-bfc3-01d666ffff33"
      },
      "execution_count": 2,
      "outputs": [
        {
          "output_type": "stream",
          "name": "stdout",
          "text": [
            "Found existing installation: gdown 4.4.0\n",
            "Uninstalling gdown-4.4.0:\n",
            "  Successfully uninstalled gdown-4.4.0\n",
            "Looking in indexes: https://pypi.org/simple, https://us-python.pkg.dev/colab-wheels/public/simple/\n",
            "Collecting gdown\n",
            "  Downloading gdown-4.5.3.tar.gz (14 kB)\n",
            "  Installing build dependencies ... \u001b[?25l\u001b[?25hdone\n",
            "  Getting requirements to build wheel ... \u001b[?25l\u001b[?25hdone\n",
            "    Preparing wheel metadata ... \u001b[?25l\u001b[?25hdone\n",
            "Requirement already satisfied: six in /usr/local/lib/python3.7/dist-packages (from gdown) (1.15.0)\n",
            "Requirement already satisfied: filelock in /usr/local/lib/python3.7/dist-packages (from gdown) (3.8.0)\n",
            "Requirement already satisfied: requests[socks] in /usr/local/lib/python3.7/dist-packages (from gdown) (2.23.0)\n",
            "Requirement already satisfied: tqdm in /usr/local/lib/python3.7/dist-packages (from gdown) (4.64.1)\n",
            "Requirement already satisfied: beautifulsoup4 in /usr/local/lib/python3.7/dist-packages (from gdown) (4.6.3)\n",
            "Requirement already satisfied: chardet<4,>=3.0.2 in /usr/local/lib/python3.7/dist-packages (from requests[socks]->gdown) (3.0.4)\n",
            "Requirement already satisfied: certifi>=2017.4.17 in /usr/local/lib/python3.7/dist-packages (from requests[socks]->gdown) (2022.9.24)\n",
            "Requirement already satisfied: urllib3!=1.25.0,!=1.25.1,<1.26,>=1.21.1 in /usr/local/lib/python3.7/dist-packages (from requests[socks]->gdown) (1.24.3)\n",
            "Requirement already satisfied: idna<3,>=2.5 in /usr/local/lib/python3.7/dist-packages (from requests[socks]->gdown) (2.10)\n",
            "Requirement already satisfied: PySocks!=1.5.7,>=1.5.6 in /usr/local/lib/python3.7/dist-packages (from requests[socks]->gdown) (1.7.1)\n",
            "Building wheels for collected packages: gdown\n",
            "  Building wheel for gdown (PEP 517) ... \u001b[?25l\u001b[?25hdone\n",
            "  Created wheel for gdown: filename=gdown-4.5.3-py3-none-any.whl size=14841 sha256=35678767d3691e01180ed8f6ad89e949c9ad9909614be0be012182930adbeba3\n",
            "  Stored in directory: /root/.cache/pip/wheels/94/8d/0b/bdcd83555c3555f91a33f6c2384428d9f163c7d75ab0d272b4\n",
            "Successfully built gdown\n",
            "Installing collected packages: gdown\n",
            "Successfully installed gdown-4.5.3\n",
            "Retrieving folder list\n",
            "Processing file 1nJoIt6-nl7YOgqusRLxUZTFgOa1EmsW0 calendar.csv\n",
            "Processing file 1cuEGsxjYBISrMMq8d52um_MzGTZcqyTq sales_train_evaluation.csv\n",
            "Processing file 1swX4_vKU7hl6wmLQjod_EUFf3ztNgdq2 sales_train_validation.csv\n",
            "Processing file 1GCf2ElYJR4Z6tBFD1BbhrvQE75wvwB1Y sample_submission.csv\n",
            "Processing file 1WVPd8CnbqF65IBT2gBxLBk4yyCiJ8Psg sell_prices.csv\n",
            "Retrieving folder list completed\n",
            "Building directory structure\n",
            "Building directory structure completed\n",
            "Downloading...\n",
            "From: https://drive.google.com/uc?id=1nJoIt6-nl7YOgqusRLxUZTFgOa1EmsW0\n",
            "To: /content/M5Forecasting/calendar.csv\n",
            "100% 103k/103k [00:00<00:00, 71.1MB/s]\n",
            "Downloading...\n",
            "From: https://drive.google.com/uc?id=1cuEGsxjYBISrMMq8d52um_MzGTZcqyTq\n",
            "To: /content/M5Forecasting/sales_train_evaluation.csv\n",
            "100% 122M/122M [00:00<00:00, 134MB/s]\n",
            "Downloading...\n",
            "From: https://drive.google.com/uc?id=1swX4_vKU7hl6wmLQjod_EUFf3ztNgdq2\n",
            "To: /content/M5Forecasting/sales_train_validation.csv\n",
            "100% 120M/120M [00:01<00:00, 119MB/s]\n",
            "Downloading...\n",
            "From: https://drive.google.com/uc?id=1GCf2ElYJR4Z6tBFD1BbhrvQE75wvwB1Y\n",
            "To: /content/M5Forecasting/sample_submission.csv\n",
            "100% 5.23M/5.23M [00:00<00:00, 25.9MB/s]\n",
            "Downloading...\n",
            "From: https://drive.google.com/uc?id=1WVPd8CnbqF65IBT2gBxLBk4yyCiJ8Psg\n",
            "To: /content/M5Forecasting/sell_prices.csv\n",
            "100% 203M/203M [00:01<00:00, 140MB/s]\n",
            "Download completed\n"
          ]
        }
      ]
    },
    {
      "cell_type": "code",
      "source": [
        "#Đọc dữ liệu từ các file *.csv bằng hàm read_csv() của pandas\n",
        "calender = pd.read_csv('/content/M5Forecasting/calendar.csv')\n",
        "train_sales = pd.read_csv('/content/M5Forecasting/sales_train_evaluation.csv')\n",
        "df_val = pd.read_csv('/content/M5Forecasting/sales_train_validation.csv')\n",
        "sell_prices = pd.read_csv('/content/M5Forecasting/sell_prices.csv')"
      ],
      "metadata": {
        "execution": {
          "iopub.status.busy": "2021-07-26T10:07:22.223325Z",
          "iopub.execute_input": "2021-07-26T10:07:22.223648Z",
          "iopub.status.idle": "2021-07-26T10:07:37.427901Z",
          "shell.execute_reply.started": "2021-07-26T10:07:22.223617Z",
          "shell.execute_reply": "2021-07-26T10:07:37.426856Z"
        },
        "trusted": true,
        "id": "jDSK9EhDFGbw"
      },
      "execution_count": 3,
      "outputs": []
    },
    {
      "cell_type": "markdown",
      "source": [
        "### Inspecting Data"
      ],
      "metadata": {
        "id": "-DXJof-VFGbw"
      }
    },
    {
      "cell_type": "code",
      "source": [
        "# In đầy đủ sơ lược dataframe \n",
        "train_sales.info()"
      ],
      "metadata": {
        "execution": {
          "iopub.status.busy": "2021-07-26T10:07:37.429373Z",
          "iopub.execute_input": "2021-07-26T10:07:37.429739Z",
          "iopub.status.idle": "2021-07-26T10:07:37.529837Z",
          "shell.execute_reply.started": "2021-07-26T10:07:37.429704Z",
          "shell.execute_reply": "2021-07-26T10:07:37.52814Z"
        },
        "trusted": true,
        "colab": {
          "base_uri": "https://localhost:8080/"
        },
        "id": "fpA0LmlXFGbx",
        "outputId": "06ee3605-a5f6-41ce-f085-0c429f1f9534"
      },
      "execution_count": 6,
      "outputs": [
        {
          "output_type": "stream",
          "name": "stdout",
          "text": [
            "<class 'pandas.core.frame.DataFrame'>\n",
            "RangeIndex: 30490 entries, 0 to 30489\n",
            "Columns: 1947 entries, id to d_1941\n",
            "dtypes: int64(1941), object(6)\n",
            "memory usage: 452.9+ MB\n"
          ]
        }
      ]
    },
    {
      "cell_type": "code",
      "source": [
        "# In đầy đủ sơ lược dataframe \n",
        "calender.info()\n"
      ],
      "metadata": {
        "execution": {
          "iopub.status.busy": "2021-07-26T10:07:37.531856Z",
          "iopub.execute_input": "2021-07-26T10:07:37.532328Z",
          "iopub.status.idle": "2021-07-26T10:07:37.551474Z",
          "shell.execute_reply.started": "2021-07-26T10:07:37.532284Z",
          "shell.execute_reply": "2021-07-26T10:07:37.549994Z"
        },
        "trusted": true,
        "colab": {
          "base_uri": "https://localhost:8080/"
        },
        "id": "9rVikXlZFGbx",
        "outputId": "e5685a89-be75-40ab-9a46-16eeb1468ff5"
      },
      "execution_count": 7,
      "outputs": [
        {
          "output_type": "stream",
          "name": "stdout",
          "text": [
            "<class 'pandas.core.frame.DataFrame'>\n",
            "RangeIndex: 1969 entries, 0 to 1968\n",
            "Data columns (total 14 columns):\n",
            " #   Column        Non-Null Count  Dtype \n",
            "---  ------        --------------  ----- \n",
            " 0   date          1969 non-null   object\n",
            " 1   wm_yr_wk      1969 non-null   int64 \n",
            " 2   weekday       1969 non-null   object\n",
            " 3   wday          1969 non-null   int64 \n",
            " 4   month         1969 non-null   int64 \n",
            " 5   year          1969 non-null   int64 \n",
            " 6   d             1969 non-null   object\n",
            " 7   event_name_1  162 non-null    object\n",
            " 8   event_type_1  162 non-null    object\n",
            " 9   event_name_2  5 non-null      object\n",
            " 10  event_type_2  5 non-null      object\n",
            " 11  snap_CA       1969 non-null   int64 \n",
            " 12  snap_TX       1969 non-null   int64 \n",
            " 13  snap_WI       1969 non-null   int64 \n",
            "dtypes: int64(7), object(7)\n",
            "memory usage: 215.5+ KB\n"
          ]
        }
      ]
    },
    {
      "cell_type": "code",
      "source": [
        "# In đầy đủ sơ lược dataframe \n",
        "sell_prices.info()"
      ],
      "metadata": {
        "execution": {
          "iopub.status.busy": "2021-07-26T10:07:37.55698Z",
          "iopub.execute_input": "2021-07-26T10:07:37.557367Z",
          "iopub.status.idle": "2021-07-26T10:07:37.566098Z",
          "shell.execute_reply.started": "2021-07-26T10:07:37.557327Z",
          "shell.execute_reply": "2021-07-26T10:07:37.56516Z"
        },
        "trusted": true,
        "colab": {
          "base_uri": "https://localhost:8080/"
        },
        "id": "ug0-66_dFGby",
        "outputId": "97e0abd7-8a56-4c1c-b41d-a53dc3fa4ee1"
      },
      "execution_count": 8,
      "outputs": [
        {
          "output_type": "stream",
          "name": "stdout",
          "text": [
            "<class 'pandas.core.frame.DataFrame'>\n",
            "RangeIndex: 6841121 entries, 0 to 6841120\n",
            "Data columns (total 4 columns):\n",
            " #   Column      Dtype  \n",
            "---  ------      -----  \n",
            " 0   store_id    object \n",
            " 1   item_id     object \n",
            " 2   wm_yr_wk    int64  \n",
            " 3   sell_price  float64\n",
            "dtypes: float64(1), int64(1), object(2)\n",
            "memory usage: 208.8+ MB\n"
          ]
        }
      ]
    },
    {
      "cell_type": "code",
      "source": [
        "# In đầy đủ sơ lược dataframe \n",
        "train_sales.head()"
      ],
      "metadata": {
        "execution": {
          "iopub.status.busy": "2021-07-26T10:07:37.569278Z",
          "iopub.execute_input": "2021-07-26T10:07:37.56965Z",
          "iopub.status.idle": "2021-07-26T10:07:37.606232Z",
          "shell.execute_reply.started": "2021-07-26T10:07:37.569614Z",
          "shell.execute_reply": "2021-07-26T10:07:37.605083Z"
        },
        "trusted": true,
        "colab": {
          "base_uri": "https://localhost:8080/",
          "height": 280
        },
        "id": "sYT8B1tyFGby",
        "outputId": "e47d0d97-1866-4b2a-92d0-b1065c26ec7e"
      },
      "execution_count": 9,
      "outputs": [
        {
          "output_type": "execute_result",
          "data": {
            "text/plain": [
              "                              id        item_id    dept_id   cat_id store_id  \\\n",
              "0  HOBBIES_1_001_CA_1_evaluation  HOBBIES_1_001  HOBBIES_1  HOBBIES     CA_1   \n",
              "1  HOBBIES_1_002_CA_1_evaluation  HOBBIES_1_002  HOBBIES_1  HOBBIES     CA_1   \n",
              "2  HOBBIES_1_003_CA_1_evaluation  HOBBIES_1_003  HOBBIES_1  HOBBIES     CA_1   \n",
              "3  HOBBIES_1_004_CA_1_evaluation  HOBBIES_1_004  HOBBIES_1  HOBBIES     CA_1   \n",
              "4  HOBBIES_1_005_CA_1_evaluation  HOBBIES_1_005  HOBBIES_1  HOBBIES     CA_1   \n",
              "\n",
              "  state_id  d_1  d_2  d_3  d_4  ...  d_1932  d_1933  d_1934  d_1935  d_1936  \\\n",
              "0       CA    0    0    0    0  ...       2       4       0       0       0   \n",
              "1       CA    0    0    0    0  ...       0       1       2       1       1   \n",
              "2       CA    0    0    0    0  ...       1       0       2       0       0   \n",
              "3       CA    0    0    0    0  ...       1       1       0       4       0   \n",
              "4       CA    0    0    0    0  ...       0       0       0       2       1   \n",
              "\n",
              "   d_1937  d_1938  d_1939  d_1940  d_1941  \n",
              "0       0       3       3       0       1  \n",
              "1       0       0       0       0       0  \n",
              "2       0       2       3       0       1  \n",
              "3       1       3       0       2       6  \n",
              "4       0       0       2       1       0  \n",
              "\n",
              "[5 rows x 1947 columns]"
            ],
            "text/html": [
              "\n",
              "  <div id=\"df-afc1cef4-77ad-45db-bc44-a61462827a94\">\n",
              "    <div class=\"colab-df-container\">\n",
              "      <div>\n",
              "<style scoped>\n",
              "    .dataframe tbody tr th:only-of-type {\n",
              "        vertical-align: middle;\n",
              "    }\n",
              "\n",
              "    .dataframe tbody tr th {\n",
              "        vertical-align: top;\n",
              "    }\n",
              "\n",
              "    .dataframe thead th {\n",
              "        text-align: right;\n",
              "    }\n",
              "</style>\n",
              "<table border=\"1\" class=\"dataframe\">\n",
              "  <thead>\n",
              "    <tr style=\"text-align: right;\">\n",
              "      <th></th>\n",
              "      <th>id</th>\n",
              "      <th>item_id</th>\n",
              "      <th>dept_id</th>\n",
              "      <th>cat_id</th>\n",
              "      <th>store_id</th>\n",
              "      <th>state_id</th>\n",
              "      <th>d_1</th>\n",
              "      <th>d_2</th>\n",
              "      <th>d_3</th>\n",
              "      <th>d_4</th>\n",
              "      <th>...</th>\n",
              "      <th>d_1932</th>\n",
              "      <th>d_1933</th>\n",
              "      <th>d_1934</th>\n",
              "      <th>d_1935</th>\n",
              "      <th>d_1936</th>\n",
              "      <th>d_1937</th>\n",
              "      <th>d_1938</th>\n",
              "      <th>d_1939</th>\n",
              "      <th>d_1940</th>\n",
              "      <th>d_1941</th>\n",
              "    </tr>\n",
              "  </thead>\n",
              "  <tbody>\n",
              "    <tr>\n",
              "      <th>0</th>\n",
              "      <td>HOBBIES_1_001_CA_1_evaluation</td>\n",
              "      <td>HOBBIES_1_001</td>\n",
              "      <td>HOBBIES_1</td>\n",
              "      <td>HOBBIES</td>\n",
              "      <td>CA_1</td>\n",
              "      <td>CA</td>\n",
              "      <td>0</td>\n",
              "      <td>0</td>\n",
              "      <td>0</td>\n",
              "      <td>0</td>\n",
              "      <td>...</td>\n",
              "      <td>2</td>\n",
              "      <td>4</td>\n",
              "      <td>0</td>\n",
              "      <td>0</td>\n",
              "      <td>0</td>\n",
              "      <td>0</td>\n",
              "      <td>3</td>\n",
              "      <td>3</td>\n",
              "      <td>0</td>\n",
              "      <td>1</td>\n",
              "    </tr>\n",
              "    <tr>\n",
              "      <th>1</th>\n",
              "      <td>HOBBIES_1_002_CA_1_evaluation</td>\n",
              "      <td>HOBBIES_1_002</td>\n",
              "      <td>HOBBIES_1</td>\n",
              "      <td>HOBBIES</td>\n",
              "      <td>CA_1</td>\n",
              "      <td>CA</td>\n",
              "      <td>0</td>\n",
              "      <td>0</td>\n",
              "      <td>0</td>\n",
              "      <td>0</td>\n",
              "      <td>...</td>\n",
              "      <td>0</td>\n",
              "      <td>1</td>\n",
              "      <td>2</td>\n",
              "      <td>1</td>\n",
              "      <td>1</td>\n",
              "      <td>0</td>\n",
              "      <td>0</td>\n",
              "      <td>0</td>\n",
              "      <td>0</td>\n",
              "      <td>0</td>\n",
              "    </tr>\n",
              "    <tr>\n",
              "      <th>2</th>\n",
              "      <td>HOBBIES_1_003_CA_1_evaluation</td>\n",
              "      <td>HOBBIES_1_003</td>\n",
              "      <td>HOBBIES_1</td>\n",
              "      <td>HOBBIES</td>\n",
              "      <td>CA_1</td>\n",
              "      <td>CA</td>\n",
              "      <td>0</td>\n",
              "      <td>0</td>\n",
              "      <td>0</td>\n",
              "      <td>0</td>\n",
              "      <td>...</td>\n",
              "      <td>1</td>\n",
              "      <td>0</td>\n",
              "      <td>2</td>\n",
              "      <td>0</td>\n",
              "      <td>0</td>\n",
              "      <td>0</td>\n",
              "      <td>2</td>\n",
              "      <td>3</td>\n",
              "      <td>0</td>\n",
              "      <td>1</td>\n",
              "    </tr>\n",
              "    <tr>\n",
              "      <th>3</th>\n",
              "      <td>HOBBIES_1_004_CA_1_evaluation</td>\n",
              "      <td>HOBBIES_1_004</td>\n",
              "      <td>HOBBIES_1</td>\n",
              "      <td>HOBBIES</td>\n",
              "      <td>CA_1</td>\n",
              "      <td>CA</td>\n",
              "      <td>0</td>\n",
              "      <td>0</td>\n",
              "      <td>0</td>\n",
              "      <td>0</td>\n",
              "      <td>...</td>\n",
              "      <td>1</td>\n",
              "      <td>1</td>\n",
              "      <td>0</td>\n",
              "      <td>4</td>\n",
              "      <td>0</td>\n",
              "      <td>1</td>\n",
              "      <td>3</td>\n",
              "      <td>0</td>\n",
              "      <td>2</td>\n",
              "      <td>6</td>\n",
              "    </tr>\n",
              "    <tr>\n",
              "      <th>4</th>\n",
              "      <td>HOBBIES_1_005_CA_1_evaluation</td>\n",
              "      <td>HOBBIES_1_005</td>\n",
              "      <td>HOBBIES_1</td>\n",
              "      <td>HOBBIES</td>\n",
              "      <td>CA_1</td>\n",
              "      <td>CA</td>\n",
              "      <td>0</td>\n",
              "      <td>0</td>\n",
              "      <td>0</td>\n",
              "      <td>0</td>\n",
              "      <td>...</td>\n",
              "      <td>0</td>\n",
              "      <td>0</td>\n",
              "      <td>0</td>\n",
              "      <td>2</td>\n",
              "      <td>1</td>\n",
              "      <td>0</td>\n",
              "      <td>0</td>\n",
              "      <td>2</td>\n",
              "      <td>1</td>\n",
              "      <td>0</td>\n",
              "    </tr>\n",
              "  </tbody>\n",
              "</table>\n",
              "<p>5 rows × 1947 columns</p>\n",
              "</div>\n",
              "      <button class=\"colab-df-convert\" onclick=\"convertToInteractive('df-afc1cef4-77ad-45db-bc44-a61462827a94')\"\n",
              "              title=\"Convert this dataframe to an interactive table.\"\n",
              "              style=\"display:none;\">\n",
              "        \n",
              "  <svg xmlns=\"http://www.w3.org/2000/svg\" height=\"24px\"viewBox=\"0 0 24 24\"\n",
              "       width=\"24px\">\n",
              "    <path d=\"M0 0h24v24H0V0z\" fill=\"none\"/>\n",
              "    <path d=\"M18.56 5.44l.94 2.06.94-2.06 2.06-.94-2.06-.94-.94-2.06-.94 2.06-2.06.94zm-11 1L8.5 8.5l.94-2.06 2.06-.94-2.06-.94L8.5 2.5l-.94 2.06-2.06.94zm10 10l.94 2.06.94-2.06 2.06-.94-2.06-.94-.94-2.06-.94 2.06-2.06.94z\"/><path d=\"M17.41 7.96l-1.37-1.37c-.4-.4-.92-.59-1.43-.59-.52 0-1.04.2-1.43.59L10.3 9.45l-7.72 7.72c-.78.78-.78 2.05 0 2.83L4 21.41c.39.39.9.59 1.41.59.51 0 1.02-.2 1.41-.59l7.78-7.78 2.81-2.81c.8-.78.8-2.07 0-2.86zM5.41 20L4 18.59l7.72-7.72 1.47 1.35L5.41 20z\"/>\n",
              "  </svg>\n",
              "      </button>\n",
              "      \n",
              "  <style>\n",
              "    .colab-df-container {\n",
              "      display:flex;\n",
              "      flex-wrap:wrap;\n",
              "      gap: 12px;\n",
              "    }\n",
              "\n",
              "    .colab-df-convert {\n",
              "      background-color: #E8F0FE;\n",
              "      border: none;\n",
              "      border-radius: 50%;\n",
              "      cursor: pointer;\n",
              "      display: none;\n",
              "      fill: #1967D2;\n",
              "      height: 32px;\n",
              "      padding: 0 0 0 0;\n",
              "      width: 32px;\n",
              "    }\n",
              "\n",
              "    .colab-df-convert:hover {\n",
              "      background-color: #E2EBFA;\n",
              "      box-shadow: 0px 1px 2px rgba(60, 64, 67, 0.3), 0px 1px 3px 1px rgba(60, 64, 67, 0.15);\n",
              "      fill: #174EA6;\n",
              "    }\n",
              "\n",
              "    [theme=dark] .colab-df-convert {\n",
              "      background-color: #3B4455;\n",
              "      fill: #D2E3FC;\n",
              "    }\n",
              "\n",
              "    [theme=dark] .colab-df-convert:hover {\n",
              "      background-color: #434B5C;\n",
              "      box-shadow: 0px 1px 3px 1px rgba(0, 0, 0, 0.15);\n",
              "      filter: drop-shadow(0px 1px 2px rgba(0, 0, 0, 0.3));\n",
              "      fill: #FFFFFF;\n",
              "    }\n",
              "  </style>\n",
              "\n",
              "      <script>\n",
              "        const buttonEl =\n",
              "          document.querySelector('#df-afc1cef4-77ad-45db-bc44-a61462827a94 button.colab-df-convert');\n",
              "        buttonEl.style.display =\n",
              "          google.colab.kernel.accessAllowed ? 'block' : 'none';\n",
              "\n",
              "        async function convertToInteractive(key) {\n",
              "          const element = document.querySelector('#df-afc1cef4-77ad-45db-bc44-a61462827a94');\n",
              "          const dataTable =\n",
              "            await google.colab.kernel.invokeFunction('convertToInteractive',\n",
              "                                                     [key], {});\n",
              "          if (!dataTable) return;\n",
              "\n",
              "          const docLinkHtml = 'Like what you see? Visit the ' +\n",
              "            '<a target=\"_blank\" href=https://colab.research.google.com/notebooks/data_table.ipynb>data table notebook</a>'\n",
              "            + ' to learn more about interactive tables.';\n",
              "          element.innerHTML = '';\n",
              "          dataTable['output_type'] = 'display_data';\n",
              "          await google.colab.output.renderOutput(dataTable, element);\n",
              "          const docLink = document.createElement('div');\n",
              "          docLink.innerHTML = docLinkHtml;\n",
              "          element.appendChild(docLink);\n",
              "        }\n",
              "      </script>\n",
              "    </div>\n",
              "  </div>\n",
              "  "
            ]
          },
          "metadata": {},
          "execution_count": 9
        }
      ]
    },
    {
      "cell_type": "markdown",
      "source": [
        "## Observations\n",
        "* There are lots of zeros in the datasets for \"d_x\" columns, these are nothing bul sale values on any given day, zero here signfies, either the item was not available on that day or was not sold because of no demand."
      ],
      "metadata": {
        "id": "bkDr2rnJFGbz"
      }
    },
    {
      "cell_type": "code",
      "source": [
        "# In 5 dòng đầu tiên\n",
        "calender.head()"
      ],
      "metadata": {
        "execution": {
          "iopub.status.busy": "2021-07-26T10:07:37.608205Z",
          "iopub.execute_input": "2021-07-26T10:07:37.608725Z",
          "iopub.status.idle": "2021-07-26T10:07:37.631277Z",
          "shell.execute_reply.started": "2021-07-26T10:07:37.60867Z",
          "shell.execute_reply": "2021-07-26T10:07:37.629675Z"
        },
        "trusted": true,
        "colab": {
          "base_uri": "https://localhost:8080/",
          "height": 206
        },
        "id": "94bZAAyNFGbz",
        "outputId": "944f88e9-572d-4666-e5fd-32994488ba61"
      },
      "execution_count": 10,
      "outputs": [
        {
          "output_type": "execute_result",
          "data": {
            "text/plain": [
              "         date  wm_yr_wk    weekday  wday  month  year    d event_name_1  \\\n",
              "0  2011-01-29     11101   Saturday     1      1  2011  d_1          NaN   \n",
              "1  2011-01-30     11101     Sunday     2      1  2011  d_2          NaN   \n",
              "2  2011-01-31     11101     Monday     3      1  2011  d_3          NaN   \n",
              "3  2011-02-01     11101    Tuesday     4      2  2011  d_4          NaN   \n",
              "4  2011-02-02     11101  Wednesday     5      2  2011  d_5          NaN   \n",
              "\n",
              "  event_type_1 event_name_2 event_type_2  snap_CA  snap_TX  snap_WI  \n",
              "0          NaN          NaN          NaN        0        0        0  \n",
              "1          NaN          NaN          NaN        0        0        0  \n",
              "2          NaN          NaN          NaN        0        0        0  \n",
              "3          NaN          NaN          NaN        1        1        0  \n",
              "4          NaN          NaN          NaN        1        0        1  "
            ],
            "text/html": [
              "\n",
              "  <div id=\"df-fcf150db-a07d-4e83-9be2-4e14391911ab\">\n",
              "    <div class=\"colab-df-container\">\n",
              "      <div>\n",
              "<style scoped>\n",
              "    .dataframe tbody tr th:only-of-type {\n",
              "        vertical-align: middle;\n",
              "    }\n",
              "\n",
              "    .dataframe tbody tr th {\n",
              "        vertical-align: top;\n",
              "    }\n",
              "\n",
              "    .dataframe thead th {\n",
              "        text-align: right;\n",
              "    }\n",
              "</style>\n",
              "<table border=\"1\" class=\"dataframe\">\n",
              "  <thead>\n",
              "    <tr style=\"text-align: right;\">\n",
              "      <th></th>\n",
              "      <th>date</th>\n",
              "      <th>wm_yr_wk</th>\n",
              "      <th>weekday</th>\n",
              "      <th>wday</th>\n",
              "      <th>month</th>\n",
              "      <th>year</th>\n",
              "      <th>d</th>\n",
              "      <th>event_name_1</th>\n",
              "      <th>event_type_1</th>\n",
              "      <th>event_name_2</th>\n",
              "      <th>event_type_2</th>\n",
              "      <th>snap_CA</th>\n",
              "      <th>snap_TX</th>\n",
              "      <th>snap_WI</th>\n",
              "    </tr>\n",
              "  </thead>\n",
              "  <tbody>\n",
              "    <tr>\n",
              "      <th>0</th>\n",
              "      <td>2011-01-29</td>\n",
              "      <td>11101</td>\n",
              "      <td>Saturday</td>\n",
              "      <td>1</td>\n",
              "      <td>1</td>\n",
              "      <td>2011</td>\n",
              "      <td>d_1</td>\n",
              "      <td>NaN</td>\n",
              "      <td>NaN</td>\n",
              "      <td>NaN</td>\n",
              "      <td>NaN</td>\n",
              "      <td>0</td>\n",
              "      <td>0</td>\n",
              "      <td>0</td>\n",
              "    </tr>\n",
              "    <tr>\n",
              "      <th>1</th>\n",
              "      <td>2011-01-30</td>\n",
              "      <td>11101</td>\n",
              "      <td>Sunday</td>\n",
              "      <td>2</td>\n",
              "      <td>1</td>\n",
              "      <td>2011</td>\n",
              "      <td>d_2</td>\n",
              "      <td>NaN</td>\n",
              "      <td>NaN</td>\n",
              "      <td>NaN</td>\n",
              "      <td>NaN</td>\n",
              "      <td>0</td>\n",
              "      <td>0</td>\n",
              "      <td>0</td>\n",
              "    </tr>\n",
              "    <tr>\n",
              "      <th>2</th>\n",
              "      <td>2011-01-31</td>\n",
              "      <td>11101</td>\n",
              "      <td>Monday</td>\n",
              "      <td>3</td>\n",
              "      <td>1</td>\n",
              "      <td>2011</td>\n",
              "      <td>d_3</td>\n",
              "      <td>NaN</td>\n",
              "      <td>NaN</td>\n",
              "      <td>NaN</td>\n",
              "      <td>NaN</td>\n",
              "      <td>0</td>\n",
              "      <td>0</td>\n",
              "      <td>0</td>\n",
              "    </tr>\n",
              "    <tr>\n",
              "      <th>3</th>\n",
              "      <td>2011-02-01</td>\n",
              "      <td>11101</td>\n",
              "      <td>Tuesday</td>\n",
              "      <td>4</td>\n",
              "      <td>2</td>\n",
              "      <td>2011</td>\n",
              "      <td>d_4</td>\n",
              "      <td>NaN</td>\n",
              "      <td>NaN</td>\n",
              "      <td>NaN</td>\n",
              "      <td>NaN</td>\n",
              "      <td>1</td>\n",
              "      <td>1</td>\n",
              "      <td>0</td>\n",
              "    </tr>\n",
              "    <tr>\n",
              "      <th>4</th>\n",
              "      <td>2011-02-02</td>\n",
              "      <td>11101</td>\n",
              "      <td>Wednesday</td>\n",
              "      <td>5</td>\n",
              "      <td>2</td>\n",
              "      <td>2011</td>\n",
              "      <td>d_5</td>\n",
              "      <td>NaN</td>\n",
              "      <td>NaN</td>\n",
              "      <td>NaN</td>\n",
              "      <td>NaN</td>\n",
              "      <td>1</td>\n",
              "      <td>0</td>\n",
              "      <td>1</td>\n",
              "    </tr>\n",
              "  </tbody>\n",
              "</table>\n",
              "</div>\n",
              "      <button class=\"colab-df-convert\" onclick=\"convertToInteractive('df-fcf150db-a07d-4e83-9be2-4e14391911ab')\"\n",
              "              title=\"Convert this dataframe to an interactive table.\"\n",
              "              style=\"display:none;\">\n",
              "        \n",
              "  <svg xmlns=\"http://www.w3.org/2000/svg\" height=\"24px\"viewBox=\"0 0 24 24\"\n",
              "       width=\"24px\">\n",
              "    <path d=\"M0 0h24v24H0V0z\" fill=\"none\"/>\n",
              "    <path d=\"M18.56 5.44l.94 2.06.94-2.06 2.06-.94-2.06-.94-.94-2.06-.94 2.06-2.06.94zm-11 1L8.5 8.5l.94-2.06 2.06-.94-2.06-.94L8.5 2.5l-.94 2.06-2.06.94zm10 10l.94 2.06.94-2.06 2.06-.94-2.06-.94-.94-2.06-.94 2.06-2.06.94z\"/><path d=\"M17.41 7.96l-1.37-1.37c-.4-.4-.92-.59-1.43-.59-.52 0-1.04.2-1.43.59L10.3 9.45l-7.72 7.72c-.78.78-.78 2.05 0 2.83L4 21.41c.39.39.9.59 1.41.59.51 0 1.02-.2 1.41-.59l7.78-7.78 2.81-2.81c.8-.78.8-2.07 0-2.86zM5.41 20L4 18.59l7.72-7.72 1.47 1.35L5.41 20z\"/>\n",
              "  </svg>\n",
              "      </button>\n",
              "      \n",
              "  <style>\n",
              "    .colab-df-container {\n",
              "      display:flex;\n",
              "      flex-wrap:wrap;\n",
              "      gap: 12px;\n",
              "    }\n",
              "\n",
              "    .colab-df-convert {\n",
              "      background-color: #E8F0FE;\n",
              "      border: none;\n",
              "      border-radius: 50%;\n",
              "      cursor: pointer;\n",
              "      display: none;\n",
              "      fill: #1967D2;\n",
              "      height: 32px;\n",
              "      padding: 0 0 0 0;\n",
              "      width: 32px;\n",
              "    }\n",
              "\n",
              "    .colab-df-convert:hover {\n",
              "      background-color: #E2EBFA;\n",
              "      box-shadow: 0px 1px 2px rgba(60, 64, 67, 0.3), 0px 1px 3px 1px rgba(60, 64, 67, 0.15);\n",
              "      fill: #174EA6;\n",
              "    }\n",
              "\n",
              "    [theme=dark] .colab-df-convert {\n",
              "      background-color: #3B4455;\n",
              "      fill: #D2E3FC;\n",
              "    }\n",
              "\n",
              "    [theme=dark] .colab-df-convert:hover {\n",
              "      background-color: #434B5C;\n",
              "      box-shadow: 0px 1px 3px 1px rgba(0, 0, 0, 0.15);\n",
              "      filter: drop-shadow(0px 1px 2px rgba(0, 0, 0, 0.3));\n",
              "      fill: #FFFFFF;\n",
              "    }\n",
              "  </style>\n",
              "\n",
              "      <script>\n",
              "        const buttonEl =\n",
              "          document.querySelector('#df-fcf150db-a07d-4e83-9be2-4e14391911ab button.colab-df-convert');\n",
              "        buttonEl.style.display =\n",
              "          google.colab.kernel.accessAllowed ? 'block' : 'none';\n",
              "\n",
              "        async function convertToInteractive(key) {\n",
              "          const element = document.querySelector('#df-fcf150db-a07d-4e83-9be2-4e14391911ab');\n",
              "          const dataTable =\n",
              "            await google.colab.kernel.invokeFunction('convertToInteractive',\n",
              "                                                     [key], {});\n",
              "          if (!dataTable) return;\n",
              "\n",
              "          const docLinkHtml = 'Like what you see? Visit the ' +\n",
              "            '<a target=\"_blank\" href=https://colab.research.google.com/notebooks/data_table.ipynb>data table notebook</a>'\n",
              "            + ' to learn more about interactive tables.';\n",
              "          element.innerHTML = '';\n",
              "          dataTable['output_type'] = 'display_data';\n",
              "          await google.colab.output.renderOutput(dataTable, element);\n",
              "          const docLink = document.createElement('div');\n",
              "          docLink.innerHTML = docLinkHtml;\n",
              "          element.appendChild(docLink);\n",
              "        }\n",
              "      </script>\n",
              "    </div>\n",
              "  </div>\n",
              "  "
            ]
          },
          "metadata": {},
          "execution_count": 10
        }
      ]
    },
    {
      "cell_type": "code",
      "source": [
        "# In 5 dòng đầu tiên\n",
        "sell_prices.head()"
      ],
      "metadata": {
        "execution": {
          "iopub.status.busy": "2021-07-26T10:07:37.633427Z",
          "iopub.execute_input": "2021-07-26T10:07:37.633904Z",
          "iopub.status.idle": "2021-07-26T10:07:37.650598Z",
          "shell.execute_reply.started": "2021-07-26T10:07:37.633867Z",
          "shell.execute_reply": "2021-07-26T10:07:37.649639Z"
        },
        "trusted": true,
        "colab": {
          "base_uri": "https://localhost:8080/",
          "height": 206
        },
        "id": "EW1YLs3zFGbz",
        "outputId": "ef27314d-9f60-4413-b6f8-c51686a7d6c0"
      },
      "execution_count": 11,
      "outputs": [
        {
          "output_type": "execute_result",
          "data": {
            "text/plain": [
              "  store_id        item_id  wm_yr_wk  sell_price\n",
              "0     CA_1  HOBBIES_1_001     11325        9.58\n",
              "1     CA_1  HOBBIES_1_001     11326        9.58\n",
              "2     CA_1  HOBBIES_1_001     11327        8.26\n",
              "3     CA_1  HOBBIES_1_001     11328        8.26\n",
              "4     CA_1  HOBBIES_1_001     11329        8.26"
            ],
            "text/html": [
              "\n",
              "  <div id=\"df-fcf55488-f730-4cbf-b74a-86e40689064e\">\n",
              "    <div class=\"colab-df-container\">\n",
              "      <div>\n",
              "<style scoped>\n",
              "    .dataframe tbody tr th:only-of-type {\n",
              "        vertical-align: middle;\n",
              "    }\n",
              "\n",
              "    .dataframe tbody tr th {\n",
              "        vertical-align: top;\n",
              "    }\n",
              "\n",
              "    .dataframe thead th {\n",
              "        text-align: right;\n",
              "    }\n",
              "</style>\n",
              "<table border=\"1\" class=\"dataframe\">\n",
              "  <thead>\n",
              "    <tr style=\"text-align: right;\">\n",
              "      <th></th>\n",
              "      <th>store_id</th>\n",
              "      <th>item_id</th>\n",
              "      <th>wm_yr_wk</th>\n",
              "      <th>sell_price</th>\n",
              "    </tr>\n",
              "  </thead>\n",
              "  <tbody>\n",
              "    <tr>\n",
              "      <th>0</th>\n",
              "      <td>CA_1</td>\n",
              "      <td>HOBBIES_1_001</td>\n",
              "      <td>11325</td>\n",
              "      <td>9.58</td>\n",
              "    </tr>\n",
              "    <tr>\n",
              "      <th>1</th>\n",
              "      <td>CA_1</td>\n",
              "      <td>HOBBIES_1_001</td>\n",
              "      <td>11326</td>\n",
              "      <td>9.58</td>\n",
              "    </tr>\n",
              "    <tr>\n",
              "      <th>2</th>\n",
              "      <td>CA_1</td>\n",
              "      <td>HOBBIES_1_001</td>\n",
              "      <td>11327</td>\n",
              "      <td>8.26</td>\n",
              "    </tr>\n",
              "    <tr>\n",
              "      <th>3</th>\n",
              "      <td>CA_1</td>\n",
              "      <td>HOBBIES_1_001</td>\n",
              "      <td>11328</td>\n",
              "      <td>8.26</td>\n",
              "    </tr>\n",
              "    <tr>\n",
              "      <th>4</th>\n",
              "      <td>CA_1</td>\n",
              "      <td>HOBBIES_1_001</td>\n",
              "      <td>11329</td>\n",
              "      <td>8.26</td>\n",
              "    </tr>\n",
              "  </tbody>\n",
              "</table>\n",
              "</div>\n",
              "      <button class=\"colab-df-convert\" onclick=\"convertToInteractive('df-fcf55488-f730-4cbf-b74a-86e40689064e')\"\n",
              "              title=\"Convert this dataframe to an interactive table.\"\n",
              "              style=\"display:none;\">\n",
              "        \n",
              "  <svg xmlns=\"http://www.w3.org/2000/svg\" height=\"24px\"viewBox=\"0 0 24 24\"\n",
              "       width=\"24px\">\n",
              "    <path d=\"M0 0h24v24H0V0z\" fill=\"none\"/>\n",
              "    <path d=\"M18.56 5.44l.94 2.06.94-2.06 2.06-.94-2.06-.94-.94-2.06-.94 2.06-2.06.94zm-11 1L8.5 8.5l.94-2.06 2.06-.94-2.06-.94L8.5 2.5l-.94 2.06-2.06.94zm10 10l.94 2.06.94-2.06 2.06-.94-2.06-.94-.94-2.06-.94 2.06-2.06.94z\"/><path d=\"M17.41 7.96l-1.37-1.37c-.4-.4-.92-.59-1.43-.59-.52 0-1.04.2-1.43.59L10.3 9.45l-7.72 7.72c-.78.78-.78 2.05 0 2.83L4 21.41c.39.39.9.59 1.41.59.51 0 1.02-.2 1.41-.59l7.78-7.78 2.81-2.81c.8-.78.8-2.07 0-2.86zM5.41 20L4 18.59l7.72-7.72 1.47 1.35L5.41 20z\"/>\n",
              "  </svg>\n",
              "      </button>\n",
              "      \n",
              "  <style>\n",
              "    .colab-df-container {\n",
              "      display:flex;\n",
              "      flex-wrap:wrap;\n",
              "      gap: 12px;\n",
              "    }\n",
              "\n",
              "    .colab-df-convert {\n",
              "      background-color: #E8F0FE;\n",
              "      border: none;\n",
              "      border-radius: 50%;\n",
              "      cursor: pointer;\n",
              "      display: none;\n",
              "      fill: #1967D2;\n",
              "      height: 32px;\n",
              "      padding: 0 0 0 0;\n",
              "      width: 32px;\n",
              "    }\n",
              "\n",
              "    .colab-df-convert:hover {\n",
              "      background-color: #E2EBFA;\n",
              "      box-shadow: 0px 1px 2px rgba(60, 64, 67, 0.3), 0px 1px 3px 1px rgba(60, 64, 67, 0.15);\n",
              "      fill: #174EA6;\n",
              "    }\n",
              "\n",
              "    [theme=dark] .colab-df-convert {\n",
              "      background-color: #3B4455;\n",
              "      fill: #D2E3FC;\n",
              "    }\n",
              "\n",
              "    [theme=dark] .colab-df-convert:hover {\n",
              "      background-color: #434B5C;\n",
              "      box-shadow: 0px 1px 3px 1px rgba(0, 0, 0, 0.15);\n",
              "      filter: drop-shadow(0px 1px 2px rgba(0, 0, 0, 0.3));\n",
              "      fill: #FFFFFF;\n",
              "    }\n",
              "  </style>\n",
              "\n",
              "      <script>\n",
              "        const buttonEl =\n",
              "          document.querySelector('#df-fcf55488-f730-4cbf-b74a-86e40689064e button.colab-df-convert');\n",
              "        buttonEl.style.display =\n",
              "          google.colab.kernel.accessAllowed ? 'block' : 'none';\n",
              "\n",
              "        async function convertToInteractive(key) {\n",
              "          const element = document.querySelector('#df-fcf55488-f730-4cbf-b74a-86e40689064e');\n",
              "          const dataTable =\n",
              "            await google.colab.kernel.invokeFunction('convertToInteractive',\n",
              "                                                     [key], {});\n",
              "          if (!dataTable) return;\n",
              "\n",
              "          const docLinkHtml = 'Like what you see? Visit the ' +\n",
              "            '<a target=\"_blank\" href=https://colab.research.google.com/notebooks/data_table.ipynb>data table notebook</a>'\n",
              "            + ' to learn more about interactive tables.';\n",
              "          element.innerHTML = '';\n",
              "          dataTable['output_type'] = 'display_data';\n",
              "          await google.colab.output.renderOutput(dataTable, element);\n",
              "          const docLink = document.createElement('div');\n",
              "          docLink.innerHTML = docLinkHtml;\n",
              "          element.appendChild(docLink);\n",
              "        }\n",
              "      </script>\n",
              "    </div>\n",
              "  </div>\n",
              "  "
            ]
          },
          "metadata": {},
          "execution_count": 11
        }
      ]
    },
    {
      "cell_type": "markdown",
      "source": [
        "<a id='explore'></a>\n",
        "# <p style=\"background-color:skyblue; font-family:newtimeroman; font-size:250%; text-align:center; border-radius: 15px 50px;\">Data Exploration</p>"
      ],
      "metadata": {
        "id": "PlqaZuCzFGbz"
      }
    },
    {
      "cell_type": "markdown",
      "source": [
        "## Let's Check Null Values"
      ],
      "metadata": {
        "id": "0ETYBzJiFGb0"
      }
    },
    {
      "cell_type": "code",
      "source": [
        "#Trong train_sales, count giá trị trong mỗi cột xem có bao nhiêu cell có giá trị NA, sau đó xắp sếp giá trị của count giảm dần\n",
        "train_sales.isnull().sum().sort_values(ascending = False)\n"
      ],
      "metadata": {
        "execution": {
          "iopub.status.busy": "2021-07-26T10:07:37.652124Z",
          "iopub.execute_input": "2021-07-26T10:07:37.652464Z",
          "iopub.status.idle": "2021-07-26T10:07:37.80309Z",
          "shell.execute_reply.started": "2021-07-26T10:07:37.65243Z",
          "shell.execute_reply": "2021-07-26T10:07:37.802028Z"
        },
        "trusted": true,
        "colab": {
          "base_uri": "https://localhost:8080/"
        },
        "id": "n3Qggr-PFGb0",
        "outputId": "0a424bde-3812-4077-87ad-8ddc216a0ea5"
      },
      "execution_count": 15,
      "outputs": [
        {
          "output_type": "execute_result",
          "data": {
            "text/plain": [
              "id        0\n",
              "d_1273    0\n",
              "d_1301    0\n",
              "d_1300    0\n",
              "d_1299    0\n",
              "         ..\n",
              "d_639     0\n",
              "d_638     0\n",
              "d_637     0\n",
              "d_636     0\n",
              "d_1941    0\n",
              "Length: 1947, dtype: int64"
            ]
          },
          "metadata": {},
          "execution_count": 15
        }
      ]
    },
    {
      "cell_type": "code",
      "source": [
        "#Trong train_sales, count giá trị trong mỗi cột xem có bao nhiêu cell có giá trị NA, sau đó xắp sếp giá trị của count giảm dần\n",
        "sell_prices.isnull().sum().sort_values(ascending = False)"
      ],
      "metadata": {
        "execution": {
          "iopub.status.busy": "2021-07-26T10:07:37.80442Z",
          "iopub.execute_input": "2021-07-26T10:07:37.804739Z",
          "iopub.status.idle": "2021-07-26T10:07:39.26534Z",
          "shell.execute_reply.started": "2021-07-26T10:07:37.804703Z",
          "shell.execute_reply": "2021-07-26T10:07:39.263749Z"
        },
        "trusted": true,
        "colab": {
          "base_uri": "https://localhost:8080/"
        },
        "id": "Kz1L2-XwFGb0",
        "outputId": "ab16f79a-408c-4c03-bdee-55bf40ef6135"
      },
      "execution_count": 16,
      "outputs": [
        {
          "output_type": "execute_result",
          "data": {
            "text/plain": [
              "store_id      0\n",
              "item_id       0\n",
              "wm_yr_wk      0\n",
              "sell_price    0\n",
              "dtype: int64"
            ]
          },
          "metadata": {},
          "execution_count": 16
        }
      ]
    },
    {
      "cell_type": "code",
      "source": [
        "#Trong train_sales, count giá trị trong mỗi cột xem có bao nhiêu cell có giá trị NA, sau đó xắp sếp giá trị của count giảm dần\n",
        "calender.isnull().sum().sort_values(ascending = False)"
      ],
      "metadata": {
        "execution": {
          "iopub.status.busy": "2021-07-26T10:07:39.267205Z",
          "iopub.execute_input": "2021-07-26T10:07:39.267682Z",
          "iopub.status.idle": "2021-07-26T10:07:39.280857Z",
          "shell.execute_reply.started": "2021-07-26T10:07:39.267633Z",
          "shell.execute_reply": "2021-07-26T10:07:39.279593Z"
        },
        "trusted": true,
        "colab": {
          "base_uri": "https://localhost:8080/"
        },
        "id": "PMs4lHbkFGb0",
        "outputId": "3e011a33-805f-47b9-bb98-1e49fe71fdbc"
      },
      "execution_count": 17,
      "outputs": [
        {
          "output_type": "execute_result",
          "data": {
            "text/plain": [
              "event_name_2    1964\n",
              "event_type_2    1964\n",
              "event_name_1    1807\n",
              "event_type_1    1807\n",
              "date               0\n",
              "wm_yr_wk           0\n",
              "weekday            0\n",
              "wday               0\n",
              "month              0\n",
              "year               0\n",
              "d                  0\n",
              "snap_CA            0\n",
              "snap_TX            0\n",
              "snap_WI            0\n",
              "dtype: int64"
            ]
          },
          "metadata": {},
          "execution_count": 17
        }
      ]
    },
    {
      "cell_type": "code",
      "source": [
        "#Tạo holliday là list các ngày lễ\n",
        "holiday = ['NewYear', 'OrthodoxChristmas', 'MartinLutherKingDay', 'SuperBowl', 'PresidentsDay', 'StPatricksDay', 'Easter', 'Cinco De Mayo', 'IndependenceDay', 'EidAlAdha', 'Thanksgiving', 'Christmas']\n",
        "#Tạo weekend là list các ngày cuối tuần\n",
        "weekend = ['Saturday', 'Sunday']\n",
        "\n",
        "#Hàm is_holiday\n",
        "#Tham số đầu vào: x (một ngày được chỉ định )\n",
        "#Trả về: 1 nếu x là một phần tử trong list holiday, ngược lại trả về 0\n",
        "def is_holiday(x):\n",
        "  \n",
        "    if x in holiday:\n",
        "        return 1\n",
        "    else:\n",
        "        return 0\n",
        "\n",
        "\n",
        "#Hàm is_holis_weekendiday\n",
        "#Tham số đầu vào: x (một ngày được chỉ định )\n",
        "#Trả về: 1 nếu x là một phần tử trong list weekennd, ngược lại trả về 0\n",
        "def is_weekend(x):\n",
        "    if x in weekend:\n",
        "        return 1\n",
        "    else:\n",
        "        return 0"
      ],
      "metadata": {
        "execution": {
          "iopub.status.busy": "2021-07-26T10:07:39.283167Z",
          "iopub.execute_input": "2021-07-26T10:07:39.283958Z",
          "iopub.status.idle": "2021-07-26T10:07:39.294292Z",
          "shell.execute_reply.started": "2021-07-26T10:07:39.283906Z",
          "shell.execute_reply": "2021-07-26T10:07:39.293008Z"
        },
        "trusted": true,
        "id": "RXllvExeFGb1"
      },
      "execution_count": 19,
      "outputs": []
    },
    {
      "cell_type": "code",
      "source": [
        "calender['is_holiday_1'] = calender['event_name_1'].apply(is_holiday)\n",
        "calender['is_holiday_2'] = calender['event_name_2'].apply(is_holiday)\n",
        "calender['is_holiday'] = calender[['is_holiday_1','is_holiday_2']].max(axis=1)\n",
        "calender['is_weekend'] = calender['weekday'].apply(is_weekend)"
      ],
      "metadata": {
        "execution": {
          "iopub.status.busy": "2021-07-26T10:07:39.296249Z",
          "iopub.execute_input": "2021-07-26T10:07:39.296593Z",
          "iopub.status.idle": "2021-07-26T10:07:39.326848Z",
          "shell.execute_reply.started": "2021-07-26T10:07:39.296559Z",
          "shell.execute_reply": "2021-07-26T10:07:39.325628Z"
        },
        "trusted": true,
        "id": "NWfMH32dFGb1"
      },
      "execution_count": null,
      "outputs": []
    },
    {
      "cell_type": "code",
      "source": [
        "# print first 5 rows\n",
        "calender.head()"
      ],
      "metadata": {
        "execution": {
          "iopub.status.busy": "2021-07-26T10:07:39.328433Z",
          "iopub.execute_input": "2021-07-26T10:07:39.328822Z",
          "iopub.status.idle": "2021-07-26T10:07:39.356501Z",
          "shell.execute_reply.started": "2021-07-26T10:07:39.328774Z",
          "shell.execute_reply": "2021-07-26T10:07:39.35459Z"
        },
        "trusted": true,
        "id": "1CuYhc1tFGb1"
      },
      "execution_count": null,
      "outputs": []
    },
    {
      "cell_type": "code",
      "source": [
        "calender = calender.drop(['weekday', 'wday', 'month', 'year', 'event_name_1', 'event_type_1', 'event_name_2', 'event_type_2'], axis='columns')"
      ],
      "metadata": {
        "execution": {
          "iopub.status.busy": "2021-07-26T10:07:39.358078Z",
          "iopub.execute_input": "2021-07-26T10:07:39.358686Z",
          "iopub.status.idle": "2021-07-26T10:07:39.369296Z",
          "shell.execute_reply.started": "2021-07-26T10:07:39.35865Z",
          "shell.execute_reply": "2021-07-26T10:07:39.367909Z"
        },
        "trusted": true,
        "id": "a7b4bA22FGb2"
      },
      "execution_count": null,
      "outputs": []
    },
    {
      "cell_type": "code",
      "source": [
        "sell_prices.describe()"
      ],
      "metadata": {
        "execution": {
          "iopub.status.busy": "2021-07-26T10:07:39.371054Z",
          "iopub.execute_input": "2021-07-26T10:07:39.371736Z",
          "iopub.status.idle": "2021-07-26T10:07:39.887074Z",
          "shell.execute_reply.started": "2021-07-26T10:07:39.371685Z",
          "shell.execute_reply": "2021-07-26T10:07:39.885985Z"
        },
        "trusted": true,
        "id": "NDF0bjnYFGb2"
      },
      "execution_count": null,
      "outputs": []
    },
    {
      "cell_type": "code",
      "source": [
        "del_col = []\n",
        "for x in range(1851):\n",
        "    del_col.append('d_' + str(x+1))"
      ],
      "metadata": {
        "execution": {
          "iopub.status.busy": "2021-07-26T10:07:39.888762Z",
          "iopub.execute_input": "2021-07-26T10:07:39.889384Z",
          "iopub.status.idle": "2021-07-26T10:07:39.896971Z",
          "shell.execute_reply.started": "2021-07-26T10:07:39.889335Z",
          "shell.execute_reply": "2021-07-26T10:07:39.896119Z"
        },
        "trusted": true,
        "id": "CNWBw4IfFGb2"
      },
      "execution_count": null,
      "outputs": []
    },
    {
      "cell_type": "code",
      "source": [
        "train_sales =train_sales.drop(del_col, axis='columns')"
      ],
      "metadata": {
        "execution": {
          "iopub.status.busy": "2021-07-26T10:07:39.898332Z",
          "iopub.execute_input": "2021-07-26T10:07:39.898986Z",
          "iopub.status.idle": "2021-07-26T10:07:39.928301Z",
          "shell.execute_reply.started": "2021-07-26T10:07:39.898935Z",
          "shell.execute_reply": "2021-07-26T10:07:39.926908Z"
        },
        "trusted": true,
        "id": "qGZyCcuMFGb3"
      },
      "execution_count": null,
      "outputs": []
    },
    {
      "cell_type": "markdown",
      "source": [
        "## join eval and cal and price"
      ],
      "metadata": {
        "id": "rI-XC_7BFGb3"
      }
    },
    {
      "cell_type": "code",
      "source": [
        "train_sales = train_sales.melt(['id','item_id','dept_id','cat_id','store_id','state_id'], var_name='d', value_name='qty')\n",
        "print(train_sales.shape)\n",
        "train_sales.head()"
      ],
      "metadata": {
        "execution": {
          "iopub.status.busy": "2021-07-26T10:07:39.930171Z",
          "iopub.execute_input": "2021-07-26T10:07:39.930684Z",
          "iopub.status.idle": "2021-07-26T10:07:40.655841Z",
          "shell.execute_reply.started": "2021-07-26T10:07:39.930631Z",
          "shell.execute_reply": "2021-07-26T10:07:40.654516Z"
        },
        "trusted": true,
        "id": "rIHOvgCSFGb3"
      },
      "execution_count": null,
      "outputs": []
    },
    {
      "cell_type": "code",
      "source": [
        "train_sales = pd.merge(train_sales, calender, how='left', on='d')\n",
        "train_sales.head()"
      ],
      "metadata": {
        "execution": {
          "iopub.status.busy": "2021-07-26T10:07:40.65735Z",
          "iopub.execute_input": "2021-07-26T10:07:40.657677Z",
          "iopub.status.idle": "2021-07-26T10:07:41.389622Z",
          "shell.execute_reply.started": "2021-07-26T10:07:40.657647Z",
          "shell.execute_reply": "2021-07-26T10:07:41.387362Z"
        },
        "trusted": true,
        "id": "nUUilsLeFGb3"
      },
      "execution_count": null,
      "outputs": []
    },
    {
      "cell_type": "code",
      "source": [
        "train_sales = pd.merge(train_sales, sell_prices, how='left', on=['item_id', 'wm_yr_wk', 'store_id'])\n",
        "train_sales.head()"
      ],
      "metadata": {
        "execution": {
          "iopub.status.busy": "2021-07-26T10:07:41.390733Z",
          "iopub.execute_input": "2021-07-26T10:07:41.39103Z",
          "iopub.status.idle": "2021-07-26T10:07:46.034869Z",
          "shell.execute_reply.started": "2021-07-26T10:07:41.391002Z",
          "shell.execute_reply": "2021-07-26T10:07:46.033377Z"
        },
        "trusted": true,
        "id": "MzFjerzPFGb3"
      },
      "execution_count": null,
      "outputs": []
    },
    {
      "cell_type": "code",
      "source": [
        "#print shape of the dataset \n",
        "train_sales.shape"
      ],
      "metadata": {
        "execution": {
          "iopub.status.busy": "2021-07-26T10:07:46.036619Z",
          "iopub.execute_input": "2021-07-26T10:07:46.036965Z",
          "iopub.status.idle": "2021-07-26T10:07:46.044878Z",
          "shell.execute_reply.started": "2021-07-26T10:07:46.036932Z",
          "shell.execute_reply": "2021-07-26T10:07:46.043529Z"
        },
        "trusted": true,
        "id": "o_S9yTRPFGb4"
      },
      "execution_count": null,
      "outputs": []
    },
    {
      "cell_type": "code",
      "source": [
        "train_sales.tail()"
      ],
      "metadata": {
        "execution": {
          "iopub.status.busy": "2021-07-26T10:07:46.046273Z",
          "iopub.execute_input": "2021-07-26T10:07:46.046598Z",
          "iopub.status.idle": "2021-07-26T10:07:46.079438Z",
          "shell.execute_reply.started": "2021-07-26T10:07:46.046568Z",
          "shell.execute_reply": "2021-07-26T10:07:46.077955Z"
        },
        "trusted": true,
        "id": "cJxb_mh9FGb4"
      },
      "execution_count": null,
      "outputs": []
    },
    {
      "cell_type": "code",
      "source": [
        "train_sales.head()"
      ],
      "metadata": {
        "execution": {
          "iopub.status.busy": "2021-07-26T10:07:46.081096Z",
          "iopub.execute_input": "2021-07-26T10:07:46.081707Z",
          "iopub.status.idle": "2021-07-26T10:07:46.115836Z",
          "shell.execute_reply.started": "2021-07-26T10:07:46.081647Z",
          "shell.execute_reply": "2021-07-26T10:07:46.114315Z"
        },
        "trusted": true,
        "id": "TCbmVkPTFGb4"
      },
      "execution_count": null,
      "outputs": []
    },
    {
      "cell_type": "code",
      "source": [
        "train_sales_test = train_sales.query('d == \"d_1852\"')"
      ],
      "metadata": {
        "execution": {
          "iopub.status.busy": "2021-07-26T10:07:46.118929Z",
          "iopub.execute_input": "2021-07-26T10:07:46.119448Z",
          "iopub.status.idle": "2021-07-26T10:07:47.067754Z",
          "shell.execute_reply.started": "2021-07-26T10:07:46.119399Z",
          "shell.execute_reply": "2021-07-26T10:07:47.066244Z"
        },
        "trusted": true,
        "id": "JptKyO6sFGb4"
      },
      "execution_count": null,
      "outputs": []
    },
    {
      "cell_type": "code",
      "source": [
        "train_sales_test.head()"
      ],
      "metadata": {
        "execution": {
          "iopub.status.busy": "2021-07-26T10:07:47.072125Z",
          "iopub.execute_input": "2021-07-26T10:07:47.072506Z",
          "iopub.status.idle": "2021-07-26T10:07:47.096045Z",
          "shell.execute_reply.started": "2021-07-26T10:07:47.072456Z",
          "shell.execute_reply": "2021-07-26T10:07:47.094476Z"
        },
        "trusted": true,
        "id": "bDOG4ESWFGb5"
      },
      "execution_count": null,
      "outputs": []
    },
    {
      "cell_type": "code",
      "source": [
        "train_sales_test = train_sales_test[['id', 'store_id', 'item_id', 'dept_id', 'cat_id', 'state_id', 'd', 'qty', 'sell_price']]"
      ],
      "metadata": {
        "execution": {
          "iopub.status.busy": "2021-07-26T10:07:47.098329Z",
          "iopub.execute_input": "2021-07-26T10:07:47.098832Z",
          "iopub.status.idle": "2021-07-26T10:07:47.115827Z",
          "shell.execute_reply.started": "2021-07-26T10:07:47.098793Z",
          "shell.execute_reply": "2021-07-26T10:07:47.114294Z"
        },
        "trusted": true,
        "id": "3dc-JIewFGb5"
      },
      "execution_count": null,
      "outputs": []
    },
    {
      "cell_type": "code",
      "source": [
        "train_sales_test.head()"
      ],
      "metadata": {
        "execution": {
          "iopub.status.busy": "2021-07-26T10:07:47.118149Z",
          "iopub.execute_input": "2021-07-26T10:07:47.11882Z",
          "iopub.status.idle": "2021-07-26T10:07:47.14279Z",
          "shell.execute_reply.started": "2021-07-26T10:07:47.118762Z",
          "shell.execute_reply": "2021-07-26T10:07:47.141661Z"
        },
        "trusted": true,
        "id": "_RKOTlnQFGb5"
      },
      "execution_count": null,
      "outputs": []
    },
    {
      "cell_type": "code",
      "source": [
        "train_sales_test.shape"
      ],
      "metadata": {
        "execution": {
          "iopub.status.busy": "2021-07-26T10:07:47.144529Z",
          "iopub.execute_input": "2021-07-26T10:07:47.144884Z",
          "iopub.status.idle": "2021-07-26T10:07:47.160075Z",
          "shell.execute_reply.started": "2021-07-26T10:07:47.144849Z",
          "shell.execute_reply": "2021-07-26T10:07:47.15905Z"
        },
        "trusted": true,
        "id": "FMMPeYPsFGb6"
      },
      "execution_count": null,
      "outputs": []
    },
    {
      "cell_type": "code",
      "source": [
        "train_sales_test['qty'] =train_sales_test['d'].apply(lambda x: int(x.replace(x, '0')))"
      ],
      "metadata": {
        "execution": {
          "iopub.status.busy": "2021-07-26T10:07:47.165079Z",
          "iopub.execute_input": "2021-07-26T10:07:47.165454Z",
          "iopub.status.idle": "2021-07-26T10:07:47.207905Z",
          "shell.execute_reply.started": "2021-07-26T10:07:47.165407Z",
          "shell.execute_reply": "2021-07-26T10:07:47.206899Z"
        },
        "trusted": true,
        "id": "We3l6h5zFGb6"
      },
      "execution_count": null,
      "outputs": []
    },
    {
      "cell_type": "code",
      "source": [
        "tmp_df =train_sales_test"
      ],
      "metadata": {
        "execution": {
          "iopub.status.busy": "2021-07-26T10:07:47.209893Z",
          "iopub.execute_input": "2021-07-26T10:07:47.210225Z",
          "iopub.status.idle": "2021-07-26T10:07:47.214207Z",
          "shell.execute_reply.started": "2021-07-26T10:07:47.210191Z",
          "shell.execute_reply": "2021-07-26T10:07:47.213332Z"
        },
        "trusted": true,
        "id": "TXUN_x7TFGb6"
      },
      "execution_count": null,
      "outputs": []
    },
    {
      "cell_type": "code",
      "source": [
        "for x in range(28):\n",
        "    train_sales_test =train_sales_test.append(tmp_df)"
      ],
      "metadata": {
        "execution": {
          "iopub.status.busy": "2021-07-26T10:07:47.215945Z",
          "iopub.execute_input": "2021-07-26T10:07:47.216275Z",
          "iopub.status.idle": "2021-07-26T10:07:48.682647Z",
          "shell.execute_reply.started": "2021-07-26T10:07:47.216244Z",
          "shell.execute_reply": "2021-07-26T10:07:48.681283Z"
        },
        "trusted": true,
        "id": "NE9kA1wgFGb6"
      },
      "execution_count": null,
      "outputs": []
    },
    {
      "cell_type": "code",
      "source": [
        "train_sales_test =train_sales_test.reset_index(drop=True)"
      ],
      "metadata": {
        "execution": {
          "iopub.status.busy": "2021-07-26T10:07:48.684263Z",
          "iopub.execute_input": "2021-07-26T10:07:48.68463Z",
          "iopub.status.idle": "2021-07-26T10:07:48.800893Z",
          "shell.execute_reply.started": "2021-07-26T10:07:48.684595Z",
          "shell.execute_reply": "2021-07-26T10:07:48.799981Z"
        },
        "trusted": true,
        "id": "kDFg93gpFGb6"
      },
      "execution_count": null,
      "outputs": []
    },
    {
      "cell_type": "code",
      "source": [
        "train_sales_test.tail()"
      ],
      "metadata": {
        "execution": {
          "iopub.status.busy": "2021-07-26T10:07:48.8021Z",
          "iopub.execute_input": "2021-07-26T10:07:48.802557Z",
          "iopub.status.idle": "2021-07-26T10:07:48.820248Z",
          "shell.execute_reply.started": "2021-07-26T10:07:48.802513Z",
          "shell.execute_reply": "2021-07-26T10:07:48.819264Z"
        },
        "trusted": true,
        "id": "X90KNHrZFGb6"
      },
      "execution_count": null,
      "outputs": []
    },
    {
      "cell_type": "code",
      "source": [
        "\n",
        "lst_d = []\n",
        "i = 0\n",
        "lst_index = train_sales_test.index\n",
        "for x in lst_index:\n",
        "    lst_d.append('d_' + str(((lst_index[i]) // 30490) + 1942))\n",
        "    i = i + 1\n",
        "\n",
        "lst_d"
      ],
      "metadata": {
        "execution": {
          "iopub.status.busy": "2021-07-26T10:07:48.822093Z",
          "iopub.execute_input": "2021-07-26T10:07:48.822588Z",
          "iopub.status.idle": "2021-07-26T10:07:50.533228Z",
          "shell.execute_reply.started": "2021-07-26T10:07:48.822536Z",
          "shell.execute_reply": "2021-07-26T10:07:50.532078Z"
        },
        "trusted": true,
        "id": "wnGVQbfPFGb6"
      },
      "execution_count": null,
      "outputs": []
    },
    {
      "cell_type": "code",
      "source": [
        "train_sales_test['d'] = lst_d"
      ],
      "metadata": {
        "execution": {
          "iopub.status.busy": "2021-07-26T10:07:50.534425Z",
          "iopub.execute_input": "2021-07-26T10:07:50.534741Z",
          "iopub.status.idle": "2021-07-26T10:07:50.637106Z",
          "shell.execute_reply.started": "2021-07-26T10:07:50.534711Z",
          "shell.execute_reply": "2021-07-26T10:07:50.635465Z"
        },
        "trusted": true,
        "id": "1y_K3TiHFGb7"
      },
      "execution_count": null,
      "outputs": []
    },
    {
      "cell_type": "code",
      "source": [
        "train_sales_test.head()"
      ],
      "metadata": {
        "execution": {
          "iopub.status.busy": "2021-07-26T10:07:50.639156Z",
          "iopub.execute_input": "2021-07-26T10:07:50.639573Z",
          "iopub.status.idle": "2021-07-26T10:07:50.658752Z",
          "shell.execute_reply.started": "2021-07-26T10:07:50.639538Z",
          "shell.execute_reply": "2021-07-26T10:07:50.657029Z"
        },
        "trusted": true,
        "id": "gzYe57H6FGb7"
      },
      "execution_count": null,
      "outputs": []
    },
    {
      "cell_type": "code",
      "source": [
        "# print last 5 rows in dataset\n",
        "train_sales_test.tail()"
      ],
      "metadata": {
        "execution": {
          "iopub.status.busy": "2021-07-26T10:07:50.660444Z",
          "iopub.execute_input": "2021-07-26T10:07:50.660799Z",
          "iopub.status.idle": "2021-07-26T10:07:50.684144Z",
          "shell.execute_reply.started": "2021-07-26T10:07:50.660761Z",
          "shell.execute_reply": "2021-07-26T10:07:50.683092Z"
        },
        "trusted": true,
        "id": "a2b0pNr3FGb7"
      },
      "execution_count": null,
      "outputs": []
    },
    {
      "cell_type": "code",
      "source": [
        "# shape of dataset\n",
        "train_sales_test.shape"
      ],
      "metadata": {
        "execution": {
          "iopub.status.busy": "2021-07-26T10:07:50.685604Z",
          "iopub.execute_input": "2021-07-26T10:07:50.685902Z",
          "iopub.status.idle": "2021-07-26T10:07:50.691074Z",
          "shell.execute_reply.started": "2021-07-26T10:07:50.685874Z",
          "shell.execute_reply": "2021-07-26T10:07:50.690407Z"
        },
        "trusted": true,
        "id": "E8en8LSmFGb7"
      },
      "execution_count": null,
      "outputs": []
    },
    {
      "cell_type": "code",
      "source": [
        "train_sales_test = pd.merge(train_sales_test,calender, how='left', on='d')"
      ],
      "metadata": {
        "execution": {
          "iopub.status.busy": "2021-07-26T10:07:50.692111Z",
          "iopub.execute_input": "2021-07-26T10:07:50.692554Z",
          "iopub.status.idle": "2021-07-26T10:07:50.993021Z",
          "shell.execute_reply.started": "2021-07-26T10:07:50.692523Z",
          "shell.execute_reply": "2021-07-26T10:07:50.992139Z"
        },
        "trusted": true,
        "id": "GZZVHm2TFGb7"
      },
      "execution_count": null,
      "outputs": []
    },
    {
      "cell_type": "code",
      "source": [
        "train_sales_test = pd.merge(train_sales_test, sell_prices ,how='left', on=['item_id', 'wm_yr_wk', 'store_id'])"
      ],
      "metadata": {
        "execution": {
          "iopub.status.busy": "2021-07-26T10:07:50.994087Z",
          "iopub.execute_input": "2021-07-26T10:07:50.994561Z",
          "iopub.status.idle": "2021-07-26T10:07:56.172466Z",
          "shell.execute_reply.started": "2021-07-26T10:07:50.994528Z",
          "shell.execute_reply": "2021-07-26T10:07:56.171667Z"
        },
        "trusted": true,
        "id": "bUsFf4h4FGb7"
      },
      "execution_count": null,
      "outputs": []
    },
    {
      "cell_type": "code",
      "source": [
        "train_sales_test.head()"
      ],
      "metadata": {
        "execution": {
          "iopub.status.busy": "2021-07-26T10:07:56.173579Z",
          "iopub.execute_input": "2021-07-26T10:07:56.17402Z",
          "iopub.status.idle": "2021-07-26T10:07:56.199114Z",
          "shell.execute_reply.started": "2021-07-26T10:07:56.173988Z",
          "shell.execute_reply": "2021-07-26T10:07:56.198319Z"
        },
        "trusted": true,
        "id": "8ZUNtZxEFGb8"
      },
      "execution_count": null,
      "outputs": []
    },
    {
      "cell_type": "markdown",
      "source": [
        "## <a id='processing'></a>\n",
        "# <p style=\"background-color:skyblue; font-family:newtimeroman; font-size:250%; text-align:center; border-radius: 15px 50px;\">Data Processing and Analysis</p>"
      ],
      "metadata": {
        "id": "pm3uFUJTFGb8"
      }
    },
    {
      "cell_type": "code",
      "source": [
        "#Sales Catogery\n",
        "df_val.groupby('cat_id').count()['id'].sort_values().plot(kind='barh',figsize=(15,2), title='Sales By Catogory',width=0.5,color='orange')\n",
        "plt.show()"
      ],
      "metadata": {
        "execution": {
          "iopub.status.busy": "2021-07-26T10:08:20.103701Z",
          "iopub.execute_input": "2021-07-26T10:08:20.104105Z",
          "iopub.status.idle": "2021-07-26T10:08:20.564349Z",
          "shell.execute_reply.started": "2021-07-26T10:08:20.104074Z",
          "shell.execute_reply": "2021-07-26T10:08:20.563149Z"
        },
        "trusted": true,
        "id": "36Em72gvFGb8"
      },
      "execution_count": null,
      "outputs": []
    },
    {
      "cell_type": "code",
      "source": [
        "#Sales By Department\n",
        "df_val.groupby('dept_id').count()['id'].sort_values().plot(kind='barh',figsize=(15,3), title='Sales By Department',color='red')\n",
        "plt.show()"
      ],
      "metadata": {
        "execution": {
          "iopub.status.busy": "2021-07-26T10:09:12.393453Z",
          "iopub.execute_input": "2021-07-26T10:09:12.393867Z",
          "iopub.status.idle": "2021-07-26T10:09:12.875015Z",
          "shell.execute_reply.started": "2021-07-26T10:09:12.393832Z",
          "shell.execute_reply": "2021-07-26T10:09:12.873772Z"
        },
        "trusted": true,
        "id": "3g1ZE8i6FGb8"
      },
      "execution_count": null,
      "outputs": []
    },
    {
      "cell_type": "code",
      "source": [
        "#Sales By State\n",
        "df_val.groupby('state_id').count()['id'].sort_values().plot(kind='barh',figsize=(15,2), title='Sales By State',color='violet')\n",
        "plt.show()"
      ],
      "metadata": {
        "execution": {
          "iopub.status.busy": "2021-07-26T10:10:01.493344Z",
          "iopub.execute_input": "2021-07-26T10:10:01.493849Z",
          "iopub.status.idle": "2021-07-26T10:10:02.12072Z",
          "shell.execute_reply.started": "2021-07-26T10:10:01.493808Z",
          "shell.execute_reply": "2021-07-26T10:10:02.119724Z"
        },
        "trusted": true,
        "id": "alcOPFZEFGb8"
      },
      "execution_count": null,
      "outputs": []
    },
    {
      "cell_type": "code",
      "source": [
        "pd.value_counts(train_sales_test['state_id']).plot(kind = 'bar',cmap = 'BrBG')\n",
        "plt.rcParams['axes.facecolor'] = 'orange'\n",
        "plt.title(\"Count of classes\")"
      ],
      "metadata": {
        "execution": {
          "iopub.status.busy": "2021-07-26T10:16:18.999232Z",
          "iopub.execute_input": "2021-07-26T10:16:18.999875Z",
          "iopub.status.idle": "2021-07-26T10:16:19.380306Z",
          "shell.execute_reply.started": "2021-07-26T10:16:18.999829Z",
          "shell.execute_reply": "2021-07-26T10:16:19.37853Z"
        },
        "trusted": true,
        "id": "ReA5dVt0FGb9"
      },
      "execution_count": null,
      "outputs": []
    },
    {
      "cell_type": "code",
      "source": [
        "pd.value_counts(train_sales_test['cat_id']).plot(kind = 'bar')\n",
        "plt.rcParams['axes.facecolor'] = 'blue'\n",
        "plt.title(\"Count of classes\")"
      ],
      "metadata": {
        "execution": {
          "iopub.status.busy": "2021-07-26T10:16:19.382754Z",
          "iopub.execute_input": "2021-07-26T10:16:19.383259Z",
          "iopub.status.idle": "2021-07-26T10:16:19.760722Z",
          "shell.execute_reply.started": "2021-07-26T10:16:19.383206Z",
          "shell.execute_reply": "2021-07-26T10:16:19.759666Z"
        },
        "trusted": true,
        "id": "ymDbQYoqFGb9"
      },
      "execution_count": null,
      "outputs": []
    },
    {
      "cell_type": "code",
      "source": [
        "ids = sorted(list(set(df_val['id'])))\n",
        "d_cols = [c for c in df_val.columns if 'd_' in c]\n",
        "x_1 = df_val.loc[df_val['id'] == ids[0]].set_index('id')[d_cols].values[0][:90]\n",
        "x_2 = df_val.loc[df_val['id'] == ids[4]].set_index('id')[d_cols].values[0][1300:1400]\n",
        "x_3 = df_val.loc[df_val['id'] == ids[65]].set_index('id')[d_cols].values[0][350:450]\n",
        "fig = make_subplots(rows=3, cols=1)\n",
        "\n",
        "fig.add_trace(go.Scatter(x=np.arange(len(x_1)), y=x_1, showlegend=False,\n",
        "                    mode='lines+markers', name=\"First sample\",\n",
        "                         marker=dict(color=\"orange\")),\n",
        "             row=1, col=1)\n",
        "\n",
        "fig.add_trace(go.Scatter(x=np.arange(len(x_2)), y=x_2, showlegend=False,\n",
        "                    mode='lines+markers', name=\"Second sample\",\n",
        "                         marker=dict(color=\"red\")),\n",
        "             row=2, col=1)\n",
        "\n",
        "fig.add_trace(go.Scatter(x=np.arange(len(x_3)), y=x_3, showlegend=False,\n",
        "                    mode='lines+markers', name=\"Third sample\",\n",
        "                         marker=dict(color=\"violet\")),\n",
        "             row=3, col=1)\n",
        "\n",
        "fig.update_layout(height=1200, width=800, title_text=\"Sample sales snippets\")\n",
        "fig.show()"
      ],
      "metadata": {
        "execution": {
          "iopub.status.busy": "2021-07-26T10:16:19.76279Z",
          "iopub.execute_input": "2021-07-26T10:16:19.763452Z",
          "iopub.status.idle": "2021-07-26T10:16:19.932609Z",
          "shell.execute_reply.started": "2021-07-26T10:16:19.763397Z",
          "shell.execute_reply": "2021-07-26T10:16:19.931039Z"
        },
        "trusted": true,
        "id": "WeWKXfUBFGb9"
      },
      "execution_count": null,
      "outputs": []
    },
    {
      "cell_type": "markdown",
      "source": [
        ">>  As stated earlier, we can clearly see that the sales data is very erratic and volatile. Sometimes, the sales are zero for a few days in a row, and at other times, it remains at its peak value for a few days. Therefore, we need some sort of \"denoising\" techniques to find the underlying trends in the sales data and make forecasts."
      ],
      "metadata": {
        "id": "nvpDNQtqFGb-"
      }
    },
    {
      "cell_type": "markdown",
      "source": [
        "### Rolling Average Price vs. Time for every store"
      ],
      "metadata": {
        "id": "97Tsrfo3FGb-"
      }
    },
    {
      "cell_type": "code",
      "source": [
        "past_sales = df_val.set_index('id')[d_cols] \\\n",
        "    .T \\\n",
        "    .merge(calender.set_index('d')['date'],\n",
        "           left_index=True,\n",
        "           right_index=True,\n",
        "            validate='1:1') \\\n",
        "    .set_index('date')\n",
        "\n",
        "store_list = sell_prices['store_id'].unique()\n",
        "means = []\n",
        "fig = go.Figure()\n",
        "for s in store_list:\n",
        "    store_items = [c for c in past_sales.columns if s in c]\n",
        "    data = past_sales[store_items].sum(axis=1).rolling(90).mean()\n",
        "    means.append(np.mean(past_sales[store_items].sum(axis=1)))\n",
        "    fig.add_trace(go.Scatter(x=np.arange(len(data)), y=data, name=s))\n",
        "    \n",
        "fig.update_layout(yaxis_title=\"Sales\", xaxis_title=\"Time\", title=\"Rolling Average Sales vs. Time (per store)\")"
      ],
      "metadata": {
        "execution": {
          "iopub.status.busy": "2021-07-26T10:16:21.103417Z",
          "iopub.execute_input": "2021-07-26T10:16:21.103805Z",
          "iopub.status.idle": "2021-07-26T10:16:23.630623Z",
          "shell.execute_reply.started": "2021-07-26T10:16:21.103768Z",
          "shell.execute_reply": "2021-07-26T10:16:23.629156Z"
        },
        "trusted": true,
        "id": "LlQ12TEUFGb_"
      },
      "execution_count": null,
      "outputs": []
    },
    {
      "cell_type": "markdown",
      "source": [
        "## Average sales vs. Store name"
      ],
      "metadata": {
        "id": "zGyLjbf4FGb_"
      }
    },
    {
      "cell_type": "code",
      "source": [
        "df = pd.DataFrame(np.transpose([means, store_list]))\n",
        "df.columns = [\"Mean sales\", \"Store name\"]\n",
        "px.bar(df, y=\"Mean sales\", x=\"Store name\", color=\"Store name\", title=\"Average sales vs. Store name\")"
      ],
      "metadata": {
        "execution": {
          "iopub.status.busy": "2021-07-26T10:16:34.654076Z",
          "iopub.execute_input": "2021-07-26T10:16:34.654466Z",
          "iopub.status.idle": "2021-07-26T10:16:35.055625Z",
          "shell.execute_reply.started": "2021-07-26T10:16:34.654435Z",
          "shell.execute_reply": "2021-07-26T10:16:35.054853Z"
        },
        "trusted": true,
        "id": "oemrBekXFGb_"
      },
      "execution_count": null,
      "outputs": []
    },
    {
      "cell_type": "markdown",
      "source": [
        "> \n",
        "* From the above graph, we can see the same trends: California stores have the highest variance and mean sales among all the stores in the dataset. \n",
        "* And California store 4 have the lowest variance and mean sales among all the stores in the dataset"
      ],
      "metadata": {
        "execution": {
          "iopub.status.busy": "2021-07-26T06:48:08.582181Z",
          "iopub.execute_input": "2021-07-26T06:48:08.582587Z",
          "iopub.status.idle": "2021-07-26T06:48:08.659Z",
          "shell.execute_reply.started": "2021-07-26T06:48:08.582551Z",
          "shell.execute_reply": "2021-07-26T06:48:08.657553Z"
        },
        "id": "vDxjrPoxFGcA"
      }
    },
    {
      "cell_type": "markdown",
      "source": [
        "## Rolling Average Sales vs. Time (California)"
      ],
      "metadata": {
        "id": "WNhXFbXdFGcA"
      }
    },
    {
      "cell_type": "code",
      "source": [
        "greens = [\"mediumaquamarine\", \"orange\", \"red\", \"green\"]\n",
        "store_list = sell_prices['store_id'].unique()\n",
        "fig = go.Figure()\n",
        "means = []\n",
        "stores = []\n",
        "for i, s in enumerate(store_list):\n",
        "    if \"ca\" in s or \"CA\" in s:\n",
        "        store_items = [c for c in past_sales.columns if s in c]\n",
        "        data = past_sales[store_items].sum(axis=1).rolling(90).mean()\n",
        "        means.append(np.mean(past_sales[store_items].sum(axis=1)))\n",
        "        stores.append(s)\n",
        "        fig.add_trace(go.Scatter(x=np.arange(len(data)), y=data, name=s, marker=dict(color=greens[i])))\n",
        "    \n",
        "fig.update_layout(yaxis_title=\"Sales\", xaxis_title=\"Time\", title=\"Rolling Average Sales vs. Time (California)\")"
      ],
      "metadata": {
        "execution": {
          "iopub.status.busy": "2021-07-26T10:16:35.453736Z",
          "iopub.execute_input": "2021-07-26T10:16:35.454266Z",
          "iopub.status.idle": "2021-07-26T10:16:36.209443Z",
          "shell.execute_reply.started": "2021-07-26T10:16:35.454232Z",
          "shell.execute_reply": "2021-07-26T10:16:36.208569Z"
        },
        "trusted": true,
        "id": "ZdqrTmjTFGcA"
      },
      "execution_count": null,
      "outputs": []
    },
    {
      "cell_type": "markdown",
      "source": [
        "* In the above graph, we can see the large disparity in sales among California stores. \n",
        "* The sales curves almost never intersect each other. This may indicate that there are certain \"hubs\" of development in California which do not change over time. \n",
        "* And other areas always remain behind these \"hubs\". The average sales in descending order are CA_3, CA_1, CA_2, CA_4. The store CA_3 has maximum sales while the store CA_4 has minimum sales."
      ],
      "metadata": {
        "id": "PFE_52SgFGcB"
      }
    },
    {
      "cell_type": "markdown",
      "source": [
        "## Mean sales vs. Store name (California)"
      ],
      "metadata": {
        "id": "N7avLg1fFGcB"
      }
    },
    {
      "cell_type": "code",
      "source": [
        "\n",
        "df = pd.DataFrame(np.transpose([means, stores]))\n",
        "df.columns = [\"Mean sales\", \"Store name\"]\n",
        "px.bar(df, y=\"Mean sales\", x=\"Store name\", color=\"Store name\", title=\"Mean sales vs. Store name\", color_continuous_scale=greens)\n",
        "\n",
        "\n",
        "fig = go.Figure(data=[\n",
        "    go.Bar(name='', x=stores, y=means, marker={'color' : greens})])\n",
        "\n",
        "fig.update_layout(title=\"Mean sales vs. Store name (California)\", yaxis=dict(title=\"Mean sales\"), xaxis=dict(title=\"Store name\"))\n",
        "fig.update_layout(barmode='group')\n",
        "fig.show()"
      ],
      "metadata": {
        "execution": {
          "iopub.status.busy": "2021-07-26T10:16:37.813588Z",
          "iopub.execute_input": "2021-07-26T10:16:37.814245Z",
          "iopub.status.idle": "2021-07-26T10:16:37.898073Z",
          "shell.execute_reply.started": "2021-07-26T10:16:37.814206Z",
          "shell.execute_reply": "2021-07-26T10:16:37.897122Z"
        },
        "trusted": true,
        "id": "mz2CzpSQFGcB"
      },
      "execution_count": null,
      "outputs": []
    },
    {
      "cell_type": "markdown",
      "source": [
        "In the above plots, we can see the same relationship. The store CA_3 has maximum sales while the store CA_4 has minimum sales."
      ],
      "metadata": {
        "id": "hQtkplyhFGcC"
      }
    },
    {
      "cell_type": "markdown",
      "source": [
        "## Rolling Average Sales vs. Time (Wisconsin)"
      ],
      "metadata": {
        "id": "TRGwcO8IFGcC"
      }
    },
    {
      "cell_type": "code",
      "source": [
        "purples = [\"red\", \"violet\", \"purple\", \"indigo\"]\n",
        "store_list = sell_prices['store_id'].unique()\n",
        "fig = go.Figure()\n",
        "means = []\n",
        "stores = []\n",
        "for i, s in enumerate(store_list):\n",
        "    if \"wi\" in s or \"WI\" in s:\n",
        "        store_items = [c for c in past_sales.columns if s in c]\n",
        "        data = past_sales[store_items].sum(axis=1).rolling(90).mean()\n",
        "        means.append(np.mean(past_sales[store_items].sum(axis=1)))\n",
        "        stores.append(s)\n",
        "        fig.add_trace(go.Scatter(x=np.arange(len(data)), y=data, name=s, marker=dict(color=purples[i%len(purples)])))\n",
        "    \n",
        "fig.update_layout(yaxis_title=\"Sales\", xaxis_title=\"Time\", title=\"Rolling Average Sales vs. Time (Wisconsin)\")"
      ],
      "metadata": {
        "execution": {
          "iopub.status.busy": "2021-07-26T10:16:38.814032Z",
          "iopub.execute_input": "2021-07-26T10:16:38.814464Z",
          "iopub.status.idle": "2021-07-26T10:16:39.475024Z",
          "shell.execute_reply.started": "2021-07-26T10:16:38.814428Z",
          "shell.execute_reply": "2021-07-26T10:16:39.474006Z"
        },
        "trusted": true,
        "id": "VZFim3CKFGcC"
      },
      "execution_count": null,
      "outputs": []
    },
    {
      "cell_type": "markdown",
      "source": [
        "In the above graph, we can see a very low disparity in sales among Wisconsin stores. The sales curves intersect each other very often. This may indicate that most parts of Wisconsin have a similar \"development curve\" and that there is a greater equity in development across the state. There are no specific \"hotspots\" or \"hubs\" of development. The average sales in descending order are WI_2, WI_3, WI_1. The store WI_2 has maximum sales while the store WI_1 has minimum sales."
      ],
      "metadata": {
        "id": "ylUszbAjFGcC"
      }
    },
    {
      "cell_type": "markdown",
      "source": [
        "## Mean sales vs. Store name (Wisconsin)"
      ],
      "metadata": {
        "id": "UxoYrwhtFGcC"
      }
    },
    {
      "cell_type": "code",
      "source": [
        "df = pd.DataFrame(np.transpose([means, stores]))\n",
        "df.columns = [\"Mean sales\", \"Store name\"]\n",
        "px.bar(df, y=\"Mean sales\", x=\"Store name\", color=\"Store name\", title=\"Mean sales vs. Store name\", color_continuous_scale=greens)\n",
        "\n",
        "\n",
        "fig = go.Figure(data=[\n",
        "    go.Bar(name='', x=stores, y=means, marker={'color' : purples})])\n",
        "\n",
        "fig.update_layout(title=\"Mean sales vs. Store name (Wisconsin)\", yaxis=dict(title=\"Mean sales\"), xaxis=dict(title=\"Store name\"))\n",
        "fig.update_layout(barmode='group')\n",
        "fig.show()"
      ],
      "metadata": {
        "execution": {
          "iopub.status.busy": "2021-07-26T10:16:56.493959Z",
          "iopub.execute_input": "2021-07-26T10:16:56.494413Z",
          "iopub.status.idle": "2021-07-26T10:16:56.580928Z",
          "shell.execute_reply.started": "2021-07-26T10:16:56.494372Z",
          "shell.execute_reply": "2021-07-26T10:16:56.579758Z"
        },
        "trusted": true,
        "id": "WK_cS6JJFGcC"
      },
      "execution_count": null,
      "outputs": []
    },
    {
      "cell_type": "code",
      "source": [
        "green = [\"orange\", \"yellow\", \"seagreen\"]\n",
        "store_list = sell_prices['store_id'].unique()\n",
        "fig = go.Figure()\n",
        "means = []\n",
        "stores = []\n",
        "for i, s in enumerate(store_list):\n",
        "    if \"tx\" in s or \"TX\" in s:\n",
        "        store_items = [c for c in past_sales.columns if s in c]\n",
        "        data = past_sales[store_items].sum(axis=1).rolling(90).mean()\n",
        "        means.append(np.mean(past_sales[store_items].sum(axis=1)))\n",
        "        stores.append(s)\n",
        "        fig.add_trace(go.Scatter(x=np.arange(len(data)), y=data, name=s, marker=dict(color=green[i%len(green)])))\n",
        "    \n",
        "fig.update_layout(yaxis_title=\"Sales\", xaxis_title=\"Time\", title=\"Rolling Average Sales vs. Time (Texas)\")"
      ],
      "metadata": {
        "execution": {
          "iopub.status.busy": "2021-07-26T10:16:56.753604Z",
          "iopub.execute_input": "2021-07-26T10:16:56.75404Z",
          "iopub.status.idle": "2021-07-26T10:16:57.370962Z",
          "shell.execute_reply.started": "2021-07-26T10:16:56.754005Z",
          "shell.execute_reply": "2021-07-26T10:16:57.369962Z"
        },
        "trusted": true,
        "id": "CPJmyPX7FGcD"
      },
      "execution_count": null,
      "outputs": []
    },
    {
      "cell_type": "markdown",
      "source": [
        "### Observations\n",
        "> In the above graph, \n",
        "* we can once again see that a very low disparity in sales among Texas stores. \n",
        "* The sales curves intersect each other often, albeit not as often as in Wisconsin. \n",
        "* This might once again indicate that most parts of Texas have a similar \"development curve\" and that there is a greater equity in development across the state. \n",
        "* The variance here is higher than in Wisconsin though, so there might be \"hubs\" of development in Texas as well, but not as pronounced as in California. \n",
        "* The average sales in descending order are TX_2, TX_3, TX_1. The store TX_2 has maximum sales while the store TX_1 has minimum sales."
      ],
      "metadata": {
        "id": "EbZhk936FGcD"
      }
    },
    {
      "cell_type": "code",
      "source": [
        "df = pd.DataFrame(np.transpose([means, stores]))\n",
        "df.columns = [\"Mean sales\", \"Store name\"]\n",
        "px.bar(df, y=\"Mean sales\", x=\"Store name\", color=\"Store name\", title=\"Mean sales vs. Store name\", color_continuous_scale=greens)\n",
        "\n",
        "\n",
        "fig = go.Figure(data=[\n",
        "    go.Bar(name='', x=stores, y=means, marker={'color' : green})])\n",
        "\n",
        "fig.update_layout(title=\"Mean sales vs. Store name (Texas)\", yaxis=dict(title=\"Mean sales\"), xaxis=dict(title=\"Store name\"))\n",
        "fig.update_layout(barmode='group')\n",
        "fig.show()"
      ],
      "metadata": {
        "execution": {
          "iopub.status.busy": "2021-07-26T10:16:57.373706Z",
          "iopub.execute_input": "2021-07-26T10:16:57.374092Z",
          "iopub.status.idle": "2021-07-26T10:16:57.461189Z",
          "shell.execute_reply.started": "2021-07-26T10:16:57.374048Z",
          "shell.execute_reply": "2021-07-26T10:16:57.459919Z"
        },
        "trusted": true,
        "id": "2N06MXk4FGcD"
      },
      "execution_count": null,
      "outputs": []
    },
    {
      "cell_type": "markdown",
      "source": [
        "### Observations\n",
        "* In the above plots, we can see the same relationship. The store TX_2 has maximum sales while the store TX_1 has minimum sales."
      ],
      "metadata": {
        "id": "dL9j29j6FGcD"
      }
    },
    {
      "cell_type": "code",
      "source": [],
      "metadata": {
        "id": "9N2RIMZ_FGcD"
      },
      "execution_count": null,
      "outputs": []
    },
    {
      "cell_type": "code",
      "source": [
        "import gc\n",
        "del tmp_df\n",
        "gc.collect()"
      ],
      "metadata": {
        "execution": {
          "iopub.status.busy": "2021-07-26T10:16:58.113289Z",
          "iopub.execute_input": "2021-07-26T10:16:58.113779Z",
          "iopub.status.idle": "2021-07-26T10:16:58.317338Z",
          "shell.execute_reply.started": "2021-07-26T10:16:58.113738Z",
          "shell.execute_reply": "2021-07-26T10:16:58.315637Z"
        },
        "trusted": true,
        "id": "UpGrIecsFGcD"
      },
      "execution_count": null,
      "outputs": []
    },
    {
      "cell_type": "code",
      "source": [
        "train_sales = pd.get_dummies(data=train_sales, columns=['dept_id', 'cat_id', 'store_id', 'state_id'])\n",
        "train_sales_test = pd.get_dummies(data=train_sales_test, columns=['dept_id', 'cat_id', 'store_id', 'state_id'])"
      ],
      "metadata": {
        "execution": {
          "iopub.status.busy": "2021-07-26T10:16:58.319562Z",
          "iopub.execute_input": "2021-07-26T10:16:58.319944Z",
          "iopub.status.idle": "2021-07-26T10:17:00.890034Z",
          "shell.execute_reply.started": "2021-07-26T10:16:58.31991Z",
          "shell.execute_reply": "2021-07-26T10:17:00.888714Z"
        },
        "trusted": true,
        "id": "vG0T_EcEFGcD"
      },
      "execution_count": null,
      "outputs": []
    },
    {
      "cell_type": "code",
      "source": [
        "train_sales.info()"
      ],
      "metadata": {
        "execution": {
          "iopub.status.busy": "2021-07-26T10:17:00.892089Z",
          "iopub.execute_input": "2021-07-26T10:17:00.892424Z",
          "iopub.status.idle": "2021-07-26T10:17:01.591556Z",
          "shell.execute_reply.started": "2021-07-26T10:17:00.892392Z",
          "shell.execute_reply": "2021-07-26T10:17:01.590626Z"
        },
        "trusted": true,
        "id": "PQ8VhSlKFGcE"
      },
      "execution_count": null,
      "outputs": []
    },
    {
      "cell_type": "code",
      "source": [
        "train_sales_test.head(10).T"
      ],
      "metadata": {
        "execution": {
          "iopub.status.busy": "2021-07-26T10:17:07.283183Z",
          "iopub.execute_input": "2021-07-26T10:17:07.283681Z",
          "iopub.status.idle": "2021-07-26T10:17:07.330256Z",
          "shell.execute_reply.started": "2021-07-26T10:17:07.28364Z",
          "shell.execute_reply": "2021-07-26T10:17:07.328885Z"
        },
        "trusted": true,
        "id": "2QsBWz2nFGcE"
      },
      "execution_count": null,
      "outputs": []
    },
    {
      "cell_type": "code",
      "source": [
        "train_sales_test =train_sales_test.drop(['sell_price_x', 'snap_CA', 'snap_TX', 'snap_WI'], axis='columns')\n",
        "train_sales_test = train_sales_test.rename(columns={'sell_price_y': 'sell_price'})\n",
        "train_sales = train_sales.drop(['snap_CA', 'snap_TX', 'snap_WI'], axis='columns')                                   "
      ],
      "metadata": {
        "execution": {
          "iopub.status.busy": "2021-07-26T10:17:07.513248Z",
          "iopub.execute_input": "2021-07-26T10:17:07.513672Z",
          "iopub.status.idle": "2021-07-26T10:17:08.313894Z",
          "shell.execute_reply.started": "2021-07-26T10:17:07.513634Z",
          "shell.execute_reply": "2021-07-26T10:17:08.312592Z"
        },
        "trusted": true,
        "id": "-qOMekAaFGcE"
      },
      "execution_count": null,
      "outputs": []
    },
    {
      "cell_type": "code",
      "source": [
        "train_sales.info()"
      ],
      "metadata": {
        "execution": {
          "iopub.status.busy": "2021-07-26T10:17:08.316344Z",
          "iopub.execute_input": "2021-07-26T10:17:08.316784Z",
          "iopub.status.idle": "2021-07-26T10:17:08.33521Z",
          "shell.execute_reply.started": "2021-07-26T10:17:08.316745Z",
          "shell.execute_reply": "2021-07-26T10:17:08.333801Z"
        },
        "trusted": true,
        "id": "EiAFNfn6FGcE"
      },
      "execution_count": null,
      "outputs": []
    },
    {
      "cell_type": "code",
      "source": [
        "train_sales_test.info()"
      ],
      "metadata": {
        "execution": {
          "iopub.status.busy": "2021-07-26T10:17:08.336926Z",
          "iopub.execute_input": "2021-07-26T10:17:08.337305Z",
          "iopub.status.idle": "2021-07-26T10:17:08.799133Z",
          "shell.execute_reply.started": "2021-07-26T10:17:08.337256Z",
          "shell.execute_reply": "2021-07-26T10:17:08.798069Z"
        },
        "trusted": true,
        "id": "bizeksRCFGcE"
      },
      "execution_count": null,
      "outputs": []
    },
    {
      "cell_type": "markdown",
      "source": [
        "<a id='mt'></a>\n",
        "# <p style=\"background-color:skyblue; font-family:newtimeroman; font-size:250%; text-align:center; border-radius: 15px 50px;\">Model Training</p>"
      ],
      "metadata": {
        "id": "YVZo-ggNFGcE"
      }
    },
    {
      "cell_type": "code",
      "source": [
        "from sklearn.model_selection import train_test_split\n",
        "\n",
        "\n",
        "target_col = 'qty'\n",
        "\n",
        "\n",
        "exclude_cols = ['id', 'item_id', 'd', 'date', 'wm_yr_wk']\n",
        "\n",
        "\n",
        "feature_cols = [col for col in train_sales.columns if col not in exclude_cols]\n",
        "\n",
        "\n",
        "y = np.array(train_sales[target_col])\n",
        "X = np.array(train_sales[feature_cols])\n",
        "\n",
        "X_train, X_test, y_train, y_test = \\\n",
        " train_test_split(X, y, test_size=0.3, random_state=1234)\n",
        "\n",
        "\n",
        "# X_train1, X_train2, y_train1, y_train2 = \\\n",
        "#  train_test_split(X_train, y_train, test_size=0.3, random_state=1234)\n",
        "\n"
      ],
      "metadata": {
        "execution": {
          "iopub.status.busy": "2021-07-26T10:17:08.807648Z",
          "iopub.execute_input": "2021-07-26T10:17:08.808066Z",
          "iopub.status.idle": "2021-07-26T10:17:11.029342Z",
          "shell.execute_reply.started": "2021-07-26T10:17:08.808027Z",
          "shell.execute_reply": "2021-07-26T10:17:11.02825Z"
        },
        "trusted": true,
        "id": "1pMOPEgpFGcE"
      },
      "execution_count": null,
      "outputs": []
    },
    {
      "cell_type": "markdown",
      "source": [
        "## LightGBM"
      ],
      "metadata": {
        "id": "r0phj854FGcF"
      }
    },
    {
      "cell_type": "code",
      "source": [
        "import lightgbm as lgb\n",
        "\n",
        "\n",
        "lgb_train = lgb.Dataset(X_train, y_train)\n",
        "lgb_eval = lgb.Dataset(X_test, y_test)\n",
        "\n",
        "params = {\n",
        "    'boosting_type': 'gbdt',\n",
        "    'metric': 'rmse',\n",
        "    'objective': 'regression',\n",
        "    'n_jobs': -1,\n",
        "    'seed': 236,\n",
        "    'learning_rate': 0.01,\n",
        "    'bagging_fraction': 0.75,\n",
        "    'bagging_freq': 10, \n",
        "    'colsample_bytree': 0.75}\n",
        "\n",
        "model = lgb.train(params, lgb_train, num_boost_round=2500, early_stopping_rounds=50, valid_sets = [lgb_train, lgb_eval], verbose_eval=100)"
      ],
      "metadata": {
        "execution": {
          "iopub.status.busy": "2021-07-26T10:17:11.032183Z",
          "iopub.execute_input": "2021-07-26T10:17:11.032579Z",
          "iopub.status.idle": "2021-07-26T10:20:44.878512Z",
          "shell.execute_reply.started": "2021-07-26T10:17:11.03254Z",
          "shell.execute_reply": "2021-07-26T10:20:44.87734Z"
        },
        "trusted": true,
        "id": "pdPSn4Y-FGcF"
      },
      "execution_count": null,
      "outputs": []
    },
    {
      "cell_type": "markdown",
      "source": [
        "## Observations :\n",
        "* When training LightGBM on this dataset Training loss is 0.1173 and validation loss is 0.080 .. \n"
      ],
      "metadata": {
        "execution": {
          "iopub.status.busy": "2021-07-26T10:45:30.225981Z",
          "iopub.execute_input": "2021-07-26T10:45:30.226403Z",
          "iopub.status.idle": "2021-07-26T10:45:30.23193Z",
          "shell.execute_reply.started": "2021-07-26T10:45:30.226369Z",
          "shell.execute_reply": "2021-07-26T10:45:30.230229Z"
        },
        "id": "TvCXNGivFGcF"
      }
    },
    {
      "cell_type": "code",
      "source": [
        "pred = model.predict(train_sales_test[feature_cols])"
      ],
      "metadata": {
        "execution": {
          "iopub.status.busy": "2021-07-26T10:20:44.884284Z",
          "iopub.execute_input": "2021-07-26T10:20:44.886888Z",
          "iopub.status.idle": "2021-07-26T10:21:21.638055Z",
          "shell.execute_reply.started": "2021-07-26T10:20:44.886819Z",
          "shell.execute_reply": "2021-07-26T10:21:21.635991Z"
        },
        "trusted": true,
        "id": "VrcS93GMFGcF"
      },
      "execution_count": null,
      "outputs": []
    },
    {
      "cell_type": "code",
      "source": [
        "len(pred)"
      ],
      "metadata": {
        "execution": {
          "iopub.status.busy": "2021-07-26T10:21:21.640252Z",
          "iopub.execute_input": "2021-07-26T10:21:21.640747Z",
          "iopub.status.idle": "2021-07-26T10:21:21.647901Z",
          "shell.execute_reply.started": "2021-07-26T10:21:21.640709Z",
          "shell.execute_reply": "2021-07-26T10:21:21.646884Z"
        },
        "trusted": true,
        "id": "b3lqVyu7FGcF"
      },
      "execution_count": null,
      "outputs": []
    },
    {
      "cell_type": "code",
      "source": [
        "train_sales_test['pred_qty'] = pred"
      ],
      "metadata": {
        "execution": {
          "iopub.status.busy": "2021-07-26T10:30:48.508726Z",
          "iopub.execute_input": "2021-07-26T10:30:48.50916Z",
          "iopub.status.idle": "2021-07-26T10:30:48.522727Z",
          "shell.execute_reply.started": "2021-07-26T10:30:48.509122Z",
          "shell.execute_reply": "2021-07-26T10:30:48.52157Z"
        },
        "trusted": true,
        "id": "vdBRqhaVFGcF"
      },
      "execution_count": null,
      "outputs": []
    },
    {
      "cell_type": "code",
      "source": [
        "train_sales_test"
      ],
      "metadata": {
        "execution": {
          "iopub.status.busy": "2021-07-26T10:26:39.233011Z",
          "iopub.execute_input": "2021-07-26T10:26:39.233392Z",
          "iopub.status.idle": "2021-07-26T10:26:39.666119Z",
          "shell.execute_reply.started": "2021-07-26T10:26:39.233358Z",
          "shell.execute_reply": "2021-07-26T10:26:39.66489Z"
        },
        "trusted": true,
        "id": "rSFF0DC-FGcG"
      },
      "execution_count": null,
      "outputs": []
    },
    {
      "cell_type": "code",
      "source": [
        "predictions = train_sales_test[['id', 'date', 'pred_qty']]\n",
        "predictions = pd.pivot(predictions, index = 'id', columns = 'date', values = 'pred_qty').reset_index()\n",
        "predictions"
      ],
      "metadata": {
        "execution": {
          "iopub.status.busy": "2021-07-26T10:26:39.668202Z",
          "iopub.execute_input": "2021-07-26T10:26:39.668562Z",
          "iopub.status.idle": "2021-07-26T10:26:40.505311Z",
          "shell.execute_reply.started": "2021-07-26T10:26:39.668531Z",
          "shell.execute_reply": "2021-07-26T10:26:40.503722Z"
        },
        "trusted": true,
        "id": "vOl3-tLAFGcG"
      },
      "execution_count": null,
      "outputs": []
    },
    {
      "cell_type": "code",
      "source": [
        "# Let's describe Predictions\n",
        "predictions.describe()"
      ],
      "metadata": {
        "execution": {
          "iopub.status.busy": "2021-07-26T10:26:40.507534Z",
          "iopub.execute_input": "2021-07-26T10:26:40.507851Z",
          "iopub.status.idle": "2021-07-26T10:26:40.647388Z",
          "shell.execute_reply.started": "2021-07-26T10:26:40.507821Z",
          "shell.execute_reply": "2021-07-26T10:26:40.64654Z"
        },
        "trusted": true,
        "id": "EubbKaC5FGcG"
      },
      "execution_count": null,
      "outputs": []
    },
    {
      "cell_type": "code",
      "source": [
        "predictions = predictions.drop(predictions.columns[1], axis=1)\n",
        "predictions"
      ],
      "metadata": {
        "execution": {
          "iopub.status.busy": "2021-07-26T10:26:40.649142Z",
          "iopub.execute_input": "2021-07-26T10:26:40.649501Z",
          "iopub.status.idle": "2021-07-26T10:26:40.704339Z",
          "shell.execute_reply.started": "2021-07-26T10:26:40.649452Z",
          "shell.execute_reply": "2021-07-26T10:26:40.703262Z"
        },
        "trusted": true,
        "id": "AipJbVFCFGcG"
      },
      "execution_count": null,
      "outputs": []
    },
    {
      "cell_type": "code",
      "source": [
        "predictions.columns = ['id'] + ['F' + str(i + 1) for i in range(28)]\n",
        "predictions"
      ],
      "metadata": {
        "execution": {
          "iopub.status.busy": "2021-07-26T10:26:40.706131Z",
          "iopub.execute_input": "2021-07-26T10:26:40.70653Z",
          "iopub.status.idle": "2021-07-26T10:26:40.761687Z",
          "shell.execute_reply.started": "2021-07-26T10:26:40.706455Z",
          "shell.execute_reply": "2021-07-26T10:26:40.760386Z"
        },
        "trusted": true,
        "id": "m0kSx4yNFGcG"
      },
      "execution_count": null,
      "outputs": []
    },
    {
      "cell_type": "code",
      "source": [
        "x = 2744099 + 1 - 853720\n",
        "df_val = train_sales[x:]"
      ],
      "metadata": {
        "execution": {
          "iopub.status.busy": "2021-07-26T10:26:41.233404Z",
          "iopub.execute_input": "2021-07-26T10:26:41.23383Z",
          "iopub.status.idle": "2021-07-26T10:26:41.255335Z",
          "shell.execute_reply.started": "2021-07-26T10:26:41.233793Z",
          "shell.execute_reply": "2021-07-26T10:26:41.252506Z"
        },
        "trusted": true,
        "id": "BqKpZP5zFGcH"
      },
      "execution_count": null,
      "outputs": []
    },
    {
      "cell_type": "code",
      "source": [
        "predictions_v = df_val[['id', 'date', 'qty']]\n",
        "predictions_v = pd.pivot(predictions_v, index = 'id', columns = 'date', values = 'qty').reset_index()\n",
        "predictions_v"
      ],
      "metadata": {
        "execution": {
          "iopub.status.busy": "2021-07-26T10:26:41.513302Z",
          "iopub.execute_input": "2021-07-26T10:26:41.513718Z",
          "iopub.status.idle": "2021-07-26T10:26:42.267852Z",
          "shell.execute_reply.started": "2021-07-26T10:26:41.513681Z",
          "shell.execute_reply": "2021-07-26T10:26:42.265772Z"
        },
        "trusted": true,
        "id": "jMO6eQ5LFGcH"
      },
      "execution_count": null,
      "outputs": []
    },
    {
      "cell_type": "code",
      "source": [
        "predictions_v['id'] = predictions['id'].apply(lambda x: x.replace('evaluation', 'validation'))\n",
        "predictions_v.head()"
      ],
      "metadata": {
        "execution": {
          "iopub.status.busy": "2021-07-26T10:26:42.413353Z",
          "iopub.execute_input": "2021-07-26T10:26:42.41382Z",
          "iopub.status.idle": "2021-07-26T10:26:42.460994Z",
          "shell.execute_reply.started": "2021-07-26T10:26:42.413782Z",
          "shell.execute_reply": "2021-07-26T10:26:42.459463Z"
        },
        "trusted": true,
        "id": "tfr2wqZyFGcH"
      },
      "execution_count": null,
      "outputs": []
    },
    {
      "cell_type": "code",
      "source": [
        "predictions_v.columns = ['id'] + ['F' + str(i + 1) for i in range(28)]\n",
        "predictions_v.head()"
      ],
      "metadata": {
        "execution": {
          "iopub.status.busy": "2021-07-26T10:26:42.758456Z",
          "iopub.execute_input": "2021-07-26T10:26:42.75894Z",
          "iopub.status.idle": "2021-07-26T10:26:42.786224Z",
          "shell.execute_reply.started": "2021-07-26T10:26:42.758903Z",
          "shell.execute_reply": "2021-07-26T10:26:42.784461Z"
        },
        "trusted": true,
        "id": "AkmLY1MQFGcH"
      },
      "execution_count": null,
      "outputs": []
    },
    {
      "cell_type": "markdown",
      "source": [
        "## LSTM model Training"
      ],
      "metadata": {
        "id": "4QeAOju_FGcH"
      }
    },
    {
      "cell_type": "code",
      "source": [
        "#Feature Scaling\n",
        "#Scale the features using min-max scaler in range 0-1\n",
        "from sklearn.preprocessing import MinMaxScaler\n",
        "sc = MinMaxScaler(feature_range = (0, 1))\n",
        "dt_scaled = sc.fit_transform(train_sales.drop(['id', 'item_id', 'd', 'date', 'wm_yr_wk'],axis=1))"
      ],
      "metadata": {
        "execution": {
          "iopub.status.busy": "2021-07-26T10:26:43.2486Z",
          "iopub.execute_input": "2021-07-26T10:26:43.249033Z",
          "iopub.status.idle": "2021-07-26T10:26:44.543041Z",
          "shell.execute_reply.started": "2021-07-26T10:26:43.248995Z",
          "shell.execute_reply": "2021-07-26T10:26:44.541958Z"
        },
        "trusted": true,
        "id": "-RxPx_IBFGcH"
      },
      "execution_count": null,
      "outputs": []
    },
    {
      "cell_type": "code",
      "source": [
        "timesteps = 14\n",
        "startDay = 350\n",
        "X_train = []\n",
        "y_train = []\n",
        "for i in range(timesteps, 1941 - startDay):\n",
        "    X_train.append(dt_scaled[i-timesteps:i])\n",
        "    y_train.append(dt_scaled[i][0:30490]) \n",
        "    #İmportant!! if extra features are added (like oneDayBeforeEvent) \n",
        "    #use only sales values for predictions (we only predict sales) \n",
        "    #this is why 0:30490 columns are choosen"
      ],
      "metadata": {
        "execution": {
          "iopub.status.busy": "2021-07-26T10:26:44.545415Z",
          "iopub.execute_input": "2021-07-26T10:26:44.545774Z",
          "iopub.status.idle": "2021-07-26T10:26:44.558788Z",
          "shell.execute_reply.started": "2021-07-26T10:26:44.54574Z",
          "shell.execute_reply": "2021-07-26T10:26:44.557612Z"
        },
        "trusted": true,
        "id": "3A8GwmJOFGcI"
      },
      "execution_count": null,
      "outputs": []
    },
    {
      "cell_type": "code",
      "source": [
        "del dt_scaled"
      ],
      "metadata": {
        "execution": {
          "iopub.status.busy": "2021-07-26T10:26:44.560154Z",
          "iopub.execute_input": "2021-07-26T10:26:44.56047Z",
          "iopub.status.idle": "2021-07-26T10:26:44.576685Z",
          "shell.execute_reply.started": "2021-07-26T10:26:44.560438Z",
          "shell.execute_reply": "2021-07-26T10:26:44.575446Z"
        },
        "trusted": true,
        "id": "EVbXJwmhFGcI"
      },
      "execution_count": null,
      "outputs": []
    },
    {
      "cell_type": "code",
      "source": [
        "#Convert to np array to be able to feed the LSTM model\n",
        "X_train = np.array(X_train)\n",
        "y_train = np.array(y_train)\n",
        "print(X_train.shape)\n",
        "print(y_train.shape)"
      ],
      "metadata": {
        "execution": {
          "iopub.status.busy": "2021-07-26T10:26:45.312999Z",
          "iopub.execute_input": "2021-07-26T10:26:45.313543Z",
          "iopub.status.idle": "2021-07-26T10:26:45.338507Z",
          "shell.execute_reply.started": "2021-07-26T10:26:45.313497Z",
          "shell.execute_reply": "2021-07-26T10:26:45.337098Z"
        },
        "trusted": true,
        "id": "VzLDuFIBFGcI"
      },
      "execution_count": null,
      "outputs": []
    },
    {
      "cell_type": "code",
      "source": [
        "# Importing the Keras libraries and packages\n",
        "from keras.models import Sequential\n",
        "from keras.layers import Dense\n",
        "from keras.layers import LSTM\n",
        "from keras.layers import Dropout\n",
        "\n",
        "# Initialising the RNN\n",
        "regressor = Sequential()\n",
        "\n",
        "# Adding the first LSTM layer and some Dropout regularisation\n",
        "layer_1_units=50\n",
        "regressor.add(LSTM(units = layer_1_units, return_sequences = True, input_shape = (X_train.shape[1], X_train.shape[2])))\n",
        "regressor.add(Dropout(0.2))\n",
        "\n",
        "# Adding a third LSTM layer and some Dropout regularisation\n",
        "layer_3_units=400\n",
        "regressor.add(LSTM(units = layer_3_units, return_sequences = True))\n",
        "regressor.add(Dropout(0.2))\n",
        "\n",
        "# Adding a third LSTM layer and some Dropout regularisation\n",
        "layer_3_units=400\n",
        "regressor.add(LSTM(units = layer_3_units))\n",
        "regressor.add(Dropout(0.2))\n",
        "\n",
        "# Adding the output layer\n",
        "regressor.add(Dense(units = 29))\n",
        "\n",
        "# Compiling the RNN\n",
        "regressor.compile(optimizer = 'adam', loss = 'mean_squared_error')\n",
        "\n",
        "# Fitting the RNN to the Training set\n",
        "epoch_no=32\n",
        "batch_size_RNN=44\n",
        "regressor.fit(X_train, y_train, epochs = epoch_no, batch_size = batch_size_RNN)"
      ],
      "metadata": {
        "execution": {
          "iopub.status.busy": "2021-07-26T10:26:46.078453Z",
          "iopub.execute_input": "2021-07-26T10:26:46.079022Z",
          "iopub.status.idle": "2021-07-26T10:30:48.491706Z",
          "shell.execute_reply.started": "2021-07-26T10:26:46.078976Z",
          "shell.execute_reply": "2021-07-26T10:30:48.49051Z"
        },
        "trusted": true,
        "id": "_9iFR2-iFGcI"
      },
      "execution_count": null,
      "outputs": []
    },
    {
      "cell_type": "markdown",
      "source": [
        "## Observations \n",
        "* After training multiple algorithms LSTM working well rather than LighGBM\n",
        "* Loss for LSTM is 0.0016 it's really working well when compared to LightGBM ."
      ],
      "metadata": {
        "execution": {
          "iopub.status.busy": "2021-07-26T10:44:22.916285Z",
          "iopub.execute_input": "2021-07-26T10:44:22.916782Z",
          "iopub.status.idle": "2021-07-26T10:44:22.926603Z",
          "shell.execute_reply.started": "2021-07-26T10:44:22.91674Z",
          "shell.execute_reply": "2021-07-26T10:44:22.92466Z"
        },
        "id": "a9H4nxkfFGcI"
      }
    }
  ]
}