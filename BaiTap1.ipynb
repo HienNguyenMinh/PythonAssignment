{
  "nbformat": 4,
  "nbformat_minor": 0,
  "metadata": {
    "colab": {
      "provenance": [],
      "collapsed_sections": [],
      "include_colab_link": true
    },
    "kernelspec": {
      "name": "python3",
      "display_name": "Python 3"
    },
    "language_info": {
      "name": "python"
    }
  },
  "cells": [
    {
      "cell_type": "markdown",
      "metadata": {
        "id": "view-in-github",
        "colab_type": "text"
      },
      "source": [
        "<a href=\"https://colab.research.google.com/github/HienNguyenMinh/PythonAssignment/blob/main/BaiTap1.ipynb\" target=\"_parent\"><img src=\"https://colab.research.google.com/assets/colab-badge.svg\" alt=\"Open In Colab\"/></a>"
      ]
    },
    {
      "cell_type": "markdown",
      "source": [
        "Học viên: Nguyễn Thị Minh Hiền\n",
        "\n",
        "Khóa: MSE11_HCM\n",
        "\n",
        "\n",
        "#Giải Thích Để Hiểu Về M5-Forecasting Bằng Tiếng Việt\n",
        "#Giới thiệu:\n",
        "Trong cuộc thi tên là M5-Forecasting, những người tham gia cuộc thi sử dụng dữ liệu bán hàng phân cấp được trích xuất từ Walmart cho việc phân tích và dự đoán doanh số hàng ngày trong 28 ngày tới. *(Walmart là công ty lớn nhất thế giới theo doanh thu)*.\n",
        "Tập dữ liệu bán hàng chứa thông tin của khoảng 30.000 mặt hàng khác nhau trong gần 1900 ngày. Dữ liệu được phân bổ quanh các cửa hàng ở ba tiêu bang Hoa Kỳ (California, Texa và Wisconsin) bao gồm các cấp mặt hàng, bộ phận, danh mục sản phẩm và cấp chi tiết cửa hàng. Ngoài ra, tập dữ liệu cũng có các biến số giải thích về giá cả, các chương trình khuyến mãi, ngày trong tuần và các sự kiện đặc biệt. Hơn nữa, tập dữ liệu mạnh mẽ này không chỉ giúp cải thiện độ chính xác của dự báo, mà còn giúp hiển thị các mô hình bán hàng cơ bản thông qua các ngôn ngữ khác nhau cũng như dựa trên các danh mục sản phẩm khác nhau cung cấp giá trị cho các tầm nhìn kinh doanh.\n",
        "\n",
        "Theo thực tế là một tập dữ liệu lớn được tạo sẵn, chúng ta bắt đầu với một công thức kinh doanh được đưa ra xoay quanh vài vấn đề. Liệu tập dữ liệu này có đủ để trả lời các câu hỏi đó hay không. Nếu câu trả lời chưa được tìm thấy từ tập dữ liệu này, thì ít nhất các thông tin cần thiết theo tập điểm dữ liệu cũng giúp cải thiện việc thiết kế dữ liệu trong tương lai. \n",
        "\n",
        "#Báo cáo vấn đề\n",
        "Một tập dữ liệu lớn khiến cho việc tìm kiếm tất cả các mẫu cơ bản trong tập dữ liệu đó trở nên khó khăn. May mắn thay, việc đặt ra các hỏi có tính chất SMART rất hữu ích với việc hiểu các mẫu mà có thể vô tình không nhìn thấy nó trong lần đầu tiếp cận vào tập dữ liệu. *(SMART: cụ thể, có thể đo lường, có thể đạt được, có liên quan và có giới hạn thời gian)*.\n",
        "\n",
        "Trong các vấn đề cụ thể của m5-forecasting đặc biệt quan tâm việc tìm ra câu trả lời cho các câu hỏi sau:\n",
        "\n",
        "* Sự phân phối chung của các ID mặt hàng trên các danh mục là gì?\n",
        "* Hành vi của các danh mục trên các cửa hàng khác nhau là gì?\n",
        "* ID của mặt hàng bán chạy nhất?\n",
        "* ID của mặt hàng trong mỗi danh mục có nhiều doanh thu nhất?\n",
        "* Doanh thu bán hàng thu được nhiều nhất là bao nhiêu? Nó có phải là ID của các mặt hàng bán chạy nhất, mang lại doanh thu cao nhất, hoặc có thay đổi theo xu hướng không?\n",
        "* Hành vi của tổng doanh số bán hàng là gì?\n",
        "* Hành vi của ID các mặt hàng đang bán trong các ngày khác nhau trong tuần là gì? Có ngày cụ thể nào mà hôm đó có doanh thu cao nhất? Xu hướng thay đổi như thế nào ở các cửa hàng khác nhau?\n",
        "\n",
        "Và cuối cùng, chúng tôi sẽ sử dụng SARIMAX và Facebook đã phát triển mô hình Prophet để dự báo doanh số bán hàng trong 28 ngày tới.\n",
        "\n",
        "#Các chỉ số đánh giá:\n",
        "Để đưa ra dự báo một chuổi thời gian (time series), chung ta dùng các error metrics sau:\n",
        "1. RMSE (Root Mean Square Error): Để đánh giá dự báo bán hàng được thực hiện bằng SARIMAX, RMSE error metric được sử dụng. Chuỗi thời gian được sử dụng trong trường hợp này, lấy số lượng bán hàng trung bình được thực hiện, trong suốt gần 1900 ngày, bỏ qua việc sắp xếp dữ liệu thứ cấp ban đầu của id sản phẩm cùng với một số cấp độ khác. Mức độ tối đa của error metric RMSE không bị vô hiệu vì chúng tôi đang xem xét số lượng bán hàng trung bình được thực hiện, do đó tận dụng hiệu quả của rất nhiều số 0 đối với nhiều id sản phẩm, bên cạnh số ngày.\n",
        "2. Custom Loss (WMAPE): error metric này được sử dụng cho những trường hợp mà mức độ ưu tiên của ID sản phẩm được xem xét cùng với doanh số đã thực hiện. Các trọng số được tính toán bằng cách chia sự khác biệt giữa dự báo và giá trị bán hàng thực tế cho giá trị trung bình của chúng.\n",
        "3. WRMSSE (Weighted Root Mean Square Scaled Error): WRMSSE được tính khi khung dữ liệu sẵn sàng dự đoán (dự báo gần 30.000 id sản phẩm) đã sẵn sàng. Việc tính toán WRMSSE yêu cầu phải sử dụng tổng số mục nhập của tất cả id sản phẩm (gần 30.000 sản phẩm) và sau đó là sự khác biệt giữa các giá trị của tập dữ liệu xác thực, tức là sales_train_validation.csv và khung dữ liệu được dự báo. WRMSSE eror metirc này là chỉ số do cuộc thi cung cấp và đã được tối ưu hóa để sử dụng cho cuộc thi hiện tại. Để đánh giá nó, chúng tôi sẽ phải sử dụng toàn bộ tập dữ liệu của sales_train_validation.csv đã được cung cấp trong một tệp csv.\n"
      ],
      "metadata": {
        "id": "VM0XZcspKJn1"
      }
    },
    {
      "cell_type": "markdown",
      "source": [
        "Tải các thư viện cần dùng: \n",
        "\n",
        "* Tải các module như numpy, pandas, pyplot, time, math, datetime, widgets..Dùng dòng lệnh: <font color='blue'> import <tên module> </font> hoặc <font color='blue'>import <tên module> as <định danh></font>\n",
        "\n",
        "* Tải các hàm như display, KDTree...Dùng dòng lệnh: <font color='blue'>from <tên module> import <tên hàm></font>"
      ],
      "metadata": {
        "id": "yOkScJOZQo_g"
      }
    },
    {
      "cell_type": "code",
      "source": [
        "# Import necessary libraries\n",
        "import numpy as np # linear algebra\n",
        "import pandas as pd # data processing, CSV file I/O (e.g. pd.read_csv)\n",
        "import matplotlib.pyplot as plt\n",
        "\n",
        "import time\n",
        "import math\n",
        "import datetime\n",
        "\n",
        "\n",
        "# Import widgets\n",
        "from ipywidgets import widgets, interactive, interact\n",
        "import ipywidgets as widgets\n",
        "from IPython.display import display\n",
        "\n",
        "from math import log, floor\n",
        "from sklearn.neighbors import KDTree\n",
        "\n",
        "import seaborn as sns\n",
        "sns.set_style('whitegrid')\n",
        "\n",
        "import plotly.express as px\n",
        "import plotly.graph_objects as go\n",
        "import plotly.figure_factory as ff\n",
        "from plotly.subplots import make_subplots\n",
        "\n",
        "import pywt\n",
        "from statsmodels.robust import mad\n",
        "\n",
        "import scipy\n",
        "import statsmodels\n",
        "from scipy import signal\n",
        "\n",
        "from statsmodels.tsa.arima_model import ARIMA\n",
        "from statsmodels.tsa.statespace.sarimax import SARIMAX\n",
        "from statsmodels.tsa.api import ExponentialSmoothing, SimpleExpSmoothing, Holt\n",
        "from statsmodels.tsa.stattools import adfuller\n",
        "\n",
        "import itertools\n",
        "from itertools import cycle\n",
        "plt.style.use('seaborn')\n",
        "color_cycle = cycle(plt.rcParams['axes.prop_cycle'].by_key()['color'])\n"
      ],
      "metadata": {
        "id": "Ua54I91BDqnA"
      },
      "execution_count": 1,
      "outputs": []
    },
    {
      "cell_type": "markdown",
      "source": [
        "Install 'Git Large File Storage' để có thể tải các file dữ liệu có dung lượng lớn về google Colab.\n",
        "\n",
        "\n",
        "Tải các file dữ liệu dùng cho việc phân tích và dự báo về google Colab bằng cách clone một reponsitory từ GitHub về google Colab :"
      ],
      "metadata": {
        "id": "iRa7Uzie34sG"
      }
    },
    {
      "cell_type": "code",
      "source": [
        "!curl -s https://packagecloud.io/install/repositories/github/git-lfs/script.deb.sh | sudo bash\n",
        "!sudo apt-get install git-lfs\n",
        "!git lfs install\n",
        "!git lfs clone https://github.com/HienNguyenMinh/PythonAssignment.git\n"
      ],
      "metadata": {
        "colab": {
          "base_uri": "https://localhost:8080/"
        },
        "id": "H5HhxOGoy_eV",
        "outputId": "58947b6c-0632-4e1e-d237-003b5416e674"
      },
      "execution_count": 2,
      "outputs": [
        {
          "output_type": "stream",
          "name": "stdout",
          "text": [
            "Detected operating system as Ubuntu/bionic.\n",
            "Checking for curl...\n",
            "Detected curl...\n",
            "Checking for gpg...\n",
            "Detected gpg...\n",
            "Detected apt version as 1.6.14\n",
            "Running apt-get update... done.\n",
            "Installing apt-transport-https... done.\n",
            "Installing /etc/apt/sources.list.d/github_git-lfs.list...done.\n",
            "Importing packagecloud gpg key... Packagecloud gpg key imported to /etc/apt/keyrings/github_git-lfs-archive-keyring.gpg\n",
            "done.\n",
            "Running apt-get update... done.\n",
            "\n",
            "The repository is setup! You can now install packages.\n",
            "Reading package lists... Done\n",
            "Building dependency tree       \n",
            "Reading state information... Done\n",
            "The following package was automatically installed and is no longer required:\n",
            "  libnvidia-common-460\n",
            "Use 'sudo apt autoremove' to remove it.\n",
            "The following packages will be upgraded:\n",
            "  git-lfs\n",
            "1 upgraded, 0 newly installed, 0 to remove and 38 not upgraded.\n",
            "Need to get 7,168 kB of archives.\n",
            "After this operation, 7,962 kB of additional disk space will be used.\n",
            "Get:1 https://packagecloud.io/github/git-lfs/ubuntu bionic/main amd64 git-lfs amd64 3.2.0 [7,168 kB]\n",
            "Fetched 7,168 kB in 1s (13.3 MB/s)\n",
            "debconf: unable to initialize frontend: Dialog\n",
            "debconf: (No usable dialog-like program is installed, so the dialog based frontend cannot be used. at /usr/share/perl5/Debconf/FrontEnd/Dialog.pm line 76, <> line 1.)\n",
            "debconf: falling back to frontend: Readline\n",
            "debconf: unable to initialize frontend: Readline\n",
            "debconf: (This frontend requires a controlling tty.)\n",
            "debconf: falling back to frontend: Teletype\n",
            "dpkg-preconfigure: unable to re-open stdin: \n",
            "(Reading database ... 123945 files and directories currently installed.)\n",
            "Preparing to unpack .../git-lfs_3.2.0_amd64.deb ...\n",
            "Unpacking git-lfs (3.2.0) over (2.3.4-1) ...\n",
            "Setting up git-lfs (3.2.0) ...\n",
            "Git LFS initialized.\n",
            "Processing triggers for man-db (2.8.3-2ubuntu0.1) ...\n",
            "Git LFS initialized.\n",
            "WARNING: `git lfs clone` is deprecated and will not be updated\n",
            "          with new flags from `git clone`\n",
            "\n",
            "`git clone` has been updated in upstream Git to have comparable\n",
            "speeds to `git lfs clone`.\n",
            "Cloning into 'PythonAssignment'...\n",
            "remote: Enumerating objects: 49, done.\u001b[K\n",
            "remote: Counting objects: 100% (49/49), done.\u001b[K\n",
            "remote: Compressing objects: 100% (35/35), done.\u001b[K\n",
            "remote: Total 49 (delta 10), reused 19 (delta 4), pack-reused 0\u001b[K\n",
            "Unpacking objects: 100% (49/49), done.\n"
          ]
        }
      ]
    },
    {
      "cell_type": "markdown",
      "source": [
        "Khi muốn remove một thư mục trên google colab thì chạy command sau:\n",
        "\n",
        "!rm -rf folder_path"
      ],
      "metadata": {
        "id": "YYg7lv4UvOeu"
      }
    },
    {
      "cell_type": "code",
      "source": [
        "!rm -rf /content/PythonAssignment"
      ],
      "metadata": {
        "id": "pPfHU3qFS99y"
      },
      "execution_count": null,
      "outputs": []
    },
    {
      "cell_type": "markdown",
      "source": [
        "Kiểm tra các file dữ liệu *.csv được tải về Colab thông qua việc duyệt cây thư mục vừa được tải về Colab và in ra đường dẫn các file dữ liệu: "
      ],
      "metadata": {
        "id": "j4e7kGx347nG"
      }
    },
    {
      "cell_type": "code",
      "source": [
        "import os\n",
        "for dirname, _, filenames in os.walk('/content/PythonAssignment/DataSet'):\n",
        "    for filename in filenames:\n",
        "        print(os.path.join(dirname, filename))"
      ],
      "metadata": {
        "colab": {
          "base_uri": "https://localhost:8080/"
        },
        "id": "CEixpPXw0i21",
        "outputId": "326baaeb-4ebd-45a5-8b17-ad22d1376949"
      },
      "execution_count": 3,
      "outputs": [
        {
          "output_type": "stream",
          "name": "stdout",
          "text": [
            "/content/PythonAssignment/DataSet/sales_train_evaluation.csv\n",
            "/content/PythonAssignment/DataSet/calendar.csv\n",
            "/content/PythonAssignment/DataSet/sell_prices.csv\n",
            "/content/PythonAssignment/DataSet/sales_train_validation.csv\n",
            "/content/PythonAssignment/DataSet/sample_submission.csv\n"
          ]
        }
      ]
    },
    {
      "cell_type": "markdown",
      "source": [
        "Mô tả tập dữ liệu:\n",
        "\n",
        "Các file data được tải vào notebook này như sau:\n",
        "\n",
        "* calendar_df.csv - chứa các thông tin về những ngày mà sản phẩm được bán, thông tin về những ngày lễ và các dịp đặc biệt.\n",
        "* train_sales_df.csv - Chứa dữ liệu lịch sử bán hàng hàng ngày cho mỗi sản phẩm và cửa hàng và ID bộ phận với gần như dữ liệu bán hàng trong 1900 ngày [d_1 - d_1913]\n",
        "* submission_file.csv - Định dạng đúng cho tệp gửi, chứa id sản phẩm và id cột cho dự báo dữ liệu bán hàng 28 ngày tới.\n",
        "* sell_prices_df.csv - chứa thông tin về giá của mỗi sản phẩm đã bán ở mỗi cửa hàng và ngày.\n",
        "* sales_train_evaluation.csv - bao gồm các nhãn hàng [d_1 - d_1941] "
      ],
      "metadata": {
        "id": "dFOaFXSnDTd2"
      }
    },
    {
      "cell_type": "markdown",
      "source": [
        "Đọc dữ liệu từ các file *.csv bằng hàm read_csv() của pandas:"
      ],
      "metadata": {
        "id": "PC5JGxEWUEJ_"
      }
    },
    {
      "cell_type": "code",
      "source": [
        "sell_prices_df = pd.read_csv('/content/PythonAssignment/DataSet/sell_prices.csv')\n",
        "train_sales_df = pd.read_csv('/content/PythonAssignment/DataSet/sales_train_validation.csv')\n",
        "calendar_df = pd.read_csv('/content/PythonAssignment/DataSet/calendar.csv')\n",
        "submission_file = pd.read_csv('/content/PythonAssignment/DataSet/sample_submission.csv')"
      ],
      "metadata": {
        "id": "tj_pZirOTcMV"
      },
      "execution_count": 4,
      "outputs": []
    },
    {
      "cell_type": "markdown",
      "source": [
        "In đầy đủ sơ lược của dataframe để hiểu tập dữ liệu:"
      ],
      "metadata": {
        "id": "iO7-VoUTOMHH"
      }
    },
    {
      "cell_type": "code",
      "source": [
        "sell_prices_df.info()"
      ],
      "metadata": {
        "id": "X6wSE6GqOdZH",
        "outputId": "92b19575-2827-42d8-fb5c-7d6190667698",
        "colab": {
          "base_uri": "https://localhost:8080/"
        }
      },
      "execution_count": null,
      "outputs": [
        {
          "output_type": "stream",
          "name": "stdout",
          "text": [
            "<class 'pandas.core.frame.DataFrame'>\n",
            "RangeIndex: 6841121 entries, 0 to 6841120\n",
            "Data columns (total 4 columns):\n",
            " #   Column      Dtype  \n",
            "---  ------      -----  \n",
            " 0   store_id    object \n",
            " 1   item_id     object \n",
            " 2   wm_yr_wk    int64  \n",
            " 3   sell_price  float64\n",
            "dtypes: float64(1), int64(1), object(2)\n",
            "memory usage: 208.8+ MB\n"
          ]
        }
      ]
    },
    {
      "cell_type": "code",
      "source": [
        "train_sales_df.info()"
      ],
      "metadata": {
        "id": "4cJc4SplO4T_",
        "outputId": "25091c14-e125-4916-ecd4-362f5adc4ee8",
        "colab": {
          "base_uri": "https://localhost:8080/"
        }
      },
      "execution_count": null,
      "outputs": [
        {
          "output_type": "stream",
          "name": "stdout",
          "text": [
            "<class 'pandas.core.frame.DataFrame'>\n",
            "RangeIndex: 30490 entries, 0 to 30489\n",
            "Columns: 1919 entries, id to d_1913\n",
            "dtypes: int64(1913), object(6)\n",
            "memory usage: 446.4+ MB\n"
          ]
        }
      ]
    },
    {
      "cell_type": "code",
      "source": [
        "calendar_df.info()"
      ],
      "metadata": {
        "id": "EGDPkvmJO7G3",
        "outputId": "47d939d4-c69d-4210-999b-1bcecaa103b0",
        "colab": {
          "base_uri": "https://localhost:8080/"
        }
      },
      "execution_count": null,
      "outputs": [
        {
          "output_type": "stream",
          "name": "stdout",
          "text": [
            "<class 'pandas.core.frame.DataFrame'>\n",
            "RangeIndex: 1969 entries, 0 to 1968\n",
            "Data columns (total 14 columns):\n",
            " #   Column        Non-Null Count  Dtype \n",
            "---  ------        --------------  ----- \n",
            " 0   date          1969 non-null   object\n",
            " 1   wm_yr_wk      1969 non-null   int64 \n",
            " 2   weekday       1969 non-null   object\n",
            " 3   wday          1969 non-null   int64 \n",
            " 4   month         1969 non-null   int64 \n",
            " 5   year          1969 non-null   int64 \n",
            " 6   d             1969 non-null   object\n",
            " 7   event_name_1  162 non-null    object\n",
            " 8   event_type_1  162 non-null    object\n",
            " 9   event_name_2  5 non-null      object\n",
            " 10  event_type_2  5 non-null      object\n",
            " 11  snap_CA       1969 non-null   int64 \n",
            " 12  snap_TX       1969 non-null   int64 \n",
            " 13  snap_WI       1969 non-null   int64 \n",
            "dtypes: int64(7), object(7)\n",
            "memory usage: 215.5+ KB\n"
          ]
        }
      ]
    },
    {
      "cell_type": "markdown",
      "source": [
        "Bây giờ chúng ta đã xem xét dữ liệu được cung cấp và hiểu chung về tập dữ liệu, chúng ta có thể thấy các mối quan hệ khác nhau giữa các cửa hàng, các sản phẩm cụ thể được bán, danh mục mà người tiêu dùng quan tâm nhất cũng như việc bán các mặt hàng cho mỗi ngôn ngữ cụ thể. Sell_prices_df chứa thông tin dọc theo cấp độ cửa hàng của khoảng 6 triệu mục nhập trong khi train_sales_df có thông tin về khoảng 30.000 sản phẩm khác nhau.\n",
        "\n",
        "Hơn nữa, tập dữ liệu trong calendar_df giúp bạn có thể thực hiện phân tích chuỗi thời gian của các sản phẩm đã bán."
      ],
      "metadata": {
        "id": "3SMpvWVROwsP"
      }
    },
    {
      "cell_type": "markdown",
      "source": [
        "#Phân tích dữ liệu khám phá:"
      ],
      "metadata": {
        "id": "AX4IErZARaH-"
      }
    },
    {
      "cell_type": "markdown",
      "source": [
        "**Các câu hỏi về Phân phối Sản phẩm & Hành vi Qua Dòng thời gian**"
      ],
      "metadata": {
        "id": "rHc3Q4MYRzJ8"
      }
    },
    {
      "cell_type": "markdown",
      "source": [
        "Bắt đầu với khung dữ liệu được biểu thị bằng train_sales_df có thông tin cụ thể về mặt hàng ('id'), ngôn ngữ cụ thể ('store_id', 'state_id') và ngày bán hàng cụ thể (d_1 đến d_1913); trước tiên chúng ta hãy thực hiện các điều chỉnh cần thiết để tách các ngày bán hàng để chỉ có thể dễ dàng quan sát phân tích dọc theo item_id, store_id và dept_id trong các ngày bán hàng."
      ],
      "metadata": {
        "id": "q4ZN8sdwR7XG"
      }
    },
    {
      "cell_type": "markdown",
      "source": [
        "Lấy 3 dòng dữ liệu đầu tiên trong dataframe train_sales_df:"
      ],
      "metadata": {
        "id": "3f5OT_0DTXKw"
      }
    },
    {
      "cell_type": "code",
      "source": [
        "train_sales_df.head(3)"
      ],
      "metadata": {
        "colab": {
          "base_uri": "https://localhost:8080/",
          "height": 237
        },
        "id": "S5PYdXiZSTEv",
        "outputId": "7315f013-7c40-4a1e-de71-662604a11a9a"
      },
      "execution_count": 5,
      "outputs": [
        {
          "output_type": "execute_result",
          "data": {
            "text/plain": [
              "                              id        item_id    dept_id   cat_id store_id  \\\n",
              "0  HOBBIES_1_001_CA_1_validation  HOBBIES_1_001  HOBBIES_1  HOBBIES     CA_1   \n",
              "1  HOBBIES_1_002_CA_1_validation  HOBBIES_1_002  HOBBIES_1  HOBBIES     CA_1   \n",
              "2  HOBBIES_1_003_CA_1_validation  HOBBIES_1_003  HOBBIES_1  HOBBIES     CA_1   \n",
              "\n",
              "  state_id  d_1  d_2  d_3  d_4  ...  d_1904  d_1905  d_1906  d_1907  d_1908  \\\n",
              "0       CA    0    0    0    0  ...       1       3       0       1       1   \n",
              "1       CA    0    0    0    0  ...       0       0       0       0       0   \n",
              "2       CA    0    0    0    0  ...       2       1       2       1       1   \n",
              "\n",
              "   d_1909  d_1910  d_1911  d_1912  d_1913  \n",
              "0       1       3       0       1       1  \n",
              "1       1       0       0       0       0  \n",
              "2       1       0       1       1       1  \n",
              "\n",
              "[3 rows x 1919 columns]"
            ],
            "text/html": [
              "\n",
              "  <div id=\"df-45999bad-63b0-46f3-ba97-26ee0871363d\">\n",
              "    <div class=\"colab-df-container\">\n",
              "      <div>\n",
              "<style scoped>\n",
              "    .dataframe tbody tr th:only-of-type {\n",
              "        vertical-align: middle;\n",
              "    }\n",
              "\n",
              "    .dataframe tbody tr th {\n",
              "        vertical-align: top;\n",
              "    }\n",
              "\n",
              "    .dataframe thead th {\n",
              "        text-align: right;\n",
              "    }\n",
              "</style>\n",
              "<table border=\"1\" class=\"dataframe\">\n",
              "  <thead>\n",
              "    <tr style=\"text-align: right;\">\n",
              "      <th></th>\n",
              "      <th>id</th>\n",
              "      <th>item_id</th>\n",
              "      <th>dept_id</th>\n",
              "      <th>cat_id</th>\n",
              "      <th>store_id</th>\n",
              "      <th>state_id</th>\n",
              "      <th>d_1</th>\n",
              "      <th>d_2</th>\n",
              "      <th>d_3</th>\n",
              "      <th>d_4</th>\n",
              "      <th>...</th>\n",
              "      <th>d_1904</th>\n",
              "      <th>d_1905</th>\n",
              "      <th>d_1906</th>\n",
              "      <th>d_1907</th>\n",
              "      <th>d_1908</th>\n",
              "      <th>d_1909</th>\n",
              "      <th>d_1910</th>\n",
              "      <th>d_1911</th>\n",
              "      <th>d_1912</th>\n",
              "      <th>d_1913</th>\n",
              "    </tr>\n",
              "  </thead>\n",
              "  <tbody>\n",
              "    <tr>\n",
              "      <th>0</th>\n",
              "      <td>HOBBIES_1_001_CA_1_validation</td>\n",
              "      <td>HOBBIES_1_001</td>\n",
              "      <td>HOBBIES_1</td>\n",
              "      <td>HOBBIES</td>\n",
              "      <td>CA_1</td>\n",
              "      <td>CA</td>\n",
              "      <td>0</td>\n",
              "      <td>0</td>\n",
              "      <td>0</td>\n",
              "      <td>0</td>\n",
              "      <td>...</td>\n",
              "      <td>1</td>\n",
              "      <td>3</td>\n",
              "      <td>0</td>\n",
              "      <td>1</td>\n",
              "      <td>1</td>\n",
              "      <td>1</td>\n",
              "      <td>3</td>\n",
              "      <td>0</td>\n",
              "      <td>1</td>\n",
              "      <td>1</td>\n",
              "    </tr>\n",
              "    <tr>\n",
              "      <th>1</th>\n",
              "      <td>HOBBIES_1_002_CA_1_validation</td>\n",
              "      <td>HOBBIES_1_002</td>\n",
              "      <td>HOBBIES_1</td>\n",
              "      <td>HOBBIES</td>\n",
              "      <td>CA_1</td>\n",
              "      <td>CA</td>\n",
              "      <td>0</td>\n",
              "      <td>0</td>\n",
              "      <td>0</td>\n",
              "      <td>0</td>\n",
              "      <td>...</td>\n",
              "      <td>0</td>\n",
              "      <td>0</td>\n",
              "      <td>0</td>\n",
              "      <td>0</td>\n",
              "      <td>0</td>\n",
              "      <td>1</td>\n",
              "      <td>0</td>\n",
              "      <td>0</td>\n",
              "      <td>0</td>\n",
              "      <td>0</td>\n",
              "    </tr>\n",
              "    <tr>\n",
              "      <th>2</th>\n",
              "      <td>HOBBIES_1_003_CA_1_validation</td>\n",
              "      <td>HOBBIES_1_003</td>\n",
              "      <td>HOBBIES_1</td>\n",
              "      <td>HOBBIES</td>\n",
              "      <td>CA_1</td>\n",
              "      <td>CA</td>\n",
              "      <td>0</td>\n",
              "      <td>0</td>\n",
              "      <td>0</td>\n",
              "      <td>0</td>\n",
              "      <td>...</td>\n",
              "      <td>2</td>\n",
              "      <td>1</td>\n",
              "      <td>2</td>\n",
              "      <td>1</td>\n",
              "      <td>1</td>\n",
              "      <td>1</td>\n",
              "      <td>0</td>\n",
              "      <td>1</td>\n",
              "      <td>1</td>\n",
              "      <td>1</td>\n",
              "    </tr>\n",
              "  </tbody>\n",
              "</table>\n",
              "<p>3 rows × 1919 columns</p>\n",
              "</div>\n",
              "      <button class=\"colab-df-convert\" onclick=\"convertToInteractive('df-45999bad-63b0-46f3-ba97-26ee0871363d')\"\n",
              "              title=\"Convert this dataframe to an interactive table.\"\n",
              "              style=\"display:none;\">\n",
              "        \n",
              "  <svg xmlns=\"http://www.w3.org/2000/svg\" height=\"24px\"viewBox=\"0 0 24 24\"\n",
              "       width=\"24px\">\n",
              "    <path d=\"M0 0h24v24H0V0z\" fill=\"none\"/>\n",
              "    <path d=\"M18.56 5.44l.94 2.06.94-2.06 2.06-.94-2.06-.94-.94-2.06-.94 2.06-2.06.94zm-11 1L8.5 8.5l.94-2.06 2.06-.94-2.06-.94L8.5 2.5l-.94 2.06-2.06.94zm10 10l.94 2.06.94-2.06 2.06-.94-2.06-.94-.94-2.06-.94 2.06-2.06.94z\"/><path d=\"M17.41 7.96l-1.37-1.37c-.4-.4-.92-.59-1.43-.59-.52 0-1.04.2-1.43.59L10.3 9.45l-7.72 7.72c-.78.78-.78 2.05 0 2.83L4 21.41c.39.39.9.59 1.41.59.51 0 1.02-.2 1.41-.59l7.78-7.78 2.81-2.81c.8-.78.8-2.07 0-2.86zM5.41 20L4 18.59l7.72-7.72 1.47 1.35L5.41 20z\"/>\n",
              "  </svg>\n",
              "      </button>\n",
              "      \n",
              "  <style>\n",
              "    .colab-df-container {\n",
              "      display:flex;\n",
              "      flex-wrap:wrap;\n",
              "      gap: 12px;\n",
              "    }\n",
              "\n",
              "    .colab-df-convert {\n",
              "      background-color: #E8F0FE;\n",
              "      border: none;\n",
              "      border-radius: 50%;\n",
              "      cursor: pointer;\n",
              "      display: none;\n",
              "      fill: #1967D2;\n",
              "      height: 32px;\n",
              "      padding: 0 0 0 0;\n",
              "      width: 32px;\n",
              "    }\n",
              "\n",
              "    .colab-df-convert:hover {\n",
              "      background-color: #E2EBFA;\n",
              "      box-shadow: 0px 1px 2px rgba(60, 64, 67, 0.3), 0px 1px 3px 1px rgba(60, 64, 67, 0.15);\n",
              "      fill: #174EA6;\n",
              "    }\n",
              "\n",
              "    [theme=dark] .colab-df-convert {\n",
              "      background-color: #3B4455;\n",
              "      fill: #D2E3FC;\n",
              "    }\n",
              "\n",
              "    [theme=dark] .colab-df-convert:hover {\n",
              "      background-color: #434B5C;\n",
              "      box-shadow: 0px 1px 3px 1px rgba(0, 0, 0, 0.15);\n",
              "      filter: drop-shadow(0px 1px 2px rgba(0, 0, 0, 0.3));\n",
              "      fill: #FFFFFF;\n",
              "    }\n",
              "  </style>\n",
              "\n",
              "      <script>\n",
              "        const buttonEl =\n",
              "          document.querySelector('#df-45999bad-63b0-46f3-ba97-26ee0871363d button.colab-df-convert');\n",
              "        buttonEl.style.display =\n",
              "          google.colab.kernel.accessAllowed ? 'block' : 'none';\n",
              "\n",
              "        async function convertToInteractive(key) {\n",
              "          const element = document.querySelector('#df-45999bad-63b0-46f3-ba97-26ee0871363d');\n",
              "          const dataTable =\n",
              "            await google.colab.kernel.invokeFunction('convertToInteractive',\n",
              "                                                     [key], {});\n",
              "          if (!dataTable) return;\n",
              "\n",
              "          const docLinkHtml = 'Like what you see? Visit the ' +\n",
              "            '<a target=\"_blank\" href=https://colab.research.google.com/notebooks/data_table.ipynb>data table notebook</a>'\n",
              "            + ' to learn more about interactive tables.';\n",
              "          element.innerHTML = '';\n",
              "          dataTable['output_type'] = 'display_data';\n",
              "          await google.colab.output.renderOutput(dataTable, element);\n",
              "          const docLink = document.createElement('div');\n",
              "          docLink.innerHTML = docLinkHtml;\n",
              "          element.appendChild(docLink);\n",
              "        }\n",
              "      </script>\n",
              "    </div>\n",
              "  </div>\n",
              "  "
            ]
          },
          "metadata": {},
          "execution_count": 5
        }
      ]
    },
    {
      "cell_type": "markdown",
      "source": [
        "Lặp qua các cột của data frame và lấy giá trị trong các cột (d_1 đến d_c1913) để tính toán:\n",
        "* Tổng số item bán được trong tất cả các ngày\n",
        "* Trung bình số item bán được trong tất cả các ngày\n",
        "* Midle of items bán được trong tất cả các ngày"
      ],
      "metadata": {
        "id": "1S6PCtNnTkDH"
      }
    },
    {
      "cell_type": "code",
      "source": [
        "#Lặp qua các cột của data frame và lấy giá trị trong các cột (d_1 đến d_c1913) để tính toán \n",
        "d_cols = [c for c in train_sales_df.columns if 'd_' in c]\n",
        "#Tính tổng số item bán được trong tất cả các ngày\n",
        "train_sales_df['total_sales_all_days'] = train_sales_df[d_cols].sum(axis = 1)\n",
        "#Tính trung bình số item bán được trong tất cả các ngày\n",
        "train_sales_df['avg_sales_all_days'] = train_sales_df[d_cols].mean(axis = 1)\n",
        "#Tính midle of items bán được trong tất cả các ngày\n",
        "train_sales_df['median_sales_all_days'] = train_sales_df[d_cols].median(axis = 1)\n",
        "#train_sales_df.groupby(['id'])['total_sales_all_days'].sum().sort_values(ascending=False)"
      ],
      "metadata": {
        "id": "dzfSUL1DTsWQ"
      },
      "execution_count": 8,
      "outputs": []
    },
    {
      "cell_type": "markdown",
      "source": [
        "**Phân bố của Product_ids qua các danh mục?**"
      ],
      "metadata": {
        "id": "nTzw_TOHXsVm"
      }
    },
    {
      "cell_type": "code",
      "source": [
        "df = train_sales_df.groupby(['cat_id'])['id'].count().reset_index(name='total_entries')\n",
        "fig = px.pie(df, values='total_entries', names='cat_id', \n",
        "            color_discrete_sequence=px.colors.sequential.RdBu,\n",
        "            width = 750, height=450, title = 'Distribution of Product_IDs Across Categories')\n",
        "fig.show()"
      ],
      "metadata": {
        "id": "CLzZcy3Hazj-",
        "outputId": "b91f8e9e-3ac9-4f69-b875-4e853e68b953",
        "colab": {
          "base_uri": "https://localhost:8080/",
          "height": 467
        }
      },
      "execution_count": 9,
      "outputs": [
        {
          "output_type": "display_data",
          "data": {
            "text/html": [
              "<html>\n",
              "<head><meta charset=\"utf-8\" /></head>\n",
              "<body>\n",
              "    <div>            <script src=\"https://cdnjs.cloudflare.com/ajax/libs/mathjax/2.7.5/MathJax.js?config=TeX-AMS-MML_SVG\"></script><script type=\"text/javascript\">if (window.MathJax) {MathJax.Hub.Config({SVG: {font: \"STIX-Web\"}});}</script>                <script type=\"text/javascript\">window.PlotlyConfig = {MathJaxConfig: 'local'};</script>\n",
              "        <script src=\"https://cdn.plot.ly/plotly-2.8.3.min.js\"></script>                <div id=\"73b5e6ac-07cd-457b-a211-eb6fe5d60447\" class=\"plotly-graph-div\" style=\"height:450px; width:750px;\"></div>            <script type=\"text/javascript\">                                    window.PLOTLYENV=window.PLOTLYENV || {};                                    if (document.getElementById(\"73b5e6ac-07cd-457b-a211-eb6fe5d60447\")) {                    Plotly.newPlot(                        \"73b5e6ac-07cd-457b-a211-eb6fe5d60447\",                        [{\"domain\":{\"x\":[0.0,1.0],\"y\":[0.0,1.0]},\"hovertemplate\":\"cat_id=%{label}<br>total_entries=%{value}<extra></extra>\",\"labels\":[\"FOODS\",\"HOBBIES\",\"HOUSEHOLD\"],\"legendgroup\":\"\",\"name\":\"\",\"showlegend\":true,\"values\":[14370,5650,10470],\"type\":\"pie\"}],                        {\"template\":{\"data\":{\"bar\":[{\"error_x\":{\"color\":\"#2a3f5f\"},\"error_y\":{\"color\":\"#2a3f5f\"},\"marker\":{\"line\":{\"color\":\"#E5ECF6\",\"width\":0.5},\"pattern\":{\"fillmode\":\"overlay\",\"size\":10,\"solidity\":0.2}},\"type\":\"bar\"}],\"barpolar\":[{\"marker\":{\"line\":{\"color\":\"#E5ECF6\",\"width\":0.5},\"pattern\":{\"fillmode\":\"overlay\",\"size\":10,\"solidity\":0.2}},\"type\":\"barpolar\"}],\"carpet\":[{\"aaxis\":{\"endlinecolor\":\"#2a3f5f\",\"gridcolor\":\"white\",\"linecolor\":\"white\",\"minorgridcolor\":\"white\",\"startlinecolor\":\"#2a3f5f\"},\"baxis\":{\"endlinecolor\":\"#2a3f5f\",\"gridcolor\":\"white\",\"linecolor\":\"white\",\"minorgridcolor\":\"white\",\"startlinecolor\":\"#2a3f5f\"},\"type\":\"carpet\"}],\"choropleth\":[{\"colorbar\":{\"outlinewidth\":0,\"ticks\":\"\"},\"type\":\"choropleth\"}],\"contour\":[{\"colorbar\":{\"outlinewidth\":0,\"ticks\":\"\"},\"colorscale\":[[0.0,\"#0d0887\"],[0.1111111111111111,\"#46039f\"],[0.2222222222222222,\"#7201a8\"],[0.3333333333333333,\"#9c179e\"],[0.4444444444444444,\"#bd3786\"],[0.5555555555555556,\"#d8576b\"],[0.6666666666666666,\"#ed7953\"],[0.7777777777777778,\"#fb9f3a\"],[0.8888888888888888,\"#fdca26\"],[1.0,\"#f0f921\"]],\"type\":\"contour\"}],\"contourcarpet\":[{\"colorbar\":{\"outlinewidth\":0,\"ticks\":\"\"},\"type\":\"contourcarpet\"}],\"heatmap\":[{\"colorbar\":{\"outlinewidth\":0,\"ticks\":\"\"},\"colorscale\":[[0.0,\"#0d0887\"],[0.1111111111111111,\"#46039f\"],[0.2222222222222222,\"#7201a8\"],[0.3333333333333333,\"#9c179e\"],[0.4444444444444444,\"#bd3786\"],[0.5555555555555556,\"#d8576b\"],[0.6666666666666666,\"#ed7953\"],[0.7777777777777778,\"#fb9f3a\"],[0.8888888888888888,\"#fdca26\"],[1.0,\"#f0f921\"]],\"type\":\"heatmap\"}],\"heatmapgl\":[{\"colorbar\":{\"outlinewidth\":0,\"ticks\":\"\"},\"colorscale\":[[0.0,\"#0d0887\"],[0.1111111111111111,\"#46039f\"],[0.2222222222222222,\"#7201a8\"],[0.3333333333333333,\"#9c179e\"],[0.4444444444444444,\"#bd3786\"],[0.5555555555555556,\"#d8576b\"],[0.6666666666666666,\"#ed7953\"],[0.7777777777777778,\"#fb9f3a\"],[0.8888888888888888,\"#fdca26\"],[1.0,\"#f0f921\"]],\"type\":\"heatmapgl\"}],\"histogram\":[{\"marker\":{\"pattern\":{\"fillmode\":\"overlay\",\"size\":10,\"solidity\":0.2}},\"type\":\"histogram\"}],\"histogram2d\":[{\"colorbar\":{\"outlinewidth\":0,\"ticks\":\"\"},\"colorscale\":[[0.0,\"#0d0887\"],[0.1111111111111111,\"#46039f\"],[0.2222222222222222,\"#7201a8\"],[0.3333333333333333,\"#9c179e\"],[0.4444444444444444,\"#bd3786\"],[0.5555555555555556,\"#d8576b\"],[0.6666666666666666,\"#ed7953\"],[0.7777777777777778,\"#fb9f3a\"],[0.8888888888888888,\"#fdca26\"],[1.0,\"#f0f921\"]],\"type\":\"histogram2d\"}],\"histogram2dcontour\":[{\"colorbar\":{\"outlinewidth\":0,\"ticks\":\"\"},\"colorscale\":[[0.0,\"#0d0887\"],[0.1111111111111111,\"#46039f\"],[0.2222222222222222,\"#7201a8\"],[0.3333333333333333,\"#9c179e\"],[0.4444444444444444,\"#bd3786\"],[0.5555555555555556,\"#d8576b\"],[0.6666666666666666,\"#ed7953\"],[0.7777777777777778,\"#fb9f3a\"],[0.8888888888888888,\"#fdca26\"],[1.0,\"#f0f921\"]],\"type\":\"histogram2dcontour\"}],\"mesh3d\":[{\"colorbar\":{\"outlinewidth\":0,\"ticks\":\"\"},\"type\":\"mesh3d\"}],\"parcoords\":[{\"line\":{\"colorbar\":{\"outlinewidth\":0,\"ticks\":\"\"}},\"type\":\"parcoords\"}],\"pie\":[{\"automargin\":true,\"type\":\"pie\"}],\"scatter\":[{\"marker\":{\"colorbar\":{\"outlinewidth\":0,\"ticks\":\"\"}},\"type\":\"scatter\"}],\"scatter3d\":[{\"line\":{\"colorbar\":{\"outlinewidth\":0,\"ticks\":\"\"}},\"marker\":{\"colorbar\":{\"outlinewidth\":0,\"ticks\":\"\"}},\"type\":\"scatter3d\"}],\"scattercarpet\":[{\"marker\":{\"colorbar\":{\"outlinewidth\":0,\"ticks\":\"\"}},\"type\":\"scattercarpet\"}],\"scattergeo\":[{\"marker\":{\"colorbar\":{\"outlinewidth\":0,\"ticks\":\"\"}},\"type\":\"scattergeo\"}],\"scattergl\":[{\"marker\":{\"colorbar\":{\"outlinewidth\":0,\"ticks\":\"\"}},\"type\":\"scattergl\"}],\"scattermapbox\":[{\"marker\":{\"colorbar\":{\"outlinewidth\":0,\"ticks\":\"\"}},\"type\":\"scattermapbox\"}],\"scatterpolar\":[{\"marker\":{\"colorbar\":{\"outlinewidth\":0,\"ticks\":\"\"}},\"type\":\"scatterpolar\"}],\"scatterpolargl\":[{\"marker\":{\"colorbar\":{\"outlinewidth\":0,\"ticks\":\"\"}},\"type\":\"scatterpolargl\"}],\"scatterternary\":[{\"marker\":{\"colorbar\":{\"outlinewidth\":0,\"ticks\":\"\"}},\"type\":\"scatterternary\"}],\"surface\":[{\"colorbar\":{\"outlinewidth\":0,\"ticks\":\"\"},\"colorscale\":[[0.0,\"#0d0887\"],[0.1111111111111111,\"#46039f\"],[0.2222222222222222,\"#7201a8\"],[0.3333333333333333,\"#9c179e\"],[0.4444444444444444,\"#bd3786\"],[0.5555555555555556,\"#d8576b\"],[0.6666666666666666,\"#ed7953\"],[0.7777777777777778,\"#fb9f3a\"],[0.8888888888888888,\"#fdca26\"],[1.0,\"#f0f921\"]],\"type\":\"surface\"}],\"table\":[{\"cells\":{\"fill\":{\"color\":\"#EBF0F8\"},\"line\":{\"color\":\"white\"}},\"header\":{\"fill\":{\"color\":\"#C8D4E3\"},\"line\":{\"color\":\"white\"}},\"type\":\"table\"}]},\"layout\":{\"annotationdefaults\":{\"arrowcolor\":\"#2a3f5f\",\"arrowhead\":0,\"arrowwidth\":1},\"autotypenumbers\":\"strict\",\"coloraxis\":{\"colorbar\":{\"outlinewidth\":0,\"ticks\":\"\"}},\"colorscale\":{\"diverging\":[[0,\"#8e0152\"],[0.1,\"#c51b7d\"],[0.2,\"#de77ae\"],[0.3,\"#f1b6da\"],[0.4,\"#fde0ef\"],[0.5,\"#f7f7f7\"],[0.6,\"#e6f5d0\"],[0.7,\"#b8e186\"],[0.8,\"#7fbc41\"],[0.9,\"#4d9221\"],[1,\"#276419\"]],\"sequential\":[[0.0,\"#0d0887\"],[0.1111111111111111,\"#46039f\"],[0.2222222222222222,\"#7201a8\"],[0.3333333333333333,\"#9c179e\"],[0.4444444444444444,\"#bd3786\"],[0.5555555555555556,\"#d8576b\"],[0.6666666666666666,\"#ed7953\"],[0.7777777777777778,\"#fb9f3a\"],[0.8888888888888888,\"#fdca26\"],[1.0,\"#f0f921\"]],\"sequentialminus\":[[0.0,\"#0d0887\"],[0.1111111111111111,\"#46039f\"],[0.2222222222222222,\"#7201a8\"],[0.3333333333333333,\"#9c179e\"],[0.4444444444444444,\"#bd3786\"],[0.5555555555555556,\"#d8576b\"],[0.6666666666666666,\"#ed7953\"],[0.7777777777777778,\"#fb9f3a\"],[0.8888888888888888,\"#fdca26\"],[1.0,\"#f0f921\"]]},\"colorway\":[\"#636efa\",\"#EF553B\",\"#00cc96\",\"#ab63fa\",\"#FFA15A\",\"#19d3f3\",\"#FF6692\",\"#B6E880\",\"#FF97FF\",\"#FECB52\"],\"font\":{\"color\":\"#2a3f5f\"},\"geo\":{\"bgcolor\":\"white\",\"lakecolor\":\"white\",\"landcolor\":\"#E5ECF6\",\"showlakes\":true,\"showland\":true,\"subunitcolor\":\"white\"},\"hoverlabel\":{\"align\":\"left\"},\"hovermode\":\"closest\",\"mapbox\":{\"style\":\"light\"},\"paper_bgcolor\":\"white\",\"plot_bgcolor\":\"#E5ECF6\",\"polar\":{\"angularaxis\":{\"gridcolor\":\"white\",\"linecolor\":\"white\",\"ticks\":\"\"},\"bgcolor\":\"#E5ECF6\",\"radialaxis\":{\"gridcolor\":\"white\",\"linecolor\":\"white\",\"ticks\":\"\"}},\"scene\":{\"xaxis\":{\"backgroundcolor\":\"#E5ECF6\",\"gridcolor\":\"white\",\"gridwidth\":2,\"linecolor\":\"white\",\"showbackground\":true,\"ticks\":\"\",\"zerolinecolor\":\"white\"},\"yaxis\":{\"backgroundcolor\":\"#E5ECF6\",\"gridcolor\":\"white\",\"gridwidth\":2,\"linecolor\":\"white\",\"showbackground\":true,\"ticks\":\"\",\"zerolinecolor\":\"white\"},\"zaxis\":{\"backgroundcolor\":\"#E5ECF6\",\"gridcolor\":\"white\",\"gridwidth\":2,\"linecolor\":\"white\",\"showbackground\":true,\"ticks\":\"\",\"zerolinecolor\":\"white\"}},\"shapedefaults\":{\"line\":{\"color\":\"#2a3f5f\"}},\"ternary\":{\"aaxis\":{\"gridcolor\":\"white\",\"linecolor\":\"white\",\"ticks\":\"\"},\"baxis\":{\"gridcolor\":\"white\",\"linecolor\":\"white\",\"ticks\":\"\"},\"bgcolor\":\"#E5ECF6\",\"caxis\":{\"gridcolor\":\"white\",\"linecolor\":\"white\",\"ticks\":\"\"}},\"title\":{\"x\":0.05},\"xaxis\":{\"automargin\":true,\"gridcolor\":\"white\",\"linecolor\":\"white\",\"ticks\":\"\",\"title\":{\"standoff\":15},\"zerolinecolor\":\"white\",\"zerolinewidth\":2},\"yaxis\":{\"automargin\":true,\"gridcolor\":\"white\",\"linecolor\":\"white\",\"ticks\":\"\",\"title\":{\"standoff\":15},\"zerolinecolor\":\"white\",\"zerolinewidth\":2}}},\"legend\":{\"tracegroupgap\":0},\"title\":{\"text\":\"Distribution of Product_IDs Across Categories\"},\"piecolorway\":[\"rgb(103,0,31)\",\"rgb(178,24,43)\",\"rgb(214,96,77)\",\"rgb(244,165,130)\",\"rgb(253,219,199)\",\"rgb(247,247,247)\",\"rgb(209,229,240)\",\"rgb(146,197,222)\",\"rgb(67,147,195)\",\"rgb(33,102,172)\",\"rgb(5,48,97)\"],\"height\":450,\"width\":750},                        {\"responsive\": true}                    ).then(function(){\n",
              "                            \n",
              "var gd = document.getElementById('73b5e6ac-07cd-457b-a211-eb6fe5d60447');\n",
              "var x = new MutationObserver(function (mutations, observer) {{\n",
              "        var display = window.getComputedStyle(gd).display;\n",
              "        if (!display || display === 'none') {{\n",
              "            console.log([gd, 'removed!']);\n",
              "            Plotly.purge(gd);\n",
              "            observer.disconnect();\n",
              "        }}\n",
              "}});\n",
              "\n",
              "// Listen for the removal of the full notebook cells\n",
              "var notebookContainer = gd.closest('#notebook-container');\n",
              "if (notebookContainer) {{\n",
              "    x.observe(notebookContainer, {childList: true});\n",
              "}}\n",
              "\n",
              "// Listen for the clearing of the current output cell\n",
              "var outputEl = gd.closest('.output');\n",
              "if (outputEl) {{\n",
              "    x.observe(outputEl, {childList: true});\n",
              "}}\n",
              "\n",
              "                        })                };                            </script>        </div>\n",
              "</body>\n",
              "</html>"
            ]
          },
          "metadata": {}
        }
      ]
    },
    {
      "cell_type": "markdown",
      "source": [
        "\n",
        "Thực phẩm là mặt hàng bán chạy nhất, tiếp theo là đồ gia dụng và sau đó là đồ sở thích."
      ],
      "metadata": {
        "id": "8Bm2GK3-bQ1e"
      }
    },
    {
      "cell_type": "markdown",
      "source": [
        "**Phân bố của tổng số lượng bán được theo các tiểu bang?**"
      ],
      "metadata": {
        "id": "mwI4Glp4bx__"
      }
    },
    {
      "cell_type": "code",
      "source": [
        "df = train_sales_df.groupby(['state_id'])['total_sales_all_days'].sum().reset_index()\n",
        "fig = px.pie(df, values='total_sales_all_days', names='state_id', \n",
        "            color_discrete_sequence=px.colors.sequential.Aggrnyl,\n",
        "            width = 750, height=450, title = 'Distribution of Total_Sales Across States')\n",
        "fig.show()"
      ],
      "metadata": {
        "id": "FyMmHFSWblmH",
        "outputId": "276d5da1-76db-43c7-d3c5-868e1aba9088",
        "colab": {
          "base_uri": "https://localhost:8080/",
          "height": 467
        }
      },
      "execution_count": 10,
      "outputs": [
        {
          "output_type": "display_data",
          "data": {
            "text/html": [
              "<html>\n",
              "<head><meta charset=\"utf-8\" /></head>\n",
              "<body>\n",
              "    <div>            <script src=\"https://cdnjs.cloudflare.com/ajax/libs/mathjax/2.7.5/MathJax.js?config=TeX-AMS-MML_SVG\"></script><script type=\"text/javascript\">if (window.MathJax) {MathJax.Hub.Config({SVG: {font: \"STIX-Web\"}});}</script>                <script type=\"text/javascript\">window.PlotlyConfig = {MathJaxConfig: 'local'};</script>\n",
              "        <script src=\"https://cdn.plot.ly/plotly-2.8.3.min.js\"></script>                <div id=\"c23dec01-4f6a-4d47-b115-a095c3f51187\" class=\"plotly-graph-div\" style=\"height:450px; width:750px;\"></div>            <script type=\"text/javascript\">                                    window.PLOTLYENV=window.PLOTLYENV || {};                                    if (document.getElementById(\"c23dec01-4f6a-4d47-b115-a095c3f51187\")) {                    Plotly.newPlot(                        \"c23dec01-4f6a-4d47-b115-a095c3f51187\",                        [{\"domain\":{\"x\":[0.0,1.0],\"y\":[0.0,1.0]},\"hovertemplate\":\"state_id=%{label}<br>total_sales_all_days=%{value}<extra></extra>\",\"labels\":[\"CA\",\"TX\",\"WI\"],\"legendgroup\":\"\",\"name\":\"\",\"showlegend\":true,\"values\":[28675547,18899006,18120856],\"type\":\"pie\"}],                        {\"template\":{\"data\":{\"bar\":[{\"error_x\":{\"color\":\"#2a3f5f\"},\"error_y\":{\"color\":\"#2a3f5f\"},\"marker\":{\"line\":{\"color\":\"#E5ECF6\",\"width\":0.5},\"pattern\":{\"fillmode\":\"overlay\",\"size\":10,\"solidity\":0.2}},\"type\":\"bar\"}],\"barpolar\":[{\"marker\":{\"line\":{\"color\":\"#E5ECF6\",\"width\":0.5},\"pattern\":{\"fillmode\":\"overlay\",\"size\":10,\"solidity\":0.2}},\"type\":\"barpolar\"}],\"carpet\":[{\"aaxis\":{\"endlinecolor\":\"#2a3f5f\",\"gridcolor\":\"white\",\"linecolor\":\"white\",\"minorgridcolor\":\"white\",\"startlinecolor\":\"#2a3f5f\"},\"baxis\":{\"endlinecolor\":\"#2a3f5f\",\"gridcolor\":\"white\",\"linecolor\":\"white\",\"minorgridcolor\":\"white\",\"startlinecolor\":\"#2a3f5f\"},\"type\":\"carpet\"}],\"choropleth\":[{\"colorbar\":{\"outlinewidth\":0,\"ticks\":\"\"},\"type\":\"choropleth\"}],\"contour\":[{\"colorbar\":{\"outlinewidth\":0,\"ticks\":\"\"},\"colorscale\":[[0.0,\"#0d0887\"],[0.1111111111111111,\"#46039f\"],[0.2222222222222222,\"#7201a8\"],[0.3333333333333333,\"#9c179e\"],[0.4444444444444444,\"#bd3786\"],[0.5555555555555556,\"#d8576b\"],[0.6666666666666666,\"#ed7953\"],[0.7777777777777778,\"#fb9f3a\"],[0.8888888888888888,\"#fdca26\"],[1.0,\"#f0f921\"]],\"type\":\"contour\"}],\"contourcarpet\":[{\"colorbar\":{\"outlinewidth\":0,\"ticks\":\"\"},\"type\":\"contourcarpet\"}],\"heatmap\":[{\"colorbar\":{\"outlinewidth\":0,\"ticks\":\"\"},\"colorscale\":[[0.0,\"#0d0887\"],[0.1111111111111111,\"#46039f\"],[0.2222222222222222,\"#7201a8\"],[0.3333333333333333,\"#9c179e\"],[0.4444444444444444,\"#bd3786\"],[0.5555555555555556,\"#d8576b\"],[0.6666666666666666,\"#ed7953\"],[0.7777777777777778,\"#fb9f3a\"],[0.8888888888888888,\"#fdca26\"],[1.0,\"#f0f921\"]],\"type\":\"heatmap\"}],\"heatmapgl\":[{\"colorbar\":{\"outlinewidth\":0,\"ticks\":\"\"},\"colorscale\":[[0.0,\"#0d0887\"],[0.1111111111111111,\"#46039f\"],[0.2222222222222222,\"#7201a8\"],[0.3333333333333333,\"#9c179e\"],[0.4444444444444444,\"#bd3786\"],[0.5555555555555556,\"#d8576b\"],[0.6666666666666666,\"#ed7953\"],[0.7777777777777778,\"#fb9f3a\"],[0.8888888888888888,\"#fdca26\"],[1.0,\"#f0f921\"]],\"type\":\"heatmapgl\"}],\"histogram\":[{\"marker\":{\"pattern\":{\"fillmode\":\"overlay\",\"size\":10,\"solidity\":0.2}},\"type\":\"histogram\"}],\"histogram2d\":[{\"colorbar\":{\"outlinewidth\":0,\"ticks\":\"\"},\"colorscale\":[[0.0,\"#0d0887\"],[0.1111111111111111,\"#46039f\"],[0.2222222222222222,\"#7201a8\"],[0.3333333333333333,\"#9c179e\"],[0.4444444444444444,\"#bd3786\"],[0.5555555555555556,\"#d8576b\"],[0.6666666666666666,\"#ed7953\"],[0.7777777777777778,\"#fb9f3a\"],[0.8888888888888888,\"#fdca26\"],[1.0,\"#f0f921\"]],\"type\":\"histogram2d\"}],\"histogram2dcontour\":[{\"colorbar\":{\"outlinewidth\":0,\"ticks\":\"\"},\"colorscale\":[[0.0,\"#0d0887\"],[0.1111111111111111,\"#46039f\"],[0.2222222222222222,\"#7201a8\"],[0.3333333333333333,\"#9c179e\"],[0.4444444444444444,\"#bd3786\"],[0.5555555555555556,\"#d8576b\"],[0.6666666666666666,\"#ed7953\"],[0.7777777777777778,\"#fb9f3a\"],[0.8888888888888888,\"#fdca26\"],[1.0,\"#f0f921\"]],\"type\":\"histogram2dcontour\"}],\"mesh3d\":[{\"colorbar\":{\"outlinewidth\":0,\"ticks\":\"\"},\"type\":\"mesh3d\"}],\"parcoords\":[{\"line\":{\"colorbar\":{\"outlinewidth\":0,\"ticks\":\"\"}},\"type\":\"parcoords\"}],\"pie\":[{\"automargin\":true,\"type\":\"pie\"}],\"scatter\":[{\"marker\":{\"colorbar\":{\"outlinewidth\":0,\"ticks\":\"\"}},\"type\":\"scatter\"}],\"scatter3d\":[{\"line\":{\"colorbar\":{\"outlinewidth\":0,\"ticks\":\"\"}},\"marker\":{\"colorbar\":{\"outlinewidth\":0,\"ticks\":\"\"}},\"type\":\"scatter3d\"}],\"scattercarpet\":[{\"marker\":{\"colorbar\":{\"outlinewidth\":0,\"ticks\":\"\"}},\"type\":\"scattercarpet\"}],\"scattergeo\":[{\"marker\":{\"colorbar\":{\"outlinewidth\":0,\"ticks\":\"\"}},\"type\":\"scattergeo\"}],\"scattergl\":[{\"marker\":{\"colorbar\":{\"outlinewidth\":0,\"ticks\":\"\"}},\"type\":\"scattergl\"}],\"scattermapbox\":[{\"marker\":{\"colorbar\":{\"outlinewidth\":0,\"ticks\":\"\"}},\"type\":\"scattermapbox\"}],\"scatterpolar\":[{\"marker\":{\"colorbar\":{\"outlinewidth\":0,\"ticks\":\"\"}},\"type\":\"scatterpolar\"}],\"scatterpolargl\":[{\"marker\":{\"colorbar\":{\"outlinewidth\":0,\"ticks\":\"\"}},\"type\":\"scatterpolargl\"}],\"scatterternary\":[{\"marker\":{\"colorbar\":{\"outlinewidth\":0,\"ticks\":\"\"}},\"type\":\"scatterternary\"}],\"surface\":[{\"colorbar\":{\"outlinewidth\":0,\"ticks\":\"\"},\"colorscale\":[[0.0,\"#0d0887\"],[0.1111111111111111,\"#46039f\"],[0.2222222222222222,\"#7201a8\"],[0.3333333333333333,\"#9c179e\"],[0.4444444444444444,\"#bd3786\"],[0.5555555555555556,\"#d8576b\"],[0.6666666666666666,\"#ed7953\"],[0.7777777777777778,\"#fb9f3a\"],[0.8888888888888888,\"#fdca26\"],[1.0,\"#f0f921\"]],\"type\":\"surface\"}],\"table\":[{\"cells\":{\"fill\":{\"color\":\"#EBF0F8\"},\"line\":{\"color\":\"white\"}},\"header\":{\"fill\":{\"color\":\"#C8D4E3\"},\"line\":{\"color\":\"white\"}},\"type\":\"table\"}]},\"layout\":{\"annotationdefaults\":{\"arrowcolor\":\"#2a3f5f\",\"arrowhead\":0,\"arrowwidth\":1},\"autotypenumbers\":\"strict\",\"coloraxis\":{\"colorbar\":{\"outlinewidth\":0,\"ticks\":\"\"}},\"colorscale\":{\"diverging\":[[0,\"#8e0152\"],[0.1,\"#c51b7d\"],[0.2,\"#de77ae\"],[0.3,\"#f1b6da\"],[0.4,\"#fde0ef\"],[0.5,\"#f7f7f7\"],[0.6,\"#e6f5d0\"],[0.7,\"#b8e186\"],[0.8,\"#7fbc41\"],[0.9,\"#4d9221\"],[1,\"#276419\"]],\"sequential\":[[0.0,\"#0d0887\"],[0.1111111111111111,\"#46039f\"],[0.2222222222222222,\"#7201a8\"],[0.3333333333333333,\"#9c179e\"],[0.4444444444444444,\"#bd3786\"],[0.5555555555555556,\"#d8576b\"],[0.6666666666666666,\"#ed7953\"],[0.7777777777777778,\"#fb9f3a\"],[0.8888888888888888,\"#fdca26\"],[1.0,\"#f0f921\"]],\"sequentialminus\":[[0.0,\"#0d0887\"],[0.1111111111111111,\"#46039f\"],[0.2222222222222222,\"#7201a8\"],[0.3333333333333333,\"#9c179e\"],[0.4444444444444444,\"#bd3786\"],[0.5555555555555556,\"#d8576b\"],[0.6666666666666666,\"#ed7953\"],[0.7777777777777778,\"#fb9f3a\"],[0.8888888888888888,\"#fdca26\"],[1.0,\"#f0f921\"]]},\"colorway\":[\"#636efa\",\"#EF553B\",\"#00cc96\",\"#ab63fa\",\"#FFA15A\",\"#19d3f3\",\"#FF6692\",\"#B6E880\",\"#FF97FF\",\"#FECB52\"],\"font\":{\"color\":\"#2a3f5f\"},\"geo\":{\"bgcolor\":\"white\",\"lakecolor\":\"white\",\"landcolor\":\"#E5ECF6\",\"showlakes\":true,\"showland\":true,\"subunitcolor\":\"white\"},\"hoverlabel\":{\"align\":\"left\"},\"hovermode\":\"closest\",\"mapbox\":{\"style\":\"light\"},\"paper_bgcolor\":\"white\",\"plot_bgcolor\":\"#E5ECF6\",\"polar\":{\"angularaxis\":{\"gridcolor\":\"white\",\"linecolor\":\"white\",\"ticks\":\"\"},\"bgcolor\":\"#E5ECF6\",\"radialaxis\":{\"gridcolor\":\"white\",\"linecolor\":\"white\",\"ticks\":\"\"}},\"scene\":{\"xaxis\":{\"backgroundcolor\":\"#E5ECF6\",\"gridcolor\":\"white\",\"gridwidth\":2,\"linecolor\":\"white\",\"showbackground\":true,\"ticks\":\"\",\"zerolinecolor\":\"white\"},\"yaxis\":{\"backgroundcolor\":\"#E5ECF6\",\"gridcolor\":\"white\",\"gridwidth\":2,\"linecolor\":\"white\",\"showbackground\":true,\"ticks\":\"\",\"zerolinecolor\":\"white\"},\"zaxis\":{\"backgroundcolor\":\"#E5ECF6\",\"gridcolor\":\"white\",\"gridwidth\":2,\"linecolor\":\"white\",\"showbackground\":true,\"ticks\":\"\",\"zerolinecolor\":\"white\"}},\"shapedefaults\":{\"line\":{\"color\":\"#2a3f5f\"}},\"ternary\":{\"aaxis\":{\"gridcolor\":\"white\",\"linecolor\":\"white\",\"ticks\":\"\"},\"baxis\":{\"gridcolor\":\"white\",\"linecolor\":\"white\",\"ticks\":\"\"},\"bgcolor\":\"#E5ECF6\",\"caxis\":{\"gridcolor\":\"white\",\"linecolor\":\"white\",\"ticks\":\"\"}},\"title\":{\"x\":0.05},\"xaxis\":{\"automargin\":true,\"gridcolor\":\"white\",\"linecolor\":\"white\",\"ticks\":\"\",\"title\":{\"standoff\":15},\"zerolinecolor\":\"white\",\"zerolinewidth\":2},\"yaxis\":{\"automargin\":true,\"gridcolor\":\"white\",\"linecolor\":\"white\",\"ticks\":\"\",\"title\":{\"standoff\":15},\"zerolinecolor\":\"white\",\"zerolinewidth\":2}}},\"legend\":{\"tracegroupgap\":0},\"title\":{\"text\":\"Distribution of Total_Sales Across States\"},\"piecolorway\":[\"rgb(36, 86, 104)\",\"rgb(15, 114, 121)\",\"rgb(13, 143, 129)\",\"rgb(57, 171, 126)\",\"rgb(110, 197, 116)\",\"rgb(169, 220, 103)\",\"rgb(237, 239, 93)\"],\"height\":450,\"width\":750},                        {\"responsive\": true}                    ).then(function(){\n",
              "                            \n",
              "var gd = document.getElementById('c23dec01-4f6a-4d47-b115-a095c3f51187');\n",
              "var x = new MutationObserver(function (mutations, observer) {{\n",
              "        var display = window.getComputedStyle(gd).display;\n",
              "        if (!display || display === 'none') {{\n",
              "            console.log([gd, 'removed!']);\n",
              "            Plotly.purge(gd);\n",
              "            observer.disconnect();\n",
              "        }}\n",
              "}});\n",
              "\n",
              "// Listen for the removal of the full notebook cells\n",
              "var notebookContainer = gd.closest('#notebook-container');\n",
              "if (notebookContainer) {{\n",
              "    x.observe(notebookContainer, {childList: true});\n",
              "}}\n",
              "\n",
              "// Listen for the clearing of the current output cell\n",
              "var outputEl = gd.closest('.output');\n",
              "if (outputEl) {{\n",
              "    x.observe(outputEl, {childList: true});\n",
              "}}\n",
              "\n",
              "                        })                };                            </script>        </div>\n",
              "</body>\n",
              "</html>"
            ]
          },
          "metadata": {}
        }
      ]
    },
    {
      "cell_type": "markdown",
      "source": [
        "Về tổng số lượng hàng bán, một lần nữa rõ ràng là số mặt hàng được bán trên tổng số mặt hàng có tỷ trọng đóng góp lớn nhất ở CA, tiếp theo là Texas và Wisconsin. Bây giờ nó là trường hợp với tổng doanh thu được tạo ra? Chúng tôi sẽ tìm ra điều đó bằng cách sử dụng khung dữ liệu doanh thu"
      ],
      "metadata": {
        "id": "-oBDGTIcbgLg"
      }
    },
    {
      "cell_type": "code",
      "source": [
        "df1 = train_sales_df.groupby(['cat_id'])['id'].count().reset_index(name='total_entries')\n",
        "df2 = train_sales_df.groupby(['cat_id', 'state_id'])['total_sales_all_days'].sum().reset_index()"
      ],
      "metadata": {
        "id": "qZ64KKl8c7N4"
      },
      "execution_count": 11,
      "outputs": []
    },
    {
      "cell_type": "code",
      "source": [
        "sns.set_style('whitegrid')\n",
        "sns.axes_style(style='ticks')\n",
        "fig, (ax1, ax2) = plt.subplots(1,2, figsize=(14,5))\n",
        "\n",
        "sns.barplot(x = 'cat_id', y='total_entries', data=df1, \n",
        "            palette='mako', ax=ax1)\n",
        "sns.barplot(x = 'cat_id', y='total_sales_all_days', hue='state_id', data=df2, \n",
        "            palette='magma', ax=ax2)\n",
        "\n",
        "plt.xticks(rotation=90)\n",
        "plt.show()"
      ],
      "metadata": {
        "id": "Tyh7OL3IdCMb",
        "outputId": "a6e9fc78-043b-4fa3-f740-02959cb06ffd",
        "colab": {
          "base_uri": "https://localhost:8080/",
          "height": 399
        }
      },
      "execution_count": 12,
      "outputs": [
        {
          "output_type": "display_data",
          "data": {
            "text/plain": [
              "<Figure size 1008x360 with 2 Axes>"
            ],
            "image/png": "[encoded data removed]"
          },
          "metadata": {}
        }
      ]
    },
    {
      "cell_type": "markdown",
      "source": [
        "Hai biểu đồ trên cho thấy:\n",
        "\n",
        "* Hầu hết các mặt hàng được bán thuộc danh mục THỰC PHẨM, tiếp theo là HỘ GIA ĐÌNH và THÓI QUEN\n",
        "* CA dẫn đầu về số lượng \"Tổng số mặt hàng\" được bán trong một trong hai danh mục (THỰC PHẨM, THÓI QUEN VÀ GIA DỤNG), trong khi WISCONSIN đứng sau TX trong mỗi danh mục ngoại trừ THỰC PHẨM. Chúng tôi sẽ xem liệu sự khác biệt tương tự có tác động đến doanh thu được trích từ các tiểu bang này hay không"
      ],
      "metadata": {
        "id": "X_c9FOBAcsmZ"
      }
    },
    {
      "cell_type": "code",
      "source": [
        "df3 = train_sales_df.groupby(['cat_id', 'store_id'])['total_sales_all_days'].sum().reset_index()"
      ],
      "metadata": {
        "id": "WpC3Nb9Vd5YI"
      },
      "execution_count": 13,
      "outputs": []
    },
    {
      "cell_type": "code",
      "source": [
        "sns.set_style('whitegrid')\n",
        "sns.axes_style(style='ticks')\n",
        "fig, ax1 = plt.subplots(figsize=(14,5))\n",
        "\n",
        "sns.barplot(x = 'store_id', y='total_sales_all_days', hue='cat_id', data=df3, \n",
        "           palette='afmhot', ax=ax1)\n",
        "\n",
        "plt.xticks(rotation=90)\n",
        "plt.show()"
      ],
      "metadata": {
        "id": "82ma7nBseAYB",
        "outputId": "64576e7c-7570-43e6-9de3-2c528ab62aed",
        "colab": {
          "base_uri": "https://localhost:8080/",
          "height": 361
        }
      },
      "execution_count": 14,
      "outputs": [
        {
          "output_type": "display_data",
          "data": {
            "text/plain": [
              "<Figure size 1008x360 with 1 Axes>"
            ],
            "image/png": "[encoded data removed]"
          },
          "metadata": {}
        }
      ]
    },
    {
      "cell_type": "markdown",
      "source": [
        "Kết quả giống nhau trên tất cả các cửa hàng"
      ],
      "metadata": {
        "id": "CDiptf8jdvqp"
      }
    },
    {
      "cell_type": "code",
      "source": [
        "df = train_sales_df.groupby(['state_id', 'cat_id'])['id'].count().reset_index(name='num_sales_by_category')\n",
        "fig = px.bar(df, x=\"state_id\", y=\"num_sales_by_category\", \n",
        "             color=\"cat_id\", title=\"Distribution of Product_ids Count Across Categories & Each Locale\")\n",
        "fig.show()"
      ],
      "metadata": {
        "id": "4v7Cw39Me-u7",
        "outputId": "eb9b8ee6-b5c5-4a16-fa45-97897a286034",
        "colab": {
          "base_uri": "https://localhost:8080/",
          "height": 542
        }
      },
      "execution_count": 15,
      "outputs": [
        {
          "output_type": "display_data",
          "data": {
            "text/html": [
              "<html>\n",
              "<head><meta charset=\"utf-8\" /></head>\n",
              "<body>\n",
              "    <div>            <script src=\"https://cdnjs.cloudflare.com/ajax/libs/mathjax/2.7.5/MathJax.js?config=TeX-AMS-MML_SVG\"></script><script type=\"text/javascript\">if (window.MathJax) {MathJax.Hub.Config({SVG: {font: \"STIX-Web\"}});}</script>                <script type=\"text/javascript\">window.PlotlyConfig = {MathJaxConfig: 'local'};</script>\n",
              "        <script src=\"https://cdn.plot.ly/plotly-2.8.3.min.js\"></script>                <div id=\"0700b9dc-a8ab-40e1-966a-b148e0237a5f\" class=\"plotly-graph-div\" style=\"height:525px; width:100%;\"></div>            <script type=\"text/javascript\">                                    window.PLOTLYENV=window.PLOTLYENV || {};                                    if (document.getElementById(\"0700b9dc-a8ab-40e1-966a-b148e0237a5f\")) {                    Plotly.newPlot(                        \"0700b9dc-a8ab-40e1-966a-b148e0237a5f\",                        [{\"alignmentgroup\":\"True\",\"hovertemplate\":\"cat_id=FOODS<br>state_id=%{x}<br>num_sales_by_category=%{y}<extra></extra>\",\"legendgroup\":\"FOODS\",\"marker\":{\"color\":\"#636efa\",\"pattern\":{\"shape\":\"\"}},\"name\":\"FOODS\",\"offsetgroup\":\"FOODS\",\"orientation\":\"v\",\"showlegend\":true,\"textposition\":\"auto\",\"x\":[\"CA\",\"TX\",\"WI\"],\"xaxis\":\"x\",\"y\":[5748,4311,4311],\"yaxis\":\"y\",\"type\":\"bar\"},{\"alignmentgroup\":\"True\",\"hovertemplate\":\"cat_id=HOBBIES<br>state_id=%{x}<br>num_sales_by_category=%{y}<extra></extra>\",\"legendgroup\":\"HOBBIES\",\"marker\":{\"color\":\"#EF553B\",\"pattern\":{\"shape\":\"\"}},\"name\":\"HOBBIES\",\"offsetgroup\":\"HOBBIES\",\"orientation\":\"v\",\"showlegend\":true,\"textposition\":\"auto\",\"x\":[\"CA\",\"TX\",\"WI\"],\"xaxis\":\"x\",\"y\":[2260,1695,1695],\"yaxis\":\"y\",\"type\":\"bar\"},{\"alignmentgroup\":\"True\",\"hovertemplate\":\"cat_id=HOUSEHOLD<br>state_id=%{x}<br>num_sales_by_category=%{y}<extra></extra>\",\"legendgroup\":\"HOUSEHOLD\",\"marker\":{\"color\":\"#00cc96\",\"pattern\":{\"shape\":\"\"}},\"name\":\"HOUSEHOLD\",\"offsetgroup\":\"HOUSEHOLD\",\"orientation\":\"v\",\"showlegend\":true,\"textposition\":\"auto\",\"x\":[\"CA\",\"TX\",\"WI\"],\"xaxis\":\"x\",\"y\":[4188,3141,3141],\"yaxis\":\"y\",\"type\":\"bar\"}],                        {\"template\":{\"data\":{\"bar\":[{\"error_x\":{\"color\":\"#2a3f5f\"},\"error_y\":{\"color\":\"#2a3f5f\"},\"marker\":{\"line\":{\"color\":\"#E5ECF6\",\"width\":0.5},\"pattern\":{\"fillmode\":\"overlay\",\"size\":10,\"solidity\":0.2}},\"type\":\"bar\"}],\"barpolar\":[{\"marker\":{\"line\":{\"color\":\"#E5ECF6\",\"width\":0.5},\"pattern\":{\"fillmode\":\"overlay\",\"size\":10,\"solidity\":0.2}},\"type\":\"barpolar\"}],\"carpet\":[{\"aaxis\":{\"endlinecolor\":\"#2a3f5f\",\"gridcolor\":\"white\",\"linecolor\":\"white\",\"minorgridcolor\":\"white\",\"startlinecolor\":\"#2a3f5f\"},\"baxis\":{\"endlinecolor\":\"#2a3f5f\",\"gridcolor\":\"white\",\"linecolor\":\"white\",\"minorgridcolor\":\"white\",\"startlinecolor\":\"#2a3f5f\"},\"type\":\"carpet\"}],\"choropleth\":[{\"colorbar\":{\"outlinewidth\":0,\"ticks\":\"\"},\"type\":\"choropleth\"}],\"contour\":[{\"colorbar\":{\"outlinewidth\":0,\"ticks\":\"\"},\"colorscale\":[[0.0,\"#0d0887\"],[0.1111111111111111,\"#46039f\"],[0.2222222222222222,\"#7201a8\"],[0.3333333333333333,\"#9c179e\"],[0.4444444444444444,\"#bd3786\"],[0.5555555555555556,\"#d8576b\"],[0.6666666666666666,\"#ed7953\"],[0.7777777777777778,\"#fb9f3a\"],[0.8888888888888888,\"#fdca26\"],[1.0,\"#f0f921\"]],\"type\":\"contour\"}],\"contourcarpet\":[{\"colorbar\":{\"outlinewidth\":0,\"ticks\":\"\"},\"type\":\"contourcarpet\"}],\"heatmap\":[{\"colorbar\":{\"outlinewidth\":0,\"ticks\":\"\"},\"colorscale\":[[0.0,\"#0d0887\"],[0.1111111111111111,\"#46039f\"],[0.2222222222222222,\"#7201a8\"],[0.3333333333333333,\"#9c179e\"],[0.4444444444444444,\"#bd3786\"],[0.5555555555555556,\"#d8576b\"],[0.6666666666666666,\"#ed7953\"],[0.7777777777777778,\"#fb9f3a\"],[0.8888888888888888,\"#fdca26\"],[1.0,\"#f0f921\"]],\"type\":\"heatmap\"}],\"heatmapgl\":[{\"colorbar\":{\"outlinewidth\":0,\"ticks\":\"\"},\"colorscale\":[[0.0,\"#0d0887\"],[0.1111111111111111,\"#46039f\"],[0.2222222222222222,\"#7201a8\"],[0.3333333333333333,\"#9c179e\"],[0.4444444444444444,\"#bd3786\"],[0.5555555555555556,\"#d8576b\"],[0.6666666666666666,\"#ed7953\"],[0.7777777777777778,\"#fb9f3a\"],[0.8888888888888888,\"#fdca26\"],[1.0,\"#f0f921\"]],\"type\":\"heatmapgl\"}],\"histogram\":[{\"marker\":{\"pattern\":{\"fillmode\":\"overlay\",\"size\":10,\"solidity\":0.2}},\"type\":\"histogram\"}],\"histogram2d\":[{\"colorbar\":{\"outlinewidth\":0,\"ticks\":\"\"},\"colorscale\":[[0.0,\"#0d0887\"],[0.1111111111111111,\"#46039f\"],[0.2222222222222222,\"#7201a8\"],[0.3333333333333333,\"#9c179e\"],[0.4444444444444444,\"#bd3786\"],[0.5555555555555556,\"#d8576b\"],[0.6666666666666666,\"#ed7953\"],[0.7777777777777778,\"#fb9f3a\"],[0.8888888888888888,\"#fdca26\"],[1.0,\"#f0f921\"]],\"type\":\"histogram2d\"}],\"histogram2dcontour\":[{\"colorbar\":{\"outlinewidth\":0,\"ticks\":\"\"},\"colorscale\":[[0.0,\"#0d0887\"],[0.1111111111111111,\"#46039f\"],[0.2222222222222222,\"#7201a8\"],[0.3333333333333333,\"#9c179e\"],[0.4444444444444444,\"#bd3786\"],[0.5555555555555556,\"#d8576b\"],[0.6666666666666666,\"#ed7953\"],[0.7777777777777778,\"#fb9f3a\"],[0.8888888888888888,\"#fdca26\"],[1.0,\"#f0f921\"]],\"type\":\"histogram2dcontour\"}],\"mesh3d\":[{\"colorbar\":{\"outlinewidth\":0,\"ticks\":\"\"},\"type\":\"mesh3d\"}],\"parcoords\":[{\"line\":{\"colorbar\":{\"outlinewidth\":0,\"ticks\":\"\"}},\"type\":\"parcoords\"}],\"pie\":[{\"automargin\":true,\"type\":\"pie\"}],\"scatter\":[{\"marker\":{\"colorbar\":{\"outlinewidth\":0,\"ticks\":\"\"}},\"type\":\"scatter\"}],\"scatter3d\":[{\"line\":{\"colorbar\":{\"outlinewidth\":0,\"ticks\":\"\"}},\"marker\":{\"colorbar\":{\"outlinewidth\":0,\"ticks\":\"\"}},\"type\":\"scatter3d\"}],\"scattercarpet\":[{\"marker\":{\"colorbar\":{\"outlinewidth\":0,\"ticks\":\"\"}},\"type\":\"scattercarpet\"}],\"scattergeo\":[{\"marker\":{\"colorbar\":{\"outlinewidth\":0,\"ticks\":\"\"}},\"type\":\"scattergeo\"}],\"scattergl\":[{\"marker\":{\"colorbar\":{\"outlinewidth\":0,\"ticks\":\"\"}},\"type\":\"scattergl\"}],\"scattermapbox\":[{\"marker\":{\"colorbar\":{\"outlinewidth\":0,\"ticks\":\"\"}},\"type\":\"scattermapbox\"}],\"scatterpolar\":[{\"marker\":{\"colorbar\":{\"outlinewidth\":0,\"ticks\":\"\"}},\"type\":\"scatterpolar\"}],\"scatterpolargl\":[{\"marker\":{\"colorbar\":{\"outlinewidth\":0,\"ticks\":\"\"}},\"type\":\"scatterpolargl\"}],\"scatterternary\":[{\"marker\":{\"colorbar\":{\"outlinewidth\":0,\"ticks\":\"\"}},\"type\":\"scatterternary\"}],\"surface\":[{\"colorbar\":{\"outlinewidth\":0,\"ticks\":\"\"},\"colorscale\":[[0.0,\"#0d0887\"],[0.1111111111111111,\"#46039f\"],[0.2222222222222222,\"#7201a8\"],[0.3333333333333333,\"#9c179e\"],[0.4444444444444444,\"#bd3786\"],[0.5555555555555556,\"#d8576b\"],[0.6666666666666666,\"#ed7953\"],[0.7777777777777778,\"#fb9f3a\"],[0.8888888888888888,\"#fdca26\"],[1.0,\"#f0f921\"]],\"type\":\"surface\"}],\"table\":[{\"cells\":{\"fill\":{\"color\":\"#EBF0F8\"},\"line\":{\"color\":\"white\"}},\"header\":{\"fill\":{\"color\":\"#C8D4E3\"},\"line\":{\"color\":\"white\"}},\"type\":\"table\"}]},\"layout\":{\"annotationdefaults\":{\"arrowcolor\":\"#2a3f5f\",\"arrowhead\":0,\"arrowwidth\":1},\"autotypenumbers\":\"strict\",\"coloraxis\":{\"colorbar\":{\"outlinewidth\":0,\"ticks\":\"\"}},\"colorscale\":{\"diverging\":[[0,\"#8e0152\"],[0.1,\"#c51b7d\"],[0.2,\"#de77ae\"],[0.3,\"#f1b6da\"],[0.4,\"#fde0ef\"],[0.5,\"#f7f7f7\"],[0.6,\"#e6f5d0\"],[0.7,\"#b8e186\"],[0.8,\"#7fbc41\"],[0.9,\"#4d9221\"],[1,\"#276419\"]],\"sequential\":[[0.0,\"#0d0887\"],[0.1111111111111111,\"#46039f\"],[0.2222222222222222,\"#7201a8\"],[0.3333333333333333,\"#9c179e\"],[0.4444444444444444,\"#bd3786\"],[0.5555555555555556,\"#d8576b\"],[0.6666666666666666,\"#ed7953\"],[0.7777777777777778,\"#fb9f3a\"],[0.8888888888888888,\"#fdca26\"],[1.0,\"#f0f921\"]],\"sequentialminus\":[[0.0,\"#0d0887\"],[0.1111111111111111,\"#46039f\"],[0.2222222222222222,\"#7201a8\"],[0.3333333333333333,\"#9c179e\"],[0.4444444444444444,\"#bd3786\"],[0.5555555555555556,\"#d8576b\"],[0.6666666666666666,\"#ed7953\"],[0.7777777777777778,\"#fb9f3a\"],[0.8888888888888888,\"#fdca26\"],[1.0,\"#f0f921\"]]},\"colorway\":[\"#636efa\",\"#EF553B\",\"#00cc96\",\"#ab63fa\",\"#FFA15A\",\"#19d3f3\",\"#FF6692\",\"#B6E880\",\"#FF97FF\",\"#FECB52\"],\"font\":{\"color\":\"#2a3f5f\"},\"geo\":{\"bgcolor\":\"white\",\"lakecolor\":\"white\",\"landcolor\":\"#E5ECF6\",\"showlakes\":true,\"showland\":true,\"subunitcolor\":\"white\"},\"hoverlabel\":{\"align\":\"left\"},\"hovermode\":\"closest\",\"mapbox\":{\"style\":\"light\"},\"paper_bgcolor\":\"white\",\"plot_bgcolor\":\"#E5ECF6\",\"polar\":{\"angularaxis\":{\"gridcolor\":\"white\",\"linecolor\":\"white\",\"ticks\":\"\"},\"bgcolor\":\"#E5ECF6\",\"radialaxis\":{\"gridcolor\":\"white\",\"linecolor\":\"white\",\"ticks\":\"\"}},\"scene\":{\"xaxis\":{\"backgroundcolor\":\"#E5ECF6\",\"gridcolor\":\"white\",\"gridwidth\":2,\"linecolor\":\"white\",\"showbackground\":true,\"ticks\":\"\",\"zerolinecolor\":\"white\"},\"yaxis\":{\"backgroundcolor\":\"#E5ECF6\",\"gridcolor\":\"white\",\"gridwidth\":2,\"linecolor\":\"white\",\"showbackground\":true,\"ticks\":\"\",\"zerolinecolor\":\"white\"},\"zaxis\":{\"backgroundcolor\":\"#E5ECF6\",\"gridcolor\":\"white\",\"gridwidth\":2,\"linecolor\":\"white\",\"showbackground\":true,\"ticks\":\"\",\"zerolinecolor\":\"white\"}},\"shapedefaults\":{\"line\":{\"color\":\"#2a3f5f\"}},\"ternary\":{\"aaxis\":{\"gridcolor\":\"white\",\"linecolor\":\"white\",\"ticks\":\"\"},\"baxis\":{\"gridcolor\":\"white\",\"linecolor\":\"white\",\"ticks\":\"\"},\"bgcolor\":\"#E5ECF6\",\"caxis\":{\"gridcolor\":\"white\",\"linecolor\":\"white\",\"ticks\":\"\"}},\"title\":{\"x\":0.05},\"xaxis\":{\"automargin\":true,\"gridcolor\":\"white\",\"linecolor\":\"white\",\"ticks\":\"\",\"title\":{\"standoff\":15},\"zerolinecolor\":\"white\",\"zerolinewidth\":2},\"yaxis\":{\"automargin\":true,\"gridcolor\":\"white\",\"linecolor\":\"white\",\"ticks\":\"\",\"title\":{\"standoff\":15},\"zerolinecolor\":\"white\",\"zerolinewidth\":2}}},\"xaxis\":{\"anchor\":\"y\",\"domain\":[0.0,1.0],\"title\":{\"text\":\"state_id\"}},\"yaxis\":{\"anchor\":\"x\",\"domain\":[0.0,1.0],\"title\":{\"text\":\"num_sales_by_category\"}},\"legend\":{\"title\":{\"text\":\"cat_id\"},\"tracegroupgap\":0},\"title\":{\"text\":\"Distribution of Product_ids Count Across Categories & Each Locale\"},\"barmode\":\"relative\"},                        {\"responsive\": true}                    ).then(function(){\n",
              "                            \n",
              "var gd = document.getElementById('0700b9dc-a8ab-40e1-966a-b148e0237a5f');\n",
              "var x = new MutationObserver(function (mutations, observer) {{\n",
              "        var display = window.getComputedStyle(gd).display;\n",
              "        if (!display || display === 'none') {{\n",
              "            console.log([gd, 'removed!']);\n",
              "            Plotly.purge(gd);\n",
              "            observer.disconnect();\n",
              "        }}\n",
              "}});\n",
              "\n",
              "// Listen for the removal of the full notebook cells\n",
              "var notebookContainer = gd.closest('#notebook-container');\n",
              "if (notebookContainer) {{\n",
              "    x.observe(notebookContainer, {childList: true});\n",
              "}}\n",
              "\n",
              "// Listen for the clearing of the current output cell\n",
              "var outputEl = gd.closest('.output');\n",
              "if (outputEl) {{\n",
              "    x.observe(outputEl, {childList: true});\n",
              "}}\n",
              "\n",
              "                        })                };                            </script>        </div>\n",
              "</body>\n",
              "</html>"
            ]
          },
          "metadata": {}
        }
      ]
    },
    {
      "cell_type": "markdown",
      "source": [
        "Một số điểm có thể được rút ra từ quan sát này là:\n",
        "* Hầu hết các mặt hàng đã được bán ở California\n",
        "* Các cửa hàng ở Texas và Wisconsin có gần như tổng doanh thu, tức là trong cùng khung thời gian 1913 ngày, cùng số lượng mặt hàng đã được bán ở cả Texas và Wisconsin. Liệu quan sát này có đúng trong sell_prices_df (tập dữ liệu doanh thu) không? Liệu quan sát có giống nhau trên các địa điểm cửa hàng khác nhau ở cả Texas và Wisonconsin không?"
      ],
      "metadata": {
        "id": "AL2hhjIEfUdU"
      }
    },
    {
      "cell_type": "markdown",
      "source": [
        "**Phân phối các mặt hàng trên toàn bộ department & store_id?**"
      ],
      "metadata": {
        "id": "l4r0sLsTfmV5"
      }
    },
    {
      "cell_type": "code",
      "source": [
        "df = train_sales_df.groupby(['dept_id', 'store_id', 'state_id', 'cat_id'])[train_sales_df.columns[6:]].sum().reset_index()\n",
        "df = df.sort_values('total_sales_all_days', ascending=False)"
      ],
      "metadata": {
        "id": "OAOuIcrCe5w_"
      },
      "execution_count": 16,
      "outputs": []
    },
    {
      "cell_type": "code",
      "source": [
        "x_dept = df['dept_id']\n",
        "x_store = df['store_id']\n",
        "\n",
        "def items_sold_per_days(x_spec,title_text, title):\n",
        "    \n",
        "    '''\n",
        "    returns plotly plots with drop down menus for specified parameter made in dataframe earlier\n",
        "    \n",
        "    inputs: x_spec (categorical feature on the x_axis), title_text(title on dropdown), \n",
        "            title (title of the plot)\n",
        "            \n",
        "    returns: plotly plots of categorical feature (x_axis) with dropdowns on specific \n",
        "    number of days        \n",
        "    '''\n",
        "    \n",
        "    cols = ['d_1', 'd_50', 'd_300', 'd_500', 'd_700', 'd_900', 'd_1100', 'd_1500', 'd_1700',\n",
        "        'total_sales_all_days', 'median_sales_all_days']\n",
        "\n",
        "    buttons1 = [dict(method = \"restyle\",\n",
        "                 args = [{'x': [x_spec, 'undefined'],\n",
        "                          'y': [df[cols[k]], 'undefined'],\n",
        "                          'visible':[True, False]}], \n",
        "                 label = cols[k])   for k in range(0, len(cols))]\n",
        "\n",
        "    fig = go.Figure()\n",
        "    fig.add_trace(go.Bar(x=x_spec, y = df['d_1'], name='Dept.Sales on day2',\n",
        "                     marker_color='Crimson'))\n",
        "\n",
        "    fig.update_layout(title_text= title_text,\n",
        "                  title_x= 0.4, width=750, height=450, \n",
        "                  margin=dict(t=100, b=20, l=0, r=0),\n",
        "                  autosize = False,\n",
        "                  updatemenus=[dict(active=0,\n",
        "                                    buttons=buttons1,\n",
        "                                    x=0.08,\n",
        "                                    y=1.13,\n",
        "                                    xanchor='left',\n",
        "                                    yanchor='top')\n",
        "                              ]); \n",
        "\n",
        "    fig.add_annotation( x=0.00,  y=1.13, showarrow=False, xref='paper', yref='paper', xanchor='left',\n",
        "                   text=\"With<br>\"+str(title));\n",
        "    fig.show()\n",
        "\n",
        "items_sold_per_days(df['store_id'], 'Distribution of Sales Made on Each Store', 'Stores')\n",
        "items_sold_per_days(df['state_id'], \"Distribution of Sales Made In Each State\", 'States')"
      ],
      "metadata": {
        "id": "qtkqmQKEf7d1",
        "outputId": "10253a88-964c-4f98-b31c-324755a0ead5",
        "colab": {
          "base_uri": "https://localhost:8080/",
          "height": 917
        }
      },
      "execution_count": 17,
      "outputs": [
        {
          "output_type": "display_data",
          "data": {
            "text/html": [
              "<html>\n",
              "<head><meta charset=\"utf-8\" /></head>\n",
              "<body>\n",
              "    <div>            <script src=\"https://cdnjs.cloudflare.com/ajax/libs/mathjax/2.7.5/MathJax.js?config=TeX-AMS-MML_SVG\"></script><script type=\"text/javascript\">if (window.MathJax) {MathJax.Hub.Config({SVG: {font: \"STIX-Web\"}});}</script>                <script type=\"text/javascript\">window.PlotlyConfig = {MathJaxConfig: 'local'};</script>\n",
              "        <script src=\"https://cdn.plot.ly/plotly-2.8.3.min.js\"></script>                <div id=\"71ac6fd8-94a7-477b-b74a-3cb5bf1ef496\" class=\"plotly-graph-div\" style=\"height:450px; width:750px;\"></div>            <script type=\"text/javascript\">                                    window.PLOTLYENV=window.PLOTLYENV || {};                                    if (document.getElementById(\"71ac6fd8-94a7-477b-b74a-3cb5bf1ef496\")) {                    Plotly.newPlot(                        \"71ac6fd8-94a7-477b-b74a-3cb5bf1ef496\",                        [{\"marker\":{\"color\":\"Crimson\"},\"name\":\"Dept.Sales on day2\",\"x\":[\"CA_3\",\"CA_1\",\"TX_2\",\"WI_3\",\"WI_2\",\"TX_3\",\"TX_1\",\"CA_2\",\"WI_1\",\"CA_3\",\"CA_4\",\"TX_2\",\"WI_2\",\"CA_3\",\"TX_3\",\"TX_1\",\"CA_2\",\"CA_1\",\"WI_2\",\"WI_3\",\"CA_3\",\"CA_1\",\"WI_1\",\"CA_1\",\"WI_3\",\"TX_2\",\"TX_3\",\"CA_3\",\"CA_2\",\"TX_1\",\"WI_1\",\"WI_1\",\"CA_2\",\"CA_1\",\"CA_3\",\"TX_2\",\"CA_4\",\"CA_4\",\"WI_2\",\"CA_4\",\"TX_2\",\"WI_1\",\"CA_2\",\"TX_3\",\"WI_3\",\"TX_3\",\"WI_3\",\"TX_1\",\"TX_1\",\"CA_4\",\"CA_1\",\"CA_2\",\"WI_2\",\"TX_2\",\"TX_1\",\"TX_3\",\"WI_1\",\"WI_3\",\"WI_2\",\"CA_4\",\"CA_3\",\"TX_2\",\"TX_3\",\"CA_2\",\"CA_1\",\"WI_1\",\"TX_1\",\"WI_2\",\"WI_3\",\"CA_4\"],\"y\":[2478,2268,2044,2293,1269,1686,1239,1575,1130,457,759,480,353,627,383,418,529,361,155,584,531,674,360,528,583,534,460,341,406,390,598,108,522,297,286,364,158,351,191,180,210,343,234,232,256,138,152,241,152,113,181,212,180,199,106,120,148,148,98,64,19,21,11,16,28,17,10,10,22,0],\"type\":\"bar\"}],                        {\"template\":{\"data\":{\"bar\":[{\"error_x\":{\"color\":\"#2a3f5f\"},\"error_y\":{\"color\":\"#2a3f5f\"},\"marker\":{\"line\":{\"color\":\"#E5ECF6\",\"width\":0.5},\"pattern\":{\"fillmode\":\"overlay\",\"size\":10,\"solidity\":0.2}},\"type\":\"bar\"}],\"barpolar\":[{\"marker\":{\"line\":{\"color\":\"#E5ECF6\",\"width\":0.5},\"pattern\":{\"fillmode\":\"overlay\",\"size\":10,\"solidity\":0.2}},\"type\":\"barpolar\"}],\"carpet\":[{\"aaxis\":{\"endlinecolor\":\"#2a3f5f\",\"gridcolor\":\"white\",\"linecolor\":\"white\",\"minorgridcolor\":\"white\",\"startlinecolor\":\"#2a3f5f\"},\"baxis\":{\"endlinecolor\":\"#2a3f5f\",\"gridcolor\":\"white\",\"linecolor\":\"white\",\"minorgridcolor\":\"white\",\"startlinecolor\":\"#2a3f5f\"},\"type\":\"carpet\"}],\"choropleth\":[{\"colorbar\":{\"outlinewidth\":0,\"ticks\":\"\"},\"type\":\"choropleth\"}],\"contour\":[{\"colorbar\":{\"outlinewidth\":0,\"ticks\":\"\"},\"colorscale\":[[0.0,\"#0d0887\"],[0.1111111111111111,\"#46039f\"],[0.2222222222222222,\"#7201a8\"],[0.3333333333333333,\"#9c179e\"],[0.4444444444444444,\"#bd3786\"],[0.5555555555555556,\"#d8576b\"],[0.6666666666666666,\"#ed7953\"],[0.7777777777777778,\"#fb9f3a\"],[0.8888888888888888,\"#fdca26\"],[1.0,\"#f0f921\"]],\"type\":\"contour\"}],\"contourcarpet\":[{\"colorbar\":{\"outlinewidth\":0,\"ticks\":\"\"},\"type\":\"contourcarpet\"}],\"heatmap\":[{\"colorbar\":{\"outlinewidth\":0,\"ticks\":\"\"},\"colorscale\":[[0.0,\"#0d0887\"],[0.1111111111111111,\"#46039f\"],[0.2222222222222222,\"#7201a8\"],[0.3333333333333333,\"#9c179e\"],[0.4444444444444444,\"#bd3786\"],[0.5555555555555556,\"#d8576b\"],[0.6666666666666666,\"#ed7953\"],[0.7777777777777778,\"#fb9f3a\"],[0.8888888888888888,\"#fdca26\"],[1.0,\"#f0f921\"]],\"type\":\"heatmap\"}],\"heatmapgl\":[{\"colorbar\":{\"outlinewidth\":0,\"ticks\":\"\"},\"colorscale\":[[0.0,\"#0d0887\"],[0.1111111111111111,\"#46039f\"],[0.2222222222222222,\"#7201a8\"],[0.3333333333333333,\"#9c179e\"],[0.4444444444444444,\"#bd3786\"],[0.5555555555555556,\"#d8576b\"],[0.6666666666666666,\"#ed7953\"],[0.7777777777777778,\"#fb9f3a\"],[0.8888888888888888,\"#fdca26\"],[1.0,\"#f0f921\"]],\"type\":\"heatmapgl\"}],\"histogram\":[{\"marker\":{\"pattern\":{\"fillmode\":\"overlay\",\"size\":10,\"solidity\":0.2}},\"type\":\"histogram\"}],\"histogram2d\":[{\"colorbar\":{\"outlinewidth\":0,\"ticks\":\"\"},\"colorscale\":[[0.0,\"#0d0887\"],[0.1111111111111111,\"#46039f\"],[0.2222222222222222,\"#7201a8\"],[0.3333333333333333,\"#9c179e\"],[0.4444444444444444,\"#bd3786\"],[0.5555555555555556,\"#d8576b\"],[0.6666666666666666,\"#ed7953\"],[0.7777777777777778,\"#fb9f3a\"],[0.8888888888888888,\"#fdca26\"],[1.0,\"#f0f921\"]],\"type\":\"histogram2d\"}],\"histogram2dcontour\":[{\"colorbar\":{\"outlinewidth\":0,\"ticks\":\"\"},\"colorscale\":[[0.0,\"#0d0887\"],[0.1111111111111111,\"#46039f\"],[0.2222222222222222,\"#7201a8\"],[0.3333333333333333,\"#9c179e\"],[0.4444444444444444,\"#bd3786\"],[0.5555555555555556,\"#d8576b\"],[0.6666666666666666,\"#ed7953\"],[0.7777777777777778,\"#fb9f3a\"],[0.8888888888888888,\"#fdca26\"],[1.0,\"#f0f921\"]],\"type\":\"histogram2dcontour\"}],\"mesh3d\":[{\"colorbar\":{\"outlinewidth\":0,\"ticks\":\"\"},\"type\":\"mesh3d\"}],\"parcoords\":[{\"line\":{\"colorbar\":{\"outlinewidth\":0,\"ticks\":\"\"}},\"type\":\"parcoords\"}],\"pie\":[{\"automargin\":true,\"type\":\"pie\"}],\"scatter\":[{\"marker\":{\"colorbar\":{\"outlinewidth\":0,\"ticks\":\"\"}},\"type\":\"scatter\"}],\"scatter3d\":[{\"line\":{\"colorbar\":{\"outlinewidth\":0,\"ticks\":\"\"}},\"marker\":{\"colorbar\":{\"outlinewidth\":0,\"ticks\":\"\"}},\"type\":\"scatter3d\"}],\"scattercarpet\":[{\"marker\":{\"colorbar\":{\"outlinewidth\":0,\"ticks\":\"\"}},\"type\":\"scattercarpet\"}],\"scattergeo\":[{\"marker\":{\"colorbar\":{\"outlinewidth\":0,\"ticks\":\"\"}},\"type\":\"scattergeo\"}],\"scattergl\":[{\"marker\":{\"colorbar\":{\"outlinewidth\":0,\"ticks\":\"\"}},\"type\":\"scattergl\"}],\"scattermapbox\":[{\"marker\":{\"colorbar\":{\"outlinewidth\":0,\"ticks\":\"\"}},\"type\":\"scattermapbox\"}],\"scatterpolar\":[{\"marker\":{\"colorbar\":{\"outlinewidth\":0,\"ticks\":\"\"}},\"type\":\"scatterpolar\"}],\"scatterpolargl\":[{\"marker\":{\"colorbar\":{\"outlinewidth\":0,\"ticks\":\"\"}},\"type\":\"scatterpolargl\"}],\"scatterternary\":[{\"marker\":{\"colorbar\":{\"outlinewidth\":0,\"ticks\":\"\"}},\"type\":\"scatterternary\"}],\"surface\":[{\"colorbar\":{\"outlinewidth\":0,\"ticks\":\"\"},\"colorscale\":[[0.0,\"#0d0887\"],[0.1111111111111111,\"#46039f\"],[0.2222222222222222,\"#7201a8\"],[0.3333333333333333,\"#9c179e\"],[0.4444444444444444,\"#bd3786\"],[0.5555555555555556,\"#d8576b\"],[0.6666666666666666,\"#ed7953\"],[0.7777777777777778,\"#fb9f3a\"],[0.8888888888888888,\"#fdca26\"],[1.0,\"#f0f921\"]],\"type\":\"surface\"}],\"table\":[{\"cells\":{\"fill\":{\"color\":\"#EBF0F8\"},\"line\":{\"color\":\"white\"}},\"header\":{\"fill\":{\"color\":\"#C8D4E3\"},\"line\":{\"color\":\"white\"}},\"type\":\"table\"}]},\"layout\":{\"annotationdefaults\":{\"arrowcolor\":\"#2a3f5f\",\"arrowhead\":0,\"arrowwidth\":1},\"autotypenumbers\":\"strict\",\"coloraxis\":{\"colorbar\":{\"outlinewidth\":0,\"ticks\":\"\"}},\"colorscale\":{\"diverging\":[[0,\"#8e0152\"],[0.1,\"#c51b7d\"],[0.2,\"#de77ae\"],[0.3,\"#f1b6da\"],[0.4,\"#fde0ef\"],[0.5,\"#f7f7f7\"],[0.6,\"#e6f5d0\"],[0.7,\"#b8e186\"],[0.8,\"#7fbc41\"],[0.9,\"#4d9221\"],[1,\"#276419\"]],\"sequential\":[[0.0,\"#0d0887\"],[0.1111111111111111,\"#46039f\"],[0.2222222222222222,\"#7201a8\"],[0.3333333333333333,\"#9c179e\"],[0.4444444444444444,\"#bd3786\"],[0.5555555555555556,\"#d8576b\"],[0.6666666666666666,\"#ed7953\"],[0.7777777777777778,\"#fb9f3a\"],[0.8888888888888888,\"#fdca26\"],[1.0,\"#f0f921\"]],\"sequentialminus\":[[0.0,\"#0d0887\"],[0.1111111111111111,\"#46039f\"],[0.2222222222222222,\"#7201a8\"],[0.3333333333333333,\"#9c179e\"],[0.4444444444444444,\"#bd3786\"],[0.5555555555555556,\"#d8576b\"],[0.6666666666666666,\"#ed7953\"],[0.7777777777777778,\"#fb9f3a\"],[0.8888888888888888,\"#fdca26\"],[1.0,\"#f0f921\"]]},\"colorway\":[\"#636efa\",\"#EF553B\",\"#00cc96\",\"#ab63fa\",\"#FFA15A\",\"#19d3f3\",\"#FF6692\",\"#B6E880\",\"#FF97FF\",\"#FECB52\"],\"font\":{\"color\":\"#2a3f5f\"},\"geo\":{\"bgcolor\":\"white\",\"lakecolor\":\"white\",\"landcolor\":\"#E5ECF6\",\"showlakes\":true,\"showland\":true,\"subunitcolor\":\"white\"},\"hoverlabel\":{\"align\":\"left\"},\"hovermode\":\"closest\",\"mapbox\":{\"style\":\"light\"},\"paper_bgcolor\":\"white\",\"plot_bgcolor\":\"#E5ECF6\",\"polar\":{\"angularaxis\":{\"gridcolor\":\"white\",\"linecolor\":\"white\",\"ticks\":\"\"},\"bgcolor\":\"#E5ECF6\",\"radialaxis\":{\"gridcolor\":\"white\",\"linecolor\":\"white\",\"ticks\":\"\"}},\"scene\":{\"xaxis\":{\"backgroundcolor\":\"#E5ECF6\",\"gridcolor\":\"white\",\"gridwidth\":2,\"linecolor\":\"white\",\"showbackground\":true,\"ticks\":\"\",\"zerolinecolor\":\"white\"},\"yaxis\":{\"backgroundcolor\":\"#E5ECF6\",\"gridcolor\":\"white\",\"gridwidth\":2,\"linecolor\":\"white\",\"showbackground\":true,\"ticks\":\"\",\"zerolinecolor\":\"white\"},\"zaxis\":{\"backgroundcolor\":\"#E5ECF6\",\"gridcolor\":\"white\",\"gridwidth\":2,\"linecolor\":\"white\",\"showbackground\":true,\"ticks\":\"\",\"zerolinecolor\":\"white\"}},\"shapedefaults\":{\"line\":{\"color\":\"#2a3f5f\"}},\"ternary\":{\"aaxis\":{\"gridcolor\":\"white\",\"linecolor\":\"white\",\"ticks\":\"\"},\"baxis\":{\"gridcolor\":\"white\",\"linecolor\":\"white\",\"ticks\":\"\"},\"bgcolor\":\"#E5ECF6\",\"caxis\":{\"gridcolor\":\"white\",\"linecolor\":\"white\",\"ticks\":\"\"}},\"title\":{\"x\":0.05},\"xaxis\":{\"automargin\":true,\"gridcolor\":\"white\",\"linecolor\":\"white\",\"ticks\":\"\",\"title\":{\"standoff\":15},\"zerolinecolor\":\"white\",\"zerolinewidth\":2},\"yaxis\":{\"automargin\":true,\"gridcolor\":\"white\",\"linecolor\":\"white\",\"ticks\":\"\",\"title\":{\"standoff\":15},\"zerolinecolor\":\"white\",\"zerolinewidth\":2}}},\"title\":{\"text\":\"Distribution of Sales Made on Each Store\",\"x\":0.4},\"margin\":{\"t\":100,\"b\":20,\"l\":0,\"r\":0},\"width\":750,\"height\":450,\"autosize\":false,\"updatemenus\":[{\"active\":0,\"buttons\":[{\"args\":[{\"x\":[[\"CA_3\",\"CA_1\",\"TX_2\",\"WI_3\",\"WI_2\",\"TX_3\",\"TX_1\",\"CA_2\",\"WI_1\",\"CA_3\",\"CA_4\",\"TX_2\",\"WI_2\",\"CA_3\",\"TX_3\",\"TX_1\",\"CA_2\",\"CA_1\",\"WI_2\",\"WI_3\",\"CA_3\",\"CA_1\",\"WI_1\",\"CA_1\",\"WI_3\",\"TX_2\",\"TX_3\",\"CA_3\",\"CA_2\",\"TX_1\",\"WI_1\",\"WI_1\",\"CA_2\",\"CA_1\",\"CA_3\",\"TX_2\",\"CA_4\",\"CA_4\",\"WI_2\",\"CA_4\",\"TX_2\",\"WI_1\",\"CA_2\",\"TX_3\",\"WI_3\",\"TX_3\",\"WI_3\",\"TX_1\",\"TX_1\",\"CA_4\",\"CA_1\",\"CA_2\",\"WI_2\",\"TX_2\",\"TX_1\",\"TX_3\",\"WI_1\",\"WI_3\",\"WI_2\",\"CA_4\",\"CA_3\",\"TX_2\",\"TX_3\",\"CA_2\",\"CA_1\",\"WI_1\",\"TX_1\",\"WI_2\",\"WI_3\",\"CA_4\"],\"undefined\"],\"y\":[[2478,2268,2044,2293,1269,1686,1239,1575,1130,457,759,480,353,627,383,418,529,361,155,584,531,674,360,528,583,534,460,341,406,390,598,108,522,297,286,364,158,351,191,180,210,343,234,232,256,138,152,241,152,113,181,212,180,199,106,120,148,148,98,64,19,21,11,16,28,17,10,10,22,0],\"undefined\"],\"visible\":[true,false]}],\"label\":\"d_1\",\"method\":\"restyle\"},{\"args\":[{\"x\":[[\"CA_3\",\"CA_1\",\"TX_2\",\"WI_3\",\"WI_2\",\"TX_3\",\"TX_1\",\"CA_2\",\"WI_1\",\"CA_3\",\"CA_4\",\"TX_2\",\"WI_2\",\"CA_3\",\"TX_3\",\"TX_1\",\"CA_2\",\"CA_1\",\"WI_2\",\"WI_3\",\"CA_3\",\"CA_1\",\"WI_1\",\"CA_1\",\"WI_3\",\"TX_2\",\"TX_3\",\"CA_3\",\"CA_2\",\"TX_1\",\"WI_1\",\"WI_1\",\"CA_2\",\"CA_1\",\"CA_3\",\"TX_2\",\"CA_4\",\"CA_4\",\"WI_2\",\"CA_4\",\"TX_2\",\"WI_1\",\"CA_2\",\"TX_3\",\"WI_3\",\"TX_3\",\"WI_3\",\"TX_1\",\"TX_1\",\"CA_4\",\"CA_1\",\"CA_2\",\"WI_2\",\"TX_2\",\"TX_1\",\"TX_3\",\"WI_1\",\"WI_3\",\"WI_2\",\"CA_4\",\"CA_3\",\"TX_2\",\"TX_3\",\"CA_2\",\"CA_1\",\"WI_1\",\"TX_1\",\"WI_2\",\"WI_3\",\"CA_4\"],\"undefined\"],\"y\":[[2539,1959,1837,2077,873,1313,1231,1382,868,827,681,441,434,699,343,411,644,422,183,592,469,561,415,644,513,473,233,334,422,330,487,67,595,306,327,359,198,297,194,190,158,248,306,169,253,130,134,199,128,109,225,188,133,167,111,108,171,116,79,101,40,22,27,17,25,15,13,14,21,2],\"undefined\"],\"visible\":[true,false]}],\"label\":\"d_50\",\"method\":\"restyle\"},{\"args\":[{\"x\":[[\"CA_3\",\"CA_1\",\"TX_2\",\"WI_3\",\"WI_2\",\"TX_3\",\"TX_1\",\"CA_2\",\"WI_1\",\"CA_3\",\"CA_4\",\"TX_2\",\"WI_2\",\"CA_3\",\"TX_3\",\"TX_1\",\"CA_2\",\"CA_1\",\"WI_2\",\"WI_3\",\"CA_3\",\"CA_1\",\"WI_1\",\"CA_1\",\"WI_3\",\"TX_2\",\"TX_3\",\"CA_3\",\"CA_2\",\"TX_1\",\"WI_1\",\"WI_1\",\"CA_2\",\"CA_1\",\"CA_3\",\"TX_2\",\"CA_4\",\"CA_4\",\"WI_2\",\"CA_4\",\"TX_2\",\"WI_1\",\"CA_2\",\"TX_3\",\"WI_3\",\"TX_3\",\"WI_3\",\"TX_1\",\"TX_1\",\"CA_4\",\"CA_1\",\"CA_2\",\"WI_2\",\"TX_2\",\"TX_1\",\"TX_3\",\"WI_1\",\"WI_3\",\"WI_2\",\"CA_4\",\"CA_3\",\"TX_2\",\"TX_3\",\"CA_2\",\"CA_1\",\"WI_1\",\"TX_1\",\"WI_2\",\"WI_3\",\"CA_4\"],\"undefined\"],\"y\":[[1848,1406,2164,1674,478,1360,1513,694,392,374,738,342,109,219,206,334,158,140,23,246,243,143,57,71,168,201,136,235,105,162,49,14,94,82,198,143,119,71,50,92,162,73,60,105,105,90,124,99,75,53,80,36,16,89,82,55,34,87,6,49,13,30,10,8,19,1,3,0,4,8],\"undefined\"],\"visible\":[true,false]}],\"label\":\"d_300\",\"method\":\"restyle\"},{\"args\":[{\"x\":[[\"CA_3\",\"CA_1\",\"TX_2\",\"WI_3\",\"WI_2\",\"TX_3\",\"TX_1\",\"CA_2\",\"WI_1\",\"CA_3\",\"CA_4\",\"TX_2\",\"WI_2\",\"CA_3\",\"TX_3\",\"TX_1\",\"CA_2\",\"CA_1\",\"WI_2\",\"WI_3\",\"CA_3\",\"CA_1\",\"WI_1\",\"CA_1\",\"WI_3\",\"TX_2\",\"TX_3\",\"CA_3\",\"CA_2\",\"TX_1\",\"WI_1\",\"WI_1\",\"CA_2\",\"CA_1\",\"CA_3\",\"TX_2\",\"CA_4\",\"CA_4\",\"WI_2\",\"CA_4\",\"TX_2\",\"WI_1\",\"CA_2\",\"TX_3\",\"WI_3\",\"TX_3\",\"WI_3\",\"TX_1\",\"TX_1\",\"CA_4\",\"CA_1\",\"CA_2\",\"WI_2\",\"TX_2\",\"TX_1\",\"TX_3\",\"WI_1\",\"WI_3\",\"WI_2\",\"CA_4\",\"CA_3\",\"TX_2\",\"TX_3\",\"CA_2\",\"CA_1\",\"WI_1\",\"TX_1\",\"WI_2\",\"WI_3\",\"CA_4\"],\"undefined\"],\"y\":[[4358,2492,2942,3281,2086,1999,1964,1432,879,1034,1371,720,563,673,556,630,618,518,737,546,370,480,428,455,531,528,441,362,348,369,239,38,267,228,261,312,176,304,292,263,309,201,195,208,255,158,310,167,249,157,122,130,156,167,104,100,91,114,72,98,34,24,39,11,15,19,14,13,10,3],\"undefined\"],\"visible\":[true,false]}],\"label\":\"d_500\",\"method\":\"restyle\"},{\"args\":[{\"x\":[[\"CA_3\",\"CA_1\",\"TX_2\",\"WI_3\",\"WI_2\",\"TX_3\",\"TX_1\",\"CA_2\",\"WI_1\",\"CA_3\",\"CA_4\",\"TX_2\",\"WI_2\",\"CA_3\",\"TX_3\",\"TX_1\",\"CA_2\",\"CA_1\",\"WI_2\",\"WI_3\",\"CA_3\",\"CA_1\",\"WI_1\",\"CA_1\",\"WI_3\",\"TX_2\",\"TX_3\",\"CA_3\",\"CA_2\",\"TX_1\",\"WI_1\",\"WI_1\",\"CA_2\",\"CA_1\",\"CA_3\",\"TX_2\",\"CA_4\",\"CA_4\",\"WI_2\",\"CA_4\",\"TX_2\",\"WI_1\",\"CA_2\",\"TX_3\",\"WI_3\",\"TX_3\",\"WI_3\",\"TX_1\",\"TX_1\",\"CA_4\",\"CA_1\",\"CA_2\",\"WI_2\",\"TX_2\",\"TX_1\",\"TX_3\",\"WI_1\",\"WI_3\",\"WI_2\",\"CA_4\",\"CA_3\",\"TX_2\",\"TX_3\",\"CA_2\",\"CA_1\",\"WI_1\",\"TX_1\",\"WI_2\",\"WI_3\",\"CA_4\"],\"undefined\"],\"y\":[[2441,1762,1896,1868,1620,1265,1254,1108,1376,1201,746,1093,833,532,797,865,665,528,387,734,370,447,464,274,301,389,311,314,388,288,232,320,200,206,240,279,226,234,300,232,435,216,176,160,238,214,195,124,171,112,152,112,154,188,114,110,112,93,87,78,26,20,18,22,9,11,0,5,9,0],\"undefined\"],\"visible\":[true,false]}],\"label\":\"d_700\",\"method\":\"restyle\"},{\"args\":[{\"x\":[[\"CA_3\",\"CA_1\",\"TX_2\",\"WI_3\",\"WI_2\",\"TX_3\",\"TX_1\",\"CA_2\",\"WI_1\",\"CA_3\",\"CA_4\",\"TX_2\",\"WI_2\",\"CA_3\",\"TX_3\",\"TX_1\",\"CA_2\",\"CA_1\",\"WI_2\",\"WI_3\",\"CA_3\",\"CA_1\",\"WI_1\",\"CA_1\",\"WI_3\",\"TX_2\",\"TX_3\",\"CA_3\",\"CA_2\",\"TX_1\",\"WI_1\",\"WI_1\",\"CA_2\",\"CA_1\",\"CA_3\",\"TX_2\",\"CA_4\",\"CA_4\",\"WI_2\",\"CA_4\",\"TX_2\",\"WI_1\",\"CA_2\",\"TX_3\",\"WI_3\",\"TX_3\",\"WI_3\",\"TX_1\",\"TX_1\",\"CA_4\",\"CA_1\",\"CA_2\",\"WI_2\",\"TX_2\",\"TX_1\",\"TX_3\",\"WI_1\",\"WI_3\",\"WI_2\",\"CA_4\",\"CA_3\",\"TX_2\",\"TX_3\",\"CA_2\",\"CA_1\",\"WI_1\",\"TX_1\",\"WI_2\",\"WI_3\",\"CA_4\"],\"undefined\"],\"y\":[[2617,1977,1855,1880,2167,1332,1212,1134,1286,1258,989,770,775,522,586,668,639,545,733,444,579,428,465,424,282,425,347,421,387,252,302,319,282,314,278,358,372,257,303,319,338,297,187,229,179,242,158,197,148,180,149,95,179,134,97,103,87,76,101,102,14,33,31,17,14,15,11,5,14,2],\"undefined\"],\"visible\":[true,false]}],\"label\":\"d_900\",\"method\":\"restyle\"},{\"args\":[{\"x\":[[\"CA_3\",\"CA_1\",\"TX_2\",\"WI_3\",\"WI_2\",\"TX_3\",\"TX_1\",\"CA_2\",\"WI_1\",\"CA_3\",\"CA_4\",\"TX_2\",\"WI_2\",\"CA_3\",\"TX_3\",\"TX_1\",\"CA_2\",\"CA_1\",\"WI_2\",\"WI_3\",\"CA_3\",\"CA_1\",\"WI_1\",\"CA_1\",\"WI_3\",\"TX_2\",\"TX_3\",\"CA_3\",\"CA_2\",\"TX_1\",\"WI_1\",\"WI_1\",\"CA_2\",\"CA_1\",\"CA_3\",\"TX_2\",\"CA_4\",\"CA_4\",\"WI_2\",\"CA_4\",\"TX_2\",\"WI_1\",\"CA_2\",\"TX_3\",\"WI_3\",\"TX_3\",\"WI_3\",\"TX_1\",\"TX_1\",\"CA_4\",\"CA_1\",\"CA_2\",\"WI_2\",\"TX_2\",\"TX_1\",\"TX_3\",\"WI_1\",\"WI_3\",\"WI_2\",\"CA_4\",\"CA_3\",\"TX_2\",\"TX_3\",\"CA_2\",\"CA_1\",\"WI_1\",\"TX_1\",\"WI_2\",\"WI_3\",\"CA_4\"],\"undefined\"],\"y\":[[3266,3432,2573,1966,2546,2158,1910,1910,1800,1169,1670,855,1005,579,848,824,1086,973,471,698,443,641,616,659,241,406,451,307,494,361,424,483,486,469,299,333,447,326,397,422,335,294,377,318,239,231,255,259,166,267,291,164,301,169,158,166,128,128,138,153,28,40,45,63,46,43,23,28,23,13],\"undefined\"],\"visible\":[true,false]}],\"label\":\"d_1100\",\"method\":\"restyle\"},{\"args\":[{\"x\":[[\"CA_3\",\"CA_1\",\"TX_2\",\"WI_3\",\"WI_2\",\"TX_3\",\"TX_1\",\"CA_2\",\"WI_1\",\"CA_3\",\"CA_4\",\"TX_2\",\"WI_2\",\"CA_3\",\"TX_3\",\"TX_1\",\"CA_2\",\"CA_1\",\"WI_2\",\"WI_3\",\"CA_3\",\"CA_1\",\"WI_1\",\"CA_1\",\"WI_3\",\"TX_2\",\"TX_3\",\"CA_3\",\"CA_2\",\"TX_1\",\"WI_1\",\"WI_1\",\"CA_2\",\"CA_1\",\"CA_3\",\"TX_2\",\"CA_4\",\"CA_4\",\"WI_2\",\"CA_4\",\"TX_2\",\"WI_1\",\"CA_2\",\"TX_3\",\"WI_3\",\"TX_3\",\"WI_3\",\"TX_1\",\"TX_1\",\"CA_4\",\"CA_1\",\"CA_2\",\"WI_2\",\"TX_2\",\"TX_1\",\"TX_3\",\"WI_1\",\"WI_3\",\"WI_2\",\"CA_4\",\"CA_3\",\"TX_2\",\"TX_3\",\"CA_2\",\"CA_1\",\"WI_1\",\"TX_1\",\"WI_2\",\"WI_3\",\"CA_4\"],\"undefined\"],\"y\":[[4211,2841,1991,1948,2478,1766,1694,1146,2166,2034,1388,838,888,873,915,897,894,1162,1320,742,741,742,766,548,553,524,534,551,311,508,372,819,408,357,439,373,347,393,370,406,207,316,398,398,287,215,169,271,225,207,261,116,248,233,191,184,236,180,155,169,55,63,32,55,60,64,21,33,49,27],\"undefined\"],\"visible\":[true,false]}],\"label\":\"d_1500\",\"method\":\"restyle\"},{\"args\":[{\"x\":[[\"CA_3\",\"CA_1\",\"TX_2\",\"WI_3\",\"WI_2\",\"TX_3\",\"TX_1\",\"CA_2\",\"WI_1\",\"CA_3\",\"CA_4\",\"TX_2\",\"WI_2\",\"CA_3\",\"TX_3\",\"TX_1\",\"CA_2\",\"CA_1\",\"WI_2\",\"WI_3\",\"CA_3\",\"CA_1\",\"WI_1\",\"CA_1\",\"WI_3\",\"TX_2\",\"TX_3\",\"CA_3\",\"CA_2\",\"TX_1\",\"WI_1\",\"WI_1\",\"CA_2\",\"CA_1\",\"CA_3\",\"TX_2\",\"CA_4\",\"CA_4\",\"WI_2\",\"CA_4\",\"TX_2\",\"WI_1\",\"CA_2\",\"TX_3\",\"WI_3\",\"TX_3\",\"WI_3\",\"TX_1\",\"TX_1\",\"CA_4\",\"CA_1\",\"CA_2\",\"WI_2\",\"TX_2\",\"TX_1\",\"TX_3\",\"WI_1\",\"WI_3\",\"WI_2\",\"CA_4\",\"CA_3\",\"TX_2\",\"TX_3\",\"CA_2\",\"CA_1\",\"WI_1\",\"TX_1\",\"WI_2\",\"WI_3\",\"CA_4\"],\"undefined\"],\"y\":[[2517,1584,1528,1405,1441,1542,1045,1558,1189,1167,962,710,782,493,671,680,550,626,661,496,486,365,458,359,294,312,384,421,331,337,319,465,355,321,254,259,398,330,358,375,231,305,256,218,214,339,183,176,204,198,148,312,174,151,110,134,97,100,108,89,66,88,33,43,27,44,35,36,41,19],\"undefined\"],\"visible\":[true,false]}],\"label\":\"d_1700\",\"method\":\"restyle\"},{\"args\":[{\"x\":[[\"CA_3\",\"CA_1\",\"TX_2\",\"WI_3\",\"WI_2\",\"TX_3\",\"TX_1\",\"CA_2\",\"WI_1\",\"CA_3\",\"CA_4\",\"TX_2\",\"WI_2\",\"CA_3\",\"TX_3\",\"TX_1\",\"CA_2\",\"CA_1\",\"WI_2\",\"WI_3\",\"CA_3\",\"CA_1\",\"WI_1\",\"CA_1\",\"WI_3\",\"TX_2\",\"TX_3\",\"CA_3\",\"CA_2\",\"TX_1\",\"WI_1\",\"WI_1\",\"CA_2\",\"CA_1\",\"CA_3\",\"TX_2\",\"CA_4\",\"CA_4\",\"WI_2\",\"CA_4\",\"TX_2\",\"WI_1\",\"CA_2\",\"TX_3\",\"WI_3\",\"TX_3\",\"WI_3\",\"TX_1\",\"TX_1\",\"CA_4\",\"CA_1\",\"CA_2\",\"WI_2\",\"TX_2\",\"TX_1\",\"TX_3\",\"WI_1\",\"WI_3\",\"WI_2\",\"CA_4\",\"CA_3\",\"TX_2\",\"TX_3\",\"CA_2\",\"CA_1\",\"WI_1\",\"TX_1\",\"WI_2\",\"WI_3\",\"CA_4\"],\"undefined\"],\"y\":[[5576362,3927835,3725146,3520357,3144591,2997456,2781040,2429853,2330856,2147073,1938580,1254219,1214718,1202566,1160237,1145836,1106852,1100165,1092639,1017626,885518,885144,822875,821524,811498,781462,754172,736862,717687,631513,608123,600794,578283,567849,564370,560671,541858,537315,530954,530925,508516,506702,460561,459967,426000,411460,398825,386024,365656,343530,340545,332719,328492,309044,242163,238747,232139,212808,190896,188871,75429,75326,67291,59520,55154,47573,43060,41722,40668,22597],\"undefined\"],\"visible\":[true,false]}],\"label\":\"total_sales_all_days\",\"method\":\"restyle\"},{\"args\":[{\"x\":[[\"CA_3\",\"CA_1\",\"TX_2\",\"WI_3\",\"WI_2\",\"TX_3\",\"TX_1\",\"CA_2\",\"WI_1\",\"CA_3\",\"CA_4\",\"TX_2\",\"WI_2\",\"CA_3\",\"TX_3\",\"TX_1\",\"CA_2\",\"CA_1\",\"WI_2\",\"WI_3\",\"CA_3\",\"CA_1\",\"WI_1\",\"CA_1\",\"WI_3\",\"TX_2\",\"TX_3\",\"CA_3\",\"CA_2\",\"TX_1\",\"WI_1\",\"WI_1\",\"CA_2\",\"CA_1\",\"CA_3\",\"TX_2\",\"CA_4\",\"CA_4\",\"WI_2\",\"CA_4\",\"TX_2\",\"WI_1\",\"CA_2\",\"TX_3\",\"WI_3\",\"TX_3\",\"WI_3\",\"TX_1\",\"TX_1\",\"CA_4\",\"CA_1\",\"CA_2\",\"WI_2\",\"TX_2\",\"TX_1\",\"TX_3\",\"WI_1\",\"WI_3\",\"WI_2\",\"CA_4\",\"CA_3\",\"TX_2\",\"TX_3\",\"CA_2\",\"CA_1\",\"WI_1\",\"TX_1\",\"WI_2\",\"WI_3\",\"CA_4\"],\"undefined\"],\"y\":[[2062.0,1335.0,1295.0,1131.0,866.0,983.0,887.0,679.0,636.0,743.0,578.0,360.0,348.0,385.0,338.0,339.0,289.0,304.0,205.0,284.0,214.0,251.0,200.0,180.0,177.0,210.0,212.0,205.0,190.0,151.0,131.0,56.0,86.0,143.0,101.0,91.0,114.0,121.0,125.0,97.0,120.0,132.0,66.0,61.0,63.0,79.0,77.0,36.0,61.0,73.0,26.0,58.0,28.0,23.0,13.0,19.0,9.0,17.0,9.0,9.0,3.0,1.0,1.0,0.0,0.0,0.0,0.0,0.0,0.0,0.0],\"undefined\"],\"visible\":[true,false]}],\"label\":\"median_sales_all_days\",\"method\":\"restyle\"}],\"x\":0.08,\"xanchor\":\"left\",\"y\":1.13,\"yanchor\":\"top\"}],\"annotations\":[{\"showarrow\":false,\"text\":\"With<br>Stores\",\"x\":0.0,\"xanchor\":\"left\",\"xref\":\"paper\",\"y\":1.13,\"yref\":\"paper\"}]},                        {\"responsive\": true}                    ).then(function(){\n",
              "                            \n",
              "var gd = document.getElementById('71ac6fd8-94a7-477b-b74a-3cb5bf1ef496');\n",
              "var x = new MutationObserver(function (mutations, observer) {{\n",
              "        var display = window.getComputedStyle(gd).display;\n",
              "        if (!display || display === 'none') {{\n",
              "            console.log([gd, 'removed!']);\n",
              "            Plotly.purge(gd);\n",
              "            observer.disconnect();\n",
              "        }}\n",
              "}});\n",
              "\n",
              "// Listen for the removal of the full notebook cells\n",
              "var notebookContainer = gd.closest('#notebook-container');\n",
              "if (notebookContainer) {{\n",
              "    x.observe(notebookContainer, {childList: true});\n",
              "}}\n",
              "\n",
              "// Listen for the clearing of the current output cell\n",
              "var outputEl = gd.closest('.output');\n",
              "if (outputEl) {{\n",
              "    x.observe(outputEl, {childList: true});\n",
              "}}\n",
              "\n",
              "                        })                };                            </script>        </div>\n",
              "</body>\n",
              "</html>"
            ]
          },
          "metadata": {}
        },
        {
          "output_type": "display_data",
          "data": {
            "text/html": [
              "<html>\n",
              "<head><meta charset=\"utf-8\" /></head>\n",
              "<body>\n",
              "    <div>            <script src=\"https://cdnjs.cloudflare.com/ajax/libs/mathjax/2.7.5/MathJax.js?config=TeX-AMS-MML_SVG\"></script><script type=\"text/javascript\">if (window.MathJax) {MathJax.Hub.Config({SVG: {font: \"STIX-Web\"}});}</script>                <script type=\"text/javascript\">window.PlotlyConfig = {MathJaxConfig: 'local'};</script>\n",
              "        <script src=\"https://cdn.plot.ly/plotly-2.8.3.min.js\"></script>                <div id=\"f3f73b8b-0569-494d-bfa6-339e9b6d3684\" class=\"plotly-graph-div\" style=\"height:450px; width:750px;\"></div>            <script type=\"text/javascript\">                                    window.PLOTLYENV=window.PLOTLYENV || {};                                    if (document.getElementById(\"f3f73b8b-0569-494d-bfa6-339e9b6d3684\")) {                    Plotly.newPlot(                        \"f3f73b8b-0569-494d-bfa6-339e9b6d3684\",                        [{\"marker\":{\"color\":\"Crimson\"},\"name\":\"Dept.Sales on day2\",\"x\":[\"CA\",\"CA\",\"TX\",\"WI\",\"WI\",\"TX\",\"TX\",\"CA\",\"WI\",\"CA\",\"CA\",\"TX\",\"WI\",\"CA\",\"TX\",\"TX\",\"CA\",\"CA\",\"WI\",\"WI\",\"CA\",\"CA\",\"WI\",\"CA\",\"WI\",\"TX\",\"TX\",\"CA\",\"CA\",\"TX\",\"WI\",\"WI\",\"CA\",\"CA\",\"CA\",\"TX\",\"CA\",\"CA\",\"WI\",\"CA\",\"TX\",\"WI\",\"CA\",\"TX\",\"WI\",\"TX\",\"WI\",\"TX\",\"TX\",\"CA\",\"CA\",\"CA\",\"WI\",\"TX\",\"TX\",\"TX\",\"WI\",\"WI\",\"WI\",\"CA\",\"CA\",\"TX\",\"TX\",\"CA\",\"CA\",\"WI\",\"TX\",\"WI\",\"WI\",\"CA\"],\"y\":[2478,2268,2044,2293,1269,1686,1239,1575,1130,457,759,480,353,627,383,418,529,361,155,584,531,674,360,528,583,534,460,341,406,390,598,108,522,297,286,364,158,351,191,180,210,343,234,232,256,138,152,241,152,113,181,212,180,199,106,120,148,148,98,64,19,21,11,16,28,17,10,10,22,0],\"type\":\"bar\"}],                        {\"template\":{\"data\":{\"bar\":[{\"error_x\":{\"color\":\"#2a3f5f\"},\"error_y\":{\"color\":\"#2a3f5f\"},\"marker\":{\"line\":{\"color\":\"#E5ECF6\",\"width\":0.5},\"pattern\":{\"fillmode\":\"overlay\",\"size\":10,\"solidity\":0.2}},\"type\":\"bar\"}],\"barpolar\":[{\"marker\":{\"line\":{\"color\":\"#E5ECF6\",\"width\":0.5},\"pattern\":{\"fillmode\":\"overlay\",\"size\":10,\"solidity\":0.2}},\"type\":\"barpolar\"}],\"carpet\":[{\"aaxis\":{\"endlinecolor\":\"#2a3f5f\",\"gridcolor\":\"white\",\"linecolor\":\"white\",\"minorgridcolor\":\"white\",\"startlinecolor\":\"#2a3f5f\"},\"baxis\":{\"endlinecolor\":\"#2a3f5f\",\"gridcolor\":\"white\",\"linecolor\":\"white\",\"minorgridcolor\":\"white\",\"startlinecolor\":\"#2a3f5f\"},\"type\":\"carpet\"}],\"choropleth\":[{\"colorbar\":{\"outlinewidth\":0,\"ticks\":\"\"},\"type\":\"choropleth\"}],\"contour\":[{\"colorbar\":{\"outlinewidth\":0,\"ticks\":\"\"},\"colorscale\":[[0.0,\"#0d0887\"],[0.1111111111111111,\"#46039f\"],[0.2222222222222222,\"#7201a8\"],[0.3333333333333333,\"#9c179e\"],[0.4444444444444444,\"#bd3786\"],[0.5555555555555556,\"#d8576b\"],[0.6666666666666666,\"#ed7953\"],[0.7777777777777778,\"#fb9f3a\"],[0.8888888888888888,\"#fdca26\"],[1.0,\"#f0f921\"]],\"type\":\"contour\"}],\"contourcarpet\":[{\"colorbar\":{\"outlinewidth\":0,\"ticks\":\"\"},\"type\":\"contourcarpet\"}],\"heatmap\":[{\"colorbar\":{\"outlinewidth\":0,\"ticks\":\"\"},\"colorscale\":[[0.0,\"#0d0887\"],[0.1111111111111111,\"#46039f\"],[0.2222222222222222,\"#7201a8\"],[0.3333333333333333,\"#9c179e\"],[0.4444444444444444,\"#bd3786\"],[0.5555555555555556,\"#d8576b\"],[0.6666666666666666,\"#ed7953\"],[0.7777777777777778,\"#fb9f3a\"],[0.8888888888888888,\"#fdca26\"],[1.0,\"#f0f921\"]],\"type\":\"heatmap\"}],\"heatmapgl\":[{\"colorbar\":{\"outlinewidth\":0,\"ticks\":\"\"},\"colorscale\":[[0.0,\"#0d0887\"],[0.1111111111111111,\"#46039f\"],[0.2222222222222222,\"#7201a8\"],[0.3333333333333333,\"#9c179e\"],[0.4444444444444444,\"#bd3786\"],[0.5555555555555556,\"#d8576b\"],[0.6666666666666666,\"#ed7953\"],[0.7777777777777778,\"#fb9f3a\"],[0.8888888888888888,\"#fdca26\"],[1.0,\"#f0f921\"]],\"type\":\"heatmapgl\"}],\"histogram\":[{\"marker\":{\"pattern\":{\"fillmode\":\"overlay\",\"size\":10,\"solidity\":0.2}},\"type\":\"histogram\"}],\"histogram2d\":[{\"colorbar\":{\"outlinewidth\":0,\"ticks\":\"\"},\"colorscale\":[[0.0,\"#0d0887\"],[0.1111111111111111,\"#46039f\"],[0.2222222222222222,\"#7201a8\"],[0.3333333333333333,\"#9c179e\"],[0.4444444444444444,\"#bd3786\"],[0.5555555555555556,\"#d8576b\"],[0.6666666666666666,\"#ed7953\"],[0.7777777777777778,\"#fb9f3a\"],[0.8888888888888888,\"#fdca26\"],[1.0,\"#f0f921\"]],\"type\":\"histogram2d\"}],\"histogram2dcontour\":[{\"colorbar\":{\"outlinewidth\":0,\"ticks\":\"\"},\"colorscale\":[[0.0,\"#0d0887\"],[0.1111111111111111,\"#46039f\"],[0.2222222222222222,\"#7201a8\"],[0.3333333333333333,\"#9c179e\"],[0.4444444444444444,\"#bd3786\"],[0.5555555555555556,\"#d8576b\"],[0.6666666666666666,\"#ed7953\"],[0.7777777777777778,\"#fb9f3a\"],[0.8888888888888888,\"#fdca26\"],[1.0,\"#f0f921\"]],\"type\":\"histogram2dcontour\"}],\"mesh3d\":[{\"colorbar\":{\"outlinewidth\":0,\"ticks\":\"\"},\"type\":\"mesh3d\"}],\"parcoords\":[{\"line\":{\"colorbar\":{\"outlinewidth\":0,\"ticks\":\"\"}},\"type\":\"parcoords\"}],\"pie\":[{\"automargin\":true,\"type\":\"pie\"}],\"scatter\":[{\"marker\":{\"colorbar\":{\"outlinewidth\":0,\"ticks\":\"\"}},\"type\":\"scatter\"}],\"scatter3d\":[{\"line\":{\"colorbar\":{\"outlinewidth\":0,\"ticks\":\"\"}},\"marker\":{\"colorbar\":{\"outlinewidth\":0,\"ticks\":\"\"}},\"type\":\"scatter3d\"}],\"scattercarpet\":[{\"marker\":{\"colorbar\":{\"outlinewidth\":0,\"ticks\":\"\"}},\"type\":\"scattercarpet\"}],\"scattergeo\":[{\"marker\":{\"colorbar\":{\"outlinewidth\":0,\"ticks\":\"\"}},\"type\":\"scattergeo\"}],\"scattergl\":[{\"marker\":{\"colorbar\":{\"outlinewidth\":0,\"ticks\":\"\"}},\"type\":\"scattergl\"}],\"scattermapbox\":[{\"marker\":{\"colorbar\":{\"outlinewidth\":0,\"ticks\":\"\"}},\"type\":\"scattermapbox\"}],\"scatterpolar\":[{\"marker\":{\"colorbar\":{\"outlinewidth\":0,\"ticks\":\"\"}},\"type\":\"scatterpolar\"}],\"scatterpolargl\":[{\"marker\":{\"colorbar\":{\"outlinewidth\":0,\"ticks\":\"\"}},\"type\":\"scatterpolargl\"}],\"scatterternary\":[{\"marker\":{\"colorbar\":{\"outlinewidth\":0,\"ticks\":\"\"}},\"type\":\"scatterternary\"}],\"surface\":[{\"colorbar\":{\"outlinewidth\":0,\"ticks\":\"\"},\"colorscale\":[[0.0,\"#0d0887\"],[0.1111111111111111,\"#46039f\"],[0.2222222222222222,\"#7201a8\"],[0.3333333333333333,\"#9c179e\"],[0.4444444444444444,\"#bd3786\"],[0.5555555555555556,\"#d8576b\"],[0.6666666666666666,\"#ed7953\"],[0.7777777777777778,\"#fb9f3a\"],[0.8888888888888888,\"#fdca26\"],[1.0,\"#f0f921\"]],\"type\":\"surface\"}],\"table\":[{\"cells\":{\"fill\":{\"color\":\"#EBF0F8\"},\"line\":{\"color\":\"white\"}},\"header\":{\"fill\":{\"color\":\"#C8D4E3\"},\"line\":{\"color\":\"white\"}},\"type\":\"table\"}]},\"layout\":{\"annotationdefaults\":{\"arrowcolor\":\"#2a3f5f\",\"arrowhead\":0,\"arrowwidth\":1},\"autotypenumbers\":\"strict\",\"coloraxis\":{\"colorbar\":{\"outlinewidth\":0,\"ticks\":\"\"}},\"colorscale\":{\"diverging\":[[0,\"#8e0152\"],[0.1,\"#c51b7d\"],[0.2,\"#de77ae\"],[0.3,\"#f1b6da\"],[0.4,\"#fde0ef\"],[0.5,\"#f7f7f7\"],[0.6,\"#e6f5d0\"],[0.7,\"#b8e186\"],[0.8,\"#7fbc41\"],[0.9,\"#4d9221\"],[1,\"#276419\"]],\"sequential\":[[0.0,\"#0d0887\"],[0.1111111111111111,\"#46039f\"],[0.2222222222222222,\"#7201a8\"],[0.3333333333333333,\"#9c179e\"],[0.4444444444444444,\"#bd3786\"],[0.5555555555555556,\"#d8576b\"],[0.6666666666666666,\"#ed7953\"],[0.7777777777777778,\"#fb9f3a\"],[0.8888888888888888,\"#fdca26\"],[1.0,\"#f0f921\"]],\"sequentialminus\":[[0.0,\"#0d0887\"],[0.1111111111111111,\"#46039f\"],[0.2222222222222222,\"#7201a8\"],[0.3333333333333333,\"#9c179e\"],[0.4444444444444444,\"#bd3786\"],[0.5555555555555556,\"#d8576b\"],[0.6666666666666666,\"#ed7953\"],[0.7777777777777778,\"#fb9f3a\"],[0.8888888888888888,\"#fdca26\"],[1.0,\"#f0f921\"]]},\"colorway\":[\"#636efa\",\"#EF553B\",\"#00cc96\",\"#ab63fa\",\"#FFA15A\",\"#19d3f3\",\"#FF6692\",\"#B6E880\",\"#FF97FF\",\"#FECB52\"],\"font\":{\"color\":\"#2a3f5f\"},\"geo\":{\"bgcolor\":\"white\",\"lakecolor\":\"white\",\"landcolor\":\"#E5ECF6\",\"showlakes\":true,\"showland\":true,\"subunitcolor\":\"white\"},\"hoverlabel\":{\"align\":\"left\"},\"hovermode\":\"closest\",\"mapbox\":{\"style\":\"light\"},\"paper_bgcolor\":\"white\",\"plot_bgcolor\":\"#E5ECF6\",\"polar\":{\"angularaxis\":{\"gridcolor\":\"white\",\"linecolor\":\"white\",\"ticks\":\"\"},\"bgcolor\":\"#E5ECF6\",\"radialaxis\":{\"gridcolor\":\"white\",\"linecolor\":\"white\",\"ticks\":\"\"}},\"scene\":{\"xaxis\":{\"backgroundcolor\":\"#E5ECF6\",\"gridcolor\":\"white\",\"gridwidth\":2,\"linecolor\":\"white\",\"showbackground\":true,\"ticks\":\"\",\"zerolinecolor\":\"white\"},\"yaxis\":{\"backgroundcolor\":\"#E5ECF6\",\"gridcolor\":\"white\",\"gridwidth\":2,\"linecolor\":\"white\",\"showbackground\":true,\"ticks\":\"\",\"zerolinecolor\":\"white\"},\"zaxis\":{\"backgroundcolor\":\"#E5ECF6\",\"gridcolor\":\"white\",\"gridwidth\":2,\"linecolor\":\"white\",\"showbackground\":true,\"ticks\":\"\",\"zerolinecolor\":\"white\"}},\"shapedefaults\":{\"line\":{\"color\":\"#2a3f5f\"}},\"ternary\":{\"aaxis\":{\"gridcolor\":\"white\",\"linecolor\":\"white\",\"ticks\":\"\"},\"baxis\":{\"gridcolor\":\"white\",\"linecolor\":\"white\",\"ticks\":\"\"},\"bgcolor\":\"#E5ECF6\",\"caxis\":{\"gridcolor\":\"white\",\"linecolor\":\"white\",\"ticks\":\"\"}},\"title\":{\"x\":0.05},\"xaxis\":{\"automargin\":true,\"gridcolor\":\"white\",\"linecolor\":\"white\",\"ticks\":\"\",\"title\":{\"standoff\":15},\"zerolinecolor\":\"white\",\"zerolinewidth\":2},\"yaxis\":{\"automargin\":true,\"gridcolor\":\"white\",\"linecolor\":\"white\",\"ticks\":\"\",\"title\":{\"standoff\":15},\"zerolinecolor\":\"white\",\"zerolinewidth\":2}}},\"title\":{\"text\":\"Distribution of Sales Made In Each State\",\"x\":0.4},\"margin\":{\"t\":100,\"b\":20,\"l\":0,\"r\":0},\"width\":750,\"height\":450,\"autosize\":false,\"updatemenus\":[{\"active\":0,\"buttons\":[{\"args\":[{\"x\":[[\"CA\",\"CA\",\"TX\",\"WI\",\"WI\",\"TX\",\"TX\",\"CA\",\"WI\",\"CA\",\"CA\",\"TX\",\"WI\",\"CA\",\"TX\",\"TX\",\"CA\",\"CA\",\"WI\",\"WI\",\"CA\",\"CA\",\"WI\",\"CA\",\"WI\",\"TX\",\"TX\",\"CA\",\"CA\",\"TX\",\"WI\",\"WI\",\"CA\",\"CA\",\"CA\",\"TX\",\"CA\",\"CA\",\"WI\",\"CA\",\"TX\",\"WI\",\"CA\",\"TX\",\"WI\",\"TX\",\"WI\",\"TX\",\"TX\",\"CA\",\"CA\",\"CA\",\"WI\",\"TX\",\"TX\",\"TX\",\"WI\",\"WI\",\"WI\",\"CA\",\"CA\",\"TX\",\"TX\",\"CA\",\"CA\",\"WI\",\"TX\",\"WI\",\"WI\",\"CA\"],\"undefined\"],\"y\":[[2478,2268,2044,2293,1269,1686,1239,1575,1130,457,759,480,353,627,383,418,529,361,155,584,531,674,360,528,583,534,460,341,406,390,598,108,522,297,286,364,158,351,191,180,210,343,234,232,256,138,152,241,152,113,181,212,180,199,106,120,148,148,98,64,19,21,11,16,28,17,10,10,22,0],\"undefined\"],\"visible\":[true,false]}],\"label\":\"d_1\",\"method\":\"restyle\"},{\"args\":[{\"x\":[[\"CA\",\"CA\",\"TX\",\"WI\",\"WI\",\"TX\",\"TX\",\"CA\",\"WI\",\"CA\",\"CA\",\"TX\",\"WI\",\"CA\",\"TX\",\"TX\",\"CA\",\"CA\",\"WI\",\"WI\",\"CA\",\"CA\",\"WI\",\"CA\",\"WI\",\"TX\",\"TX\",\"CA\",\"CA\",\"TX\",\"WI\",\"WI\",\"CA\",\"CA\",\"CA\",\"TX\",\"CA\",\"CA\",\"WI\",\"CA\",\"TX\",\"WI\",\"CA\",\"TX\",\"WI\",\"TX\",\"WI\",\"TX\",\"TX\",\"CA\",\"CA\",\"CA\",\"WI\",\"TX\",\"TX\",\"TX\",\"WI\",\"WI\",\"WI\",\"CA\",\"CA\",\"TX\",\"TX\",\"CA\",\"CA\",\"WI\",\"TX\",\"WI\",\"WI\",\"CA\"],\"undefined\"],\"y\":[[2539,1959,1837,2077,873,1313,1231,1382,868,827,681,441,434,699,343,411,644,422,183,592,469,561,415,644,513,473,233,334,422,330,487,67,595,306,327,359,198,297,194,190,158,248,306,169,253,130,134,199,128,109,225,188,133,167,111,108,171,116,79,101,40,22,27,17,25,15,13,14,21,2],\"undefined\"],\"visible\":[true,false]}],\"label\":\"d_50\",\"method\":\"restyle\"},{\"args\":[{\"x\":[[\"CA\",\"CA\",\"TX\",\"WI\",\"WI\",\"TX\",\"TX\",\"CA\",\"WI\",\"CA\",\"CA\",\"TX\",\"WI\",\"CA\",\"TX\",\"TX\",\"CA\",\"CA\",\"WI\",\"WI\",\"CA\",\"CA\",\"WI\",\"CA\",\"WI\",\"TX\",\"TX\",\"CA\",\"CA\",\"TX\",\"WI\",\"WI\",\"CA\",\"CA\",\"CA\",\"TX\",\"CA\",\"CA\",\"WI\",\"CA\",\"TX\",\"WI\",\"CA\",\"TX\",\"WI\",\"TX\",\"WI\",\"TX\",\"TX\",\"CA\",\"CA\",\"CA\",\"WI\",\"TX\",\"TX\",\"TX\",\"WI\",\"WI\",\"WI\",\"CA\",\"CA\",\"TX\",\"TX\",\"CA\",\"CA\",\"WI\",\"TX\",\"WI\",\"WI\",\"CA\"],\"undefined\"],\"y\":[[1848,1406,2164,1674,478,1360,1513,694,392,374,738,342,109,219,206,334,158,140,23,246,243,143,57,71,168,201,136,235,105,162,49,14,94,82,198,143,119,71,50,92,162,73,60,105,105,90,124,99,75,53,80,36,16,89,82,55,34,87,6,49,13,30,10,8,19,1,3,0,4,8],\"undefined\"],\"visible\":[true,false]}],\"label\":\"d_300\",\"method\":\"restyle\"},{\"args\":[{\"x\":[[\"CA\",\"CA\",\"TX\",\"WI\",\"WI\",\"TX\",\"TX\",\"CA\",\"WI\",\"CA\",\"CA\",\"TX\",\"WI\",\"CA\",\"TX\",\"TX\",\"CA\",\"CA\",\"WI\",\"WI\",\"CA\",\"CA\",\"WI\",\"CA\",\"WI\",\"TX\",\"TX\",\"CA\",\"CA\",\"TX\",\"WI\",\"WI\",\"CA\",\"CA\",\"CA\",\"TX\",\"CA\",\"CA\",\"WI\",\"CA\",\"TX\",\"WI\",\"CA\",\"TX\",\"WI\",\"TX\",\"WI\",\"TX\",\"TX\",\"CA\",\"CA\",\"CA\",\"WI\",\"TX\",\"TX\",\"TX\",\"WI\",\"WI\",\"WI\",\"CA\",\"CA\",\"TX\",\"TX\",\"CA\",\"CA\",\"WI\",\"TX\",\"WI\",\"WI\",\"CA\"],\"undefined\"],\"y\":[[4358,2492,2942,3281,2086,1999,1964,1432,879,1034,1371,720,563,673,556,630,618,518,737,546,370,480,428,455,531,528,441,362,348,369,239,38,267,228,261,312,176,304,292,263,309,201,195,208,255,158,310,167,249,157,122,130,156,167,104,100,91,114,72,98,34,24,39,11,15,19,14,13,10,3],\"undefined\"],\"visible\":[true,false]}],\"label\":\"d_500\",\"method\":\"restyle\"},{\"args\":[{\"x\":[[\"CA\",\"CA\",\"TX\",\"WI\",\"WI\",\"TX\",\"TX\",\"CA\",\"WI\",\"CA\",\"CA\",\"TX\",\"WI\",\"CA\",\"TX\",\"TX\",\"CA\",\"CA\",\"WI\",\"WI\",\"CA\",\"CA\",\"WI\",\"CA\",\"WI\",\"TX\",\"TX\",\"CA\",\"CA\",\"TX\",\"WI\",\"WI\",\"CA\",\"CA\",\"CA\",\"TX\",\"CA\",\"CA\",\"WI\",\"CA\",\"TX\",\"WI\",\"CA\",\"TX\",\"WI\",\"TX\",\"WI\",\"TX\",\"TX\",\"CA\",\"CA\",\"CA\",\"WI\",\"TX\",\"TX\",\"TX\",\"WI\",\"WI\",\"WI\",\"CA\",\"CA\",\"TX\",\"TX\",\"CA\",\"CA\",\"WI\",\"TX\",\"WI\",\"WI\",\"CA\"],\"undefined\"],\"y\":[[2441,1762,1896,1868,1620,1265,1254,1108,1376,1201,746,1093,833,532,797,865,665,528,387,734,370,447,464,274,301,389,311,314,388,288,232,320,200,206,240,279,226,234,300,232,435,216,176,160,238,214,195,124,171,112,152,112,154,188,114,110,112,93,87,78,26,20,18,22,9,11,0,5,9,0],\"undefined\"],\"visible\":[true,false]}],\"label\":\"d_700\",\"method\":\"restyle\"},{\"args\":[{\"x\":[[\"CA\",\"CA\",\"TX\",\"WI\",\"WI\",\"TX\",\"TX\",\"CA\",\"WI\",\"CA\",\"CA\",\"TX\",\"WI\",\"CA\",\"TX\",\"TX\",\"CA\",\"CA\",\"WI\",\"WI\",\"CA\",\"CA\",\"WI\",\"CA\",\"WI\",\"TX\",\"TX\",\"CA\",\"CA\",\"TX\",\"WI\",\"WI\",\"CA\",\"CA\",\"CA\",\"TX\",\"CA\",\"CA\",\"WI\",\"CA\",\"TX\",\"WI\",\"CA\",\"TX\",\"WI\",\"TX\",\"WI\",\"TX\",\"TX\",\"CA\",\"CA\",\"CA\",\"WI\",\"TX\",\"TX\",\"TX\",\"WI\",\"WI\",\"WI\",\"CA\",\"CA\",\"TX\",\"TX\",\"CA\",\"CA\",\"WI\",\"TX\",\"WI\",\"WI\",\"CA\"],\"undefined\"],\"y\":[[2617,1977,1855,1880,2167,1332,1212,1134,1286,1258,989,770,775,522,586,668,639,545,733,444,579,428,465,424,282,425,347,421,387,252,302,319,282,314,278,358,372,257,303,319,338,297,187,229,179,242,158,197,148,180,149,95,179,134,97,103,87,76,101,102,14,33,31,17,14,15,11,5,14,2],\"undefined\"],\"visible\":[true,false]}],\"label\":\"d_900\",\"method\":\"restyle\"},{\"args\":[{\"x\":[[\"CA\",\"CA\",\"TX\",\"WI\",\"WI\",\"TX\",\"TX\",\"CA\",\"WI\",\"CA\",\"CA\",\"TX\",\"WI\",\"CA\",\"TX\",\"TX\",\"CA\",\"CA\",\"WI\",\"WI\",\"CA\",\"CA\",\"WI\",\"CA\",\"WI\",\"TX\",\"TX\",\"CA\",\"CA\",\"TX\",\"WI\",\"WI\",\"CA\",\"CA\",\"CA\",\"TX\",\"CA\",\"CA\",\"WI\",\"CA\",\"TX\",\"WI\",\"CA\",\"TX\",\"WI\",\"TX\",\"WI\",\"TX\",\"TX\",\"CA\",\"CA\",\"CA\",\"WI\",\"TX\",\"TX\",\"TX\",\"WI\",\"WI\",\"WI\",\"CA\",\"CA\",\"TX\",\"TX\",\"CA\",\"CA\",\"WI\",\"TX\",\"WI\",\"WI\",\"CA\"],\"undefined\"],\"y\":[[3266,3432,2573,1966,2546,2158,1910,1910,1800,1169,1670,855,1005,579,848,824,1086,973,471,698,443,641,616,659,241,406,451,307,494,361,424,483,486,469,299,333,447,326,397,422,335,294,377,318,239,231,255,259,166,267,291,164,301,169,158,166,128,128,138,153,28,40,45,63,46,43,23,28,23,13],\"undefined\"],\"visible\":[true,false]}],\"label\":\"d_1100\",\"method\":\"restyle\"},{\"args\":[{\"x\":[[\"CA\",\"CA\",\"TX\",\"WI\",\"WI\",\"TX\",\"TX\",\"CA\",\"WI\",\"CA\",\"CA\",\"TX\",\"WI\",\"CA\",\"TX\",\"TX\",\"CA\",\"CA\",\"WI\",\"WI\",\"CA\",\"CA\",\"WI\",\"CA\",\"WI\",\"TX\",\"TX\",\"CA\",\"CA\",\"TX\",\"WI\",\"WI\",\"CA\",\"CA\",\"CA\",\"TX\",\"CA\",\"CA\",\"WI\",\"CA\",\"TX\",\"WI\",\"CA\",\"TX\",\"WI\",\"TX\",\"WI\",\"TX\",\"TX\",\"CA\",\"CA\",\"CA\",\"WI\",\"TX\",\"TX\",\"TX\",\"WI\",\"WI\",\"WI\",\"CA\",\"CA\",\"TX\",\"TX\",\"CA\",\"CA\",\"WI\",\"TX\",\"WI\",\"WI\",\"CA\"],\"undefined\"],\"y\":[[4211,2841,1991,1948,2478,1766,1694,1146,2166,2034,1388,838,888,873,915,897,894,1162,1320,742,741,742,766,548,553,524,534,551,311,508,372,819,408,357,439,373,347,393,370,406,207,316,398,398,287,215,169,271,225,207,261,116,248,233,191,184,236,180,155,169,55,63,32,55,60,64,21,33,49,27],\"undefined\"],\"visible\":[true,false]}],\"label\":\"d_1500\",\"method\":\"restyle\"},{\"args\":[{\"x\":[[\"CA\",\"CA\",\"TX\",\"WI\",\"WI\",\"TX\",\"TX\",\"CA\",\"WI\",\"CA\",\"CA\",\"TX\",\"WI\",\"CA\",\"TX\",\"TX\",\"CA\",\"CA\",\"WI\",\"WI\",\"CA\",\"CA\",\"WI\",\"CA\",\"WI\",\"TX\",\"TX\",\"CA\",\"CA\",\"TX\",\"WI\",\"WI\",\"CA\",\"CA\",\"CA\",\"TX\",\"CA\",\"CA\",\"WI\",\"CA\",\"TX\",\"WI\",\"CA\",\"TX\",\"WI\",\"TX\",\"WI\",\"TX\",\"TX\",\"CA\",\"CA\",\"CA\",\"WI\",\"TX\",\"TX\",\"TX\",\"WI\",\"WI\",\"WI\",\"CA\",\"CA\",\"TX\",\"TX\",\"CA\",\"CA\",\"WI\",\"TX\",\"WI\",\"WI\",\"CA\"],\"undefined\"],\"y\":[[2517,1584,1528,1405,1441,1542,1045,1558,1189,1167,962,710,782,493,671,680,550,626,661,496,486,365,458,359,294,312,384,421,331,337,319,465,355,321,254,259,398,330,358,375,231,305,256,218,214,339,183,176,204,198,148,312,174,151,110,134,97,100,108,89,66,88,33,43,27,44,35,36,41,19],\"undefined\"],\"visible\":[true,false]}],\"label\":\"d_1700\",\"method\":\"restyle\"},{\"args\":[{\"x\":[[\"CA\",\"CA\",\"TX\",\"WI\",\"WI\",\"TX\",\"TX\",\"CA\",\"WI\",\"CA\",\"CA\",\"TX\",\"WI\",\"CA\",\"TX\",\"TX\",\"CA\",\"CA\",\"WI\",\"WI\",\"CA\",\"CA\",\"WI\",\"CA\",\"WI\",\"TX\",\"TX\",\"CA\",\"CA\",\"TX\",\"WI\",\"WI\",\"CA\",\"CA\",\"CA\",\"TX\",\"CA\",\"CA\",\"WI\",\"CA\",\"TX\",\"WI\",\"CA\",\"TX\",\"WI\",\"TX\",\"WI\",\"TX\",\"TX\",\"CA\",\"CA\",\"CA\",\"WI\",\"TX\",\"TX\",\"TX\",\"WI\",\"WI\",\"WI\",\"CA\",\"CA\",\"TX\",\"TX\",\"CA\",\"CA\",\"WI\",\"TX\",\"WI\",\"WI\",\"CA\"],\"undefined\"],\"y\":[[5576362,3927835,3725146,3520357,3144591,2997456,2781040,2429853,2330856,2147073,1938580,1254219,1214718,1202566,1160237,1145836,1106852,1100165,1092639,1017626,885518,885144,822875,821524,811498,781462,754172,736862,717687,631513,608123,600794,578283,567849,564370,560671,541858,537315,530954,530925,508516,506702,460561,459967,426000,411460,398825,386024,365656,343530,340545,332719,328492,309044,242163,238747,232139,212808,190896,188871,75429,75326,67291,59520,55154,47573,43060,41722,40668,22597],\"undefined\"],\"visible\":[true,false]}],\"label\":\"total_sales_all_days\",\"method\":\"restyle\"},{\"args\":[{\"x\":[[\"CA\",\"CA\",\"TX\",\"WI\",\"WI\",\"TX\",\"TX\",\"CA\",\"WI\",\"CA\",\"CA\",\"TX\",\"WI\",\"CA\",\"TX\",\"TX\",\"CA\",\"CA\",\"WI\",\"WI\",\"CA\",\"CA\",\"WI\",\"CA\",\"WI\",\"TX\",\"TX\",\"CA\",\"CA\",\"TX\",\"WI\",\"WI\",\"CA\",\"CA\",\"CA\",\"TX\",\"CA\",\"CA\",\"WI\",\"CA\",\"TX\",\"WI\",\"CA\",\"TX\",\"WI\",\"TX\",\"WI\",\"TX\",\"TX\",\"CA\",\"CA\",\"CA\",\"WI\",\"TX\",\"TX\",\"TX\",\"WI\",\"WI\",\"WI\",\"CA\",\"CA\",\"TX\",\"TX\",\"CA\",\"CA\",\"WI\",\"TX\",\"WI\",\"WI\",\"CA\"],\"undefined\"],\"y\":[[2062.0,1335.0,1295.0,1131.0,866.0,983.0,887.0,679.0,636.0,743.0,578.0,360.0,348.0,385.0,338.0,339.0,289.0,304.0,205.0,284.0,214.0,251.0,200.0,180.0,177.0,210.0,212.0,205.0,190.0,151.0,131.0,56.0,86.0,143.0,101.0,91.0,114.0,121.0,125.0,97.0,120.0,132.0,66.0,61.0,63.0,79.0,77.0,36.0,61.0,73.0,26.0,58.0,28.0,23.0,13.0,19.0,9.0,17.0,9.0,9.0,3.0,1.0,1.0,0.0,0.0,0.0,0.0,0.0,0.0,0.0],\"undefined\"],\"visible\":[true,false]}],\"label\":\"median_sales_all_days\",\"method\":\"restyle\"}],\"x\":0.08,\"xanchor\":\"left\",\"y\":1.13,\"yanchor\":\"top\"}],\"annotations\":[{\"showarrow\":false,\"text\":\"With<br>States\",\"x\":0.0,\"xanchor\":\"left\",\"xref\":\"paper\",\"y\":1.13,\"yref\":\"paper\"}]},                        {\"responsive\": true}                    ).then(function(){\n",
              "                            \n",
              "var gd = document.getElementById('f3f73b8b-0569-494d-bfa6-339e9b6d3684');\n",
              "var x = new MutationObserver(function (mutations, observer) {{\n",
              "        var display = window.getComputedStyle(gd).display;\n",
              "        if (!display || display === 'none') {{\n",
              "            console.log([gd, 'removed!']);\n",
              "            Plotly.purge(gd);\n",
              "            observer.disconnect();\n",
              "        }}\n",
              "}});\n",
              "\n",
              "// Listen for the removal of the full notebook cells\n",
              "var notebookContainer = gd.closest('#notebook-container');\n",
              "if (notebookContainer) {{\n",
              "    x.observe(notebookContainer, {childList: true});\n",
              "}}\n",
              "\n",
              "// Listen for the clearing of the current output cell\n",
              "var outputEl = gd.closest('.output');\n",
              "if (outputEl) {{\n",
              "    x.observe(outputEl, {childList: true});\n",
              "}}\n",
              "\n",
              "                        })                };                            </script>        </div>\n",
              "</body>\n",
              "</html>"
            ]
          },
          "metadata": {}
        }
      ]
    },
    {
      "cell_type": "markdown",
      "source": [
        "\n",
        "Phân tích dữ liệu về những điểm này giúp làm rõ rằng:\n",
        "* Về việc phân bổ doanh số bán hàng trên các id bộ phận, hầu hết doanh số bán hàng đã được thực hiện trên danh mục \"FOODS_3\", tiếp theo là hầu hết doanh số bán hàng được thực hiện trên danh mục household_1\n",
        "* Thông tin nhận dạng về ngôn ngữ của cửa hàng cùng với hệ thống quản lý state_ids được nhúng làm rõ ràng rằng việc phân bổ doanh số bán hàng trên các cửa hàng ở Texas và Wisconsin KHÔNG giống nhau, mặc dù tổng số lượng đại diện trên các danh mục (thực phẩm, nơi ở và sở thích) có thể giống nhau.\n",
        "* Các cửa hàng hoạt động tốt hơn ở Mỗi bang CA, TX và Wisonsin là các cửa hàng có id CA_3, TX_2 và WI_3 tương ứng"
      ],
      "metadata": {
        "id": "oH_NctSbgKoO"
      }
    },
    {
      "cell_type": "markdown",
      "source": [
        "**Mặt hàng cụ thể Bán chạy nhất?**"
      ],
      "metadata": {
        "id": "XL9CW0QhgyWT"
      }
    },
    {
      "cell_type": "markdown",
      "source": [],
      "metadata": {
        "id": "Ls7RdNF5g3a3"
      }
    }
  ]
}